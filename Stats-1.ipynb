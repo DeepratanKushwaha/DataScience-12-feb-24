{
 "cells": [
  {
   "cell_type": "markdown",
   "id": "69313427",
   "metadata": {},
   "source": [
    "### Mean\n",
    "\n",
    "    It gives us the average value through which we can interpret the rest of the data\n",
    "    or values. \n",
    "    \n",
    "    1. It depends on values\n",
    "    2. It is effected by outliers"
   ]
  },
  {
   "cell_type": "code",
   "execution_count": null,
   "id": "01199b7d",
   "metadata": {},
   "outputs": [],
   "source": []
  },
  {
   "cell_type": "code",
   "execution_count": 1,
   "id": "d2dbe0d4",
   "metadata": {},
   "outputs": [],
   "source": [
    "ls = [5, 8, 15, 7, 10, 22, 3, 1, 15, 10, 15, 7, 5, 8]"
   ]
  },
  {
   "cell_type": "code",
   "execution_count": 2,
   "id": "d5225b3b",
   "metadata": {},
   "outputs": [],
   "source": [
    "import numpy as np"
   ]
  },
  {
   "cell_type": "code",
   "execution_count": 3,
   "id": "43523902",
   "metadata": {},
   "outputs": [
    {
     "data": {
      "text/plain": [
       "9.357142857142858"
      ]
     },
     "execution_count": 3,
     "metadata": {},
     "output_type": "execute_result"
    }
   ],
   "source": [
    "np.mean(ls)"
   ]
  },
  {
   "cell_type": "code",
   "execution_count": null,
   "id": "d48f0c6a",
   "metadata": {},
   "outputs": [],
   "source": []
  },
  {
   "cell_type": "code",
   "execution_count": 4,
   "id": "fbd7b05e",
   "metadata": {},
   "outputs": [],
   "source": [
    "mean = sum(ls) / len(ls)"
   ]
  },
  {
   "cell_type": "code",
   "execution_count": 5,
   "id": "934cabb3",
   "metadata": {},
   "outputs": [
    {
     "data": {
      "text/plain": [
       "9.357142857142858"
      ]
     },
     "execution_count": 5,
     "metadata": {},
     "output_type": "execute_result"
    }
   ],
   "source": [
    "mean"
   ]
  },
  {
   "cell_type": "code",
   "execution_count": null,
   "id": "30587d4e",
   "metadata": {},
   "outputs": [],
   "source": []
  },
  {
   "cell_type": "code",
   "execution_count": 6,
   "id": "1a45c36b",
   "metadata": {},
   "outputs": [
    {
     "data": {
      "text/plain": [
       "8.0"
      ]
     },
     "execution_count": 6,
     "metadata": {},
     "output_type": "execute_result"
    }
   ],
   "source": [
    "np.median(ls)"
   ]
  },
  {
   "cell_type": "markdown",
   "id": "1d27c852",
   "metadata": {},
   "source": [
    "### Median\n",
    "\n",
    "    1. It gives you a center value by depending on the number of values\n",
    "    2. Before calculating median we need to sort it \n",
    "    3. Does not impact the outlier"
   ]
  },
  {
   "cell_type": "code",
   "execution_count": null,
   "id": "13ce7583",
   "metadata": {},
   "outputs": [],
   "source": []
  },
  {
   "cell_type": "markdown",
   "id": "ae0b739e",
   "metadata": {},
   "source": [
    "#### Median For Odd number of values \n",
    "\n",
    "$$ i = \\frac{N+1} {2} $$\n",
    "\n",
    "$$ median = arr[i-1] $$"
   ]
  },
  {
   "cell_type": "code",
   "execution_count": 7,
   "id": "7d078be6",
   "metadata": {},
   "outputs": [],
   "source": [
    "ls = [5, 8, 15, 7, 10, 22, 3, 1, 15, 10, 15, 7, 5, 8]"
   ]
  },
  {
   "cell_type": "code",
   "execution_count": 8,
   "id": "15c80db8",
   "metadata": {},
   "outputs": [],
   "source": [
    "ls.sort()"
   ]
  },
  {
   "cell_type": "code",
   "execution_count": 9,
   "id": "9b3b334e",
   "metadata": {},
   "outputs": [
    {
     "data": {
      "text/plain": [
       "[1, 3, 5, 5, 7, 7, 8, 8, 10, 10, 15, 15, 15, 22]"
      ]
     },
     "execution_count": 9,
     "metadata": {},
     "output_type": "execute_result"
    }
   ],
   "source": [
    "ls"
   ]
  },
  {
   "cell_type": "code",
   "execution_count": 10,
   "id": "3ed46a9b",
   "metadata": {},
   "outputs": [
    {
     "data": {
      "text/plain": [
       "14"
      ]
     },
     "execution_count": 10,
     "metadata": {},
     "output_type": "execute_result"
    }
   ],
   "source": [
    "len(ls)"
   ]
  },
  {
   "cell_type": "code",
   "execution_count": 11,
   "id": "4af9d1d2",
   "metadata": {},
   "outputs": [
    {
     "data": {
      "text/plain": [
       "22"
      ]
     },
     "execution_count": 11,
     "metadata": {},
     "output_type": "execute_result"
    }
   ],
   "source": [
    "ls.pop()"
   ]
  },
  {
   "cell_type": "code",
   "execution_count": 12,
   "id": "7f5a9440",
   "metadata": {},
   "outputs": [
    {
     "data": {
      "text/plain": [
       "[1, 3, 5, 5, 7, 7, 8, 8, 10, 10, 15, 15, 15]"
      ]
     },
     "execution_count": 12,
     "metadata": {},
     "output_type": "execute_result"
    }
   ],
   "source": [
    "ls"
   ]
  },
  {
   "cell_type": "code",
   "execution_count": 13,
   "id": "551f30c4",
   "metadata": {},
   "outputs": [
    {
     "data": {
      "text/plain": [
       "13"
      ]
     },
     "execution_count": 13,
     "metadata": {},
     "output_type": "execute_result"
    }
   ],
   "source": [
    "len(ls)"
   ]
  },
  {
   "cell_type": "code",
   "execution_count": 14,
   "id": "50bfe0f7",
   "metadata": {},
   "outputs": [],
   "source": [
    "i = (len(ls) + 1) // 2"
   ]
  },
  {
   "cell_type": "code",
   "execution_count": 15,
   "id": "61459be7",
   "metadata": {},
   "outputs": [
    {
     "data": {
      "text/plain": [
       "7"
      ]
     },
     "execution_count": 15,
     "metadata": {},
     "output_type": "execute_result"
    }
   ],
   "source": [
    "i"
   ]
  },
  {
   "cell_type": "code",
   "execution_count": 16,
   "id": "64b2eac7",
   "metadata": {},
   "outputs": [],
   "source": [
    "median = ls[i-1]"
   ]
  },
  {
   "cell_type": "code",
   "execution_count": 17,
   "id": "2e95c450",
   "metadata": {},
   "outputs": [
    {
     "data": {
      "text/plain": [
       "8"
      ]
     },
     "execution_count": 17,
     "metadata": {},
     "output_type": "execute_result"
    }
   ],
   "source": [
    "median"
   ]
  },
  {
   "cell_type": "code",
   "execution_count": null,
   "id": "99c4b032",
   "metadata": {},
   "outputs": [],
   "source": []
  },
  {
   "cell_type": "markdown",
   "id": "8fe66b47",
   "metadata": {},
   "source": [
    "#### Median For Even number of values \n",
    "\n",
    "$$ i_1 = \\frac{N} {2} $$\n",
    "\n",
    "$$ i_2 = \\frac{N+2} {2} $$\n",
    "\n",
    "$$ median = \\frac{arr[i_1-1] + arr[i_2 - 1]} {2} $$"
   ]
  },
  {
   "cell_type": "code",
   "execution_count": 18,
   "id": "d1a4e76e",
   "metadata": {},
   "outputs": [
    {
     "data": {
      "text/plain": [
       "[1, 3, 5, 5, 7, 7, 8, 8, 10, 10, 15, 15, 15]"
      ]
     },
     "execution_count": 18,
     "metadata": {},
     "output_type": "execute_result"
    }
   ],
   "source": [
    "ls"
   ]
  },
  {
   "cell_type": "code",
   "execution_count": 19,
   "id": "5f9e0ecf",
   "metadata": {},
   "outputs": [],
   "source": [
    "ls.append(12)"
   ]
  },
  {
   "cell_type": "code",
   "execution_count": 20,
   "id": "06341db0",
   "metadata": {},
   "outputs": [
    {
     "data": {
      "text/plain": [
       "[1, 3, 5, 5, 7, 7, 8, 8, 10, 10, 15, 15, 15, 12]"
      ]
     },
     "execution_count": 20,
     "metadata": {},
     "output_type": "execute_result"
    }
   ],
   "source": [
    "ls"
   ]
  },
  {
   "cell_type": "code",
   "execution_count": 21,
   "id": "e1abf3aa",
   "metadata": {},
   "outputs": [
    {
     "data": {
      "text/plain": [
       "14"
      ]
     },
     "execution_count": 21,
     "metadata": {},
     "output_type": "execute_result"
    }
   ],
   "source": [
    "len(ls)"
   ]
  },
  {
   "cell_type": "code",
   "execution_count": 22,
   "id": "0e1047ba",
   "metadata": {},
   "outputs": [],
   "source": [
    "i1 = len(ls) // 2\n",
    "i2 = (len(ls) + 2) // 2"
   ]
  },
  {
   "cell_type": "code",
   "execution_count": 23,
   "id": "99b7e5e4",
   "metadata": {},
   "outputs": [
    {
     "data": {
      "text/plain": [
       "7"
      ]
     },
     "execution_count": 23,
     "metadata": {},
     "output_type": "execute_result"
    }
   ],
   "source": [
    "i1"
   ]
  },
  {
   "cell_type": "code",
   "execution_count": 24,
   "id": "3b7fa904",
   "metadata": {},
   "outputs": [
    {
     "data": {
      "text/plain": [
       "8"
      ]
     },
     "execution_count": 24,
     "metadata": {},
     "output_type": "execute_result"
    }
   ],
   "source": [
    "i2"
   ]
  },
  {
   "cell_type": "code",
   "execution_count": 25,
   "id": "228274f6",
   "metadata": {},
   "outputs": [],
   "source": [
    "median = (ls[i1-1] + ls[i2 - 1]) // 2"
   ]
  },
  {
   "cell_type": "code",
   "execution_count": 26,
   "id": "3dab4e14",
   "metadata": {},
   "outputs": [
    {
     "data": {
      "text/plain": [
       "8"
      ]
     },
     "execution_count": 26,
     "metadata": {},
     "output_type": "execute_result"
    }
   ],
   "source": [
    "median"
   ]
  },
  {
   "cell_type": "code",
   "execution_count": 27,
   "id": "ae21912e",
   "metadata": {},
   "outputs": [
    {
     "data": {
      "text/plain": [
       "[1, 3, 5, 5, 7, 7, 8, 8, 10, 10, 15, 15, 15, 12]"
      ]
     },
     "execution_count": 27,
     "metadata": {},
     "output_type": "execute_result"
    }
   ],
   "source": [
    "ls"
   ]
  },
  {
   "cell_type": "code",
   "execution_count": 28,
   "id": "7ca80f62",
   "metadata": {},
   "outputs": [
    {
     "data": {
      "text/plain": [
       "8.0"
      ]
     },
     "execution_count": 28,
     "metadata": {},
     "output_type": "execute_result"
    }
   ],
   "source": [
    "np.median(ls)"
   ]
  },
  {
   "cell_type": "code",
   "execution_count": null,
   "id": "890e5613",
   "metadata": {},
   "outputs": [],
   "source": []
  },
  {
   "cell_type": "code",
   "execution_count": 30,
   "id": "58cbbf04",
   "metadata": {},
   "outputs": [],
   "source": [
    "def median(arr):\n",
    "    arr.sort()\n",
    "    if len(arr) % 2 == 0:\n",
    "        i1 = len(arr) // 2\n",
    "        i2 = (len(arr) + 2) // 2\n",
    "        median = (arr[i1-1] + arr[i2-1]) // 2\n",
    "        return median\n",
    "    else:\n",
    "        i = (len(arr) + 1) // 2\n",
    "        median = arr[i-1]\n",
    "        return median"
   ]
  },
  {
   "cell_type": "code",
   "execution_count": 31,
   "id": "d03f76c6",
   "metadata": {},
   "outputs": [
    {
     "data": {
      "text/plain": [
       "[1, 3, 5, 5, 7, 7, 8, 8, 10, 10, 15, 15, 15, 12]"
      ]
     },
     "execution_count": 31,
     "metadata": {},
     "output_type": "execute_result"
    }
   ],
   "source": [
    "ls"
   ]
  },
  {
   "cell_type": "code",
   "execution_count": 32,
   "id": "1788ad5a",
   "metadata": {},
   "outputs": [
    {
     "data": {
      "text/plain": [
       "8"
      ]
     },
     "execution_count": 32,
     "metadata": {},
     "output_type": "execute_result"
    }
   ],
   "source": [
    "median(ls)"
   ]
  },
  {
   "cell_type": "code",
   "execution_count": null,
   "id": "66df6d1f",
   "metadata": {},
   "outputs": [],
   "source": []
  },
  {
   "cell_type": "markdown",
   "id": "c625bc65",
   "metadata": {},
   "source": [
    "### Mode\n",
    "    \n",
    "        1. More number of occurences \n",
    "        2. It is not always the mid value"
   ]
  },
  {
   "cell_type": "code",
   "execution_count": 37,
   "id": "473780b9",
   "metadata": {},
   "outputs": [],
   "source": [
    "import numpy as np"
   ]
  },
  {
   "cell_type": "code",
   "execution_count": 38,
   "id": "a872190c",
   "metadata": {},
   "outputs": [
    {
     "name": "stdout",
     "output_type": "stream",
     "text": [
      "['India', 'Aus', 'Usa', 'India', 'Aus', 'Uk', 'Usa', 'Aus', 'Uk', 'Aus', 'India', 'Uk', 'Aus', 'Usa', 'Usa', 'Usa', 'Uk', 'Uk', 'India', 'Uk', 'Aus', 'Usa', 'Aus', 'Usa', 'Uk', 'India', 'Uk', 'Aus', 'India', 'Aus', 'Uk', 'India', 'Usa', 'Aus', 'India', 'Uk', 'Uk', 'Aus', 'India', 'Aus', 'Usa', 'India', 'Aus', 'Uk', 'Aus', 'India', 'Aus', 'Usa', 'Usa', 'India', 'Uk', 'Uk', 'Aus', 'Aus', 'Uk', 'Aus', 'Aus', 'India', 'India', 'Usa', 'Usa', 'India', 'Aus', 'Aus', 'Usa', 'Usa', 'Uk', 'Uk', 'Aus', 'Uk', 'India', 'Usa', 'Usa', 'Uk', 'Usa', 'India', 'Uk', 'Aus', 'Usa', 'Uk', 'India', 'Aus', 'India', 'India', 'Aus', 'India', 'India', 'Uk', 'India', 'Usa', 'Usa', 'India', 'Uk', 'Uk', 'India', 'Aus', 'Aus', 'India', 'Aus', 'Usa']\n"
     ]
    }
   ],
   "source": [
    "country = list(np.random.choice(['India', 'Usa', 'Uk', 'Aus'], 100, True))\n",
    "print(country)"
   ]
  },
  {
   "cell_type": "code",
   "execution_count": null,
   "id": "a0e50d61",
   "metadata": {},
   "outputs": [],
   "source": []
  },
  {
   "cell_type": "code",
   "execution_count": 39,
   "id": "444c0e05",
   "metadata": {},
   "outputs": [],
   "source": [
    "d = {}"
   ]
  },
  {
   "cell_type": "code",
   "execution_count": 40,
   "id": "d3dd4d2a",
   "metadata": {},
   "outputs": [],
   "source": [
    "for i in country:\n",
    "    d[i] = country.count(i)"
   ]
  },
  {
   "cell_type": "code",
   "execution_count": 41,
   "id": "01ffb8e1",
   "metadata": {},
   "outputs": [
    {
     "data": {
      "text/plain": [
       "{'India': 26, 'Aus': 28, 'Usa': 22, 'Uk': 24}"
      ]
     },
     "execution_count": 41,
     "metadata": {},
     "output_type": "execute_result"
    }
   ],
   "source": [
    "d"
   ]
  },
  {
   "cell_type": "code",
   "execution_count": null,
   "id": "32dfbb8e",
   "metadata": {},
   "outputs": [],
   "source": []
  },
  {
   "cell_type": "code",
   "execution_count": 44,
   "id": "a8490c90",
   "metadata": {},
   "outputs": [
    {
     "data": {
      "text/plain": [
       "28"
      ]
     },
     "execution_count": 44,
     "metadata": {},
     "output_type": "execute_result"
    }
   ],
   "source": [
    "m = max(list(d.values()))\n",
    "m"
   ]
  },
  {
   "cell_type": "code",
   "execution_count": 45,
   "id": "9617f9f9",
   "metadata": {},
   "outputs": [
    {
     "data": {
      "text/plain": [
       "dict_items([('India', 26), ('Aus', 28), ('Usa', 22), ('Uk', 24)])"
      ]
     },
     "execution_count": 45,
     "metadata": {},
     "output_type": "execute_result"
    }
   ],
   "source": [
    "d.items()"
   ]
  },
  {
   "cell_type": "code",
   "execution_count": 46,
   "id": "9fa64814",
   "metadata": {},
   "outputs": [
    {
     "name": "stdout",
     "output_type": "stream",
     "text": [
      "Aus\n"
     ]
    }
   ],
   "source": [
    "for key, value in d.items():\n",
    "    if value == m:\n",
    "        print(key)"
   ]
  },
  {
   "cell_type": "code",
   "execution_count": 47,
   "id": "762f1eb9",
   "metadata": {},
   "outputs": [],
   "source": [
    "import statistics"
   ]
  },
  {
   "cell_type": "code",
   "execution_count": 48,
   "id": "5f1442d2",
   "metadata": {},
   "outputs": [
    {
     "name": "stdout",
     "output_type": "stream",
     "text": [
      "['Counter', 'Decimal', 'Fraction', 'LinearRegression', 'NormalDist', 'StatisticsError', '__all__', '__builtins__', '__cached__', '__doc__', '__file__', '__loader__', '__name__', '__package__', '__spec__', '_coerce', '_convert', '_exact_ratio', '_fail_neg', '_find_lteq', '_find_rteq', '_isfinite', '_normal_dist_inv_cdf', '_ss', '_sum', 'bisect_left', 'bisect_right', 'correlation', 'covariance', 'erf', 'exp', 'fabs', 'fmean', 'fsum', 'geometric_mean', 'groupby', 'harmonic_mean', 'hypot', 'itemgetter', 'linear_regression', 'log', 'math', 'mean', 'median', 'median_grouped', 'median_high', 'median_low', 'mode', 'multimode', 'namedtuple', 'numbers', 'pstdev', 'pvariance', 'quantiles', 'random', 'repeat', 'sqrt', 'stdev', 'tau', 'variance']\n"
     ]
    }
   ],
   "source": [
    "print(dir(statistics))"
   ]
  },
  {
   "cell_type": "code",
   "execution_count": 49,
   "id": "b3778518",
   "metadata": {},
   "outputs": [
    {
     "data": {
      "text/plain": [
       "'Aus'"
      ]
     },
     "execution_count": 49,
     "metadata": {},
     "output_type": "execute_result"
    }
   ],
   "source": [
    "statistics.mode(country)"
   ]
  },
  {
   "cell_type": "code",
   "execution_count": null,
   "id": "5597d607",
   "metadata": {},
   "outputs": [],
   "source": []
  },
  {
   "cell_type": "code",
   "execution_count": 62,
   "id": "fa29154d",
   "metadata": {},
   "outputs": [
    {
     "name": "stdout",
     "output_type": "stream",
     "text": [
      "[22, 23, 20, 29, 22, 26, 31, 33, 20, 31, 22, 31, 28, 30, 34, 30, 31, 31, 30, 29, 27, 21, 34, 20, 32, 26, 32, 30, 31, 32, 22, 20, 29, 32, 24, 32, 22, 25, 20, 28, 23, 34, 29, 24, 23, 32, 26, 25, 22, 31, 30, 29, 26, 33, 29, 32, 33, 23, 34, 27, 29, 21, 27, 34, 30, 22, 31, 26, 34, 28, 23, 27, 28, 28, 34, 25, 23, 20, 31, 29, 20, 25, 30, 21, 21, 30, 32, 30, 21, 32, 27, 30, 24, 21, 25, 34, 34, 33, 31, 30]\n"
     ]
    }
   ],
   "source": [
    "data = list(np.random.randint(20, 35, 100))\n",
    "print(data)"
   ]
  },
  {
   "cell_type": "code",
   "execution_count": null,
   "id": "9a95bc46",
   "metadata": {},
   "outputs": [],
   "source": []
  },
  {
   "cell_type": "code",
   "execution_count": 63,
   "id": "9720b08b",
   "metadata": {},
   "outputs": [],
   "source": [
    "mean = np.mean(data)\n",
    "median = np.median(data)"
   ]
  },
  {
   "cell_type": "code",
   "execution_count": 64,
   "id": "82e988d8",
   "metadata": {},
   "outputs": [
    {
     "name": "stdout",
     "output_type": "stream",
     "text": [
      "Mean without outlier: 27.58\n",
      "Median without outlier: 29.0\n"
     ]
    }
   ],
   "source": [
    "print(f'Mean without outlier: {mean}')\n",
    "print(f'Median without outlier: {median}')"
   ]
  },
  {
   "cell_type": "code",
   "execution_count": null,
   "id": "7fbf93c6",
   "metadata": {},
   "outputs": [],
   "source": []
  },
  {
   "cell_type": "code",
   "execution_count": null,
   "id": "e4782929",
   "metadata": {},
   "outputs": [],
   "source": []
  },
  {
   "cell_type": "code",
   "execution_count": 65,
   "id": "c24e3551",
   "metadata": {},
   "outputs": [
    {
     "name": "stdout",
     "output_type": "stream",
     "text": [
      "[22, 23, 20, 29, 22, 26, 31, 33, 20, 31, 22, 31, 28, 30, 34, 30, 31, 31, 30, 29, 27, 21, 34, 20, 32, 26, 32, 30, 31, 32, 22, 20, 29, 32, 24, 32, 22, 25, 20, 28, 23, 34, 29, 24, 23, 32, 26, 25, 22, 31, 30, 29, 26, 33, 29, 32, 33, 23, 34, 27, 29, 21, 27, 34, 30, 22, 31, 26, 34, 28, 23, 27, 28, 28, 34, 25, 23, 20, 31, 29, 20, 25, 30, 21, 21, 30, 32, 30, 21, 32, 27, 30, 24, 21, 25, 34, 34, 33, 31, 30]\n"
     ]
    }
   ],
   "source": [
    "print(data)"
   ]
  },
  {
   "cell_type": "code",
   "execution_count": null,
   "id": "fa9535fb",
   "metadata": {},
   "outputs": [],
   "source": []
  },
  {
   "cell_type": "code",
   "execution_count": 66,
   "id": "b5e6e6bd",
   "metadata": {},
   "outputs": [],
   "source": [
    "data.extend([60, 65, 70, 65, 70])"
   ]
  },
  {
   "cell_type": "code",
   "execution_count": 67,
   "id": "7af5c5b2",
   "metadata": {},
   "outputs": [
    {
     "name": "stdout",
     "output_type": "stream",
     "text": [
      "[22, 23, 20, 29, 22, 26, 31, 33, 20, 31, 22, 31, 28, 30, 34, 30, 31, 31, 30, 29, 27, 21, 34, 20, 32, 26, 32, 30, 31, 32, 22, 20, 29, 32, 24, 32, 22, 25, 20, 28, 23, 34, 29, 24, 23, 32, 26, 25, 22, 31, 30, 29, 26, 33, 29, 32, 33, 23, 34, 27, 29, 21, 27, 34, 30, 22, 31, 26, 34, 28, 23, 27, 28, 28, 34, 25, 23, 20, 31, 29, 20, 25, 30, 21, 21, 30, 32, 30, 21, 32, 27, 30, 24, 21, 25, 34, 34, 33, 31, 30, 60, 65, 70, 65, 70]\n"
     ]
    }
   ],
   "source": [
    "print(data)"
   ]
  },
  {
   "cell_type": "code",
   "execution_count": 68,
   "id": "d37027bd",
   "metadata": {},
   "outputs": [
    {
     "data": {
      "text/plain": [
       "105"
      ]
     },
     "execution_count": 68,
     "metadata": {},
     "output_type": "execute_result"
    }
   ],
   "source": [
    "len(data)"
   ]
  },
  {
   "cell_type": "code",
   "execution_count": 69,
   "id": "9ee26caf",
   "metadata": {},
   "outputs": [
    {
     "name": "stdout",
     "output_type": "stream",
     "text": [
      "Mean with outlier: 29.409523809523808\n",
      "Median with outlier: 29.0\n"
     ]
    }
   ],
   "source": [
    "mean = np.mean(data)\n",
    "median = np.median(data)\n",
    "\n",
    "print(f'Mean with outlier: {mean}')\n",
    "print(f'Median with outlier: {median}')"
   ]
  },
  {
   "cell_type": "code",
   "execution_count": null,
   "id": "f9ea73fa",
   "metadata": {},
   "outputs": [],
   "source": []
  },
  {
   "cell_type": "code",
   "execution_count": 1,
   "id": "2ed8a633",
   "metadata": {},
   "outputs": [],
   "source": [
    "import numpy as np"
   ]
  },
  {
   "cell_type": "code",
   "execution_count": 2,
   "id": "40713a03",
   "metadata": {},
   "outputs": [
    {
     "name": "stdout",
     "output_type": "stream",
     "text": [
      "['India', 'Uk', 'India', 'India', 'Uk', 'Uk', 'Uk', 'Uk', 'India', 'Usa', 'Aus', 'Aus', 'Uk', 'Usa', 'Uk', 'Aus', 'India', 'Aus', 'Usa', 'Uk', 'Aus', 'Aus', 'Uk', 'Uk', 'Aus', 'Aus', 'Usa', 'Aus', 'Usa', 'Usa', 'Aus', 'Uk', 'Aus', 'Usa', 'Aus', 'Aus', 'Aus', 'Uk', 'Aus', 'India', 'India', 'Usa', 'Usa', 'India', 'India', 'Usa', 'India', 'India', 'Aus', 'India', 'Uk', 'Usa', 'India', 'India', 'Usa', 'India', 'Usa', 'Aus', 'India', 'Uk', 'Uk', 'Usa', 'Usa', 'Usa', 'Uk', 'India', 'India', 'Usa', 'India', 'Aus', 'Usa', 'India', 'India', 'Usa', 'Usa', 'Aus', 'Uk', 'India', 'Usa', 'Usa', 'Aus', 'Aus', 'India', 'India', 'India', 'Usa', 'Usa', 'India', 'Usa', 'Uk', 'Uk', 'Aus', 'Uk', 'Uk', 'Uk', 'Uk', 'Usa', 'Aus', 'Uk', 'India']\n"
     ]
    }
   ],
   "source": [
    "country = list(np.random.choice(['India', 'Usa', 'Uk', 'Aus'], 100, True))\n",
    "print(country)"
   ]
  },
  {
   "cell_type": "code",
   "execution_count": null,
   "id": "935c9c97",
   "metadata": {},
   "outputs": [],
   "source": []
  },
  {
   "cell_type": "code",
   "execution_count": 3,
   "id": "9447a6c6",
   "metadata": {},
   "outputs": [],
   "source": [
    "d = dict()"
   ]
  },
  {
   "cell_type": "code",
   "execution_count": 4,
   "id": "03eedb8d",
   "metadata": {},
   "outputs": [
    {
     "data": {
      "text/plain": [
       "{}"
      ]
     },
     "execution_count": 4,
     "metadata": {},
     "output_type": "execute_result"
    }
   ],
   "source": [
    "d"
   ]
  },
  {
   "cell_type": "code",
   "execution_count": 5,
   "id": "e7df8ba3",
   "metadata": {},
   "outputs": [],
   "source": [
    "for i in country:\n",
    "    if i not in d:\n",
    "        d[i] = 1\n",
    "    else:\n",
    "        d[i] += 1"
   ]
  },
  {
   "cell_type": "code",
   "execution_count": 6,
   "id": "b10d8d35",
   "metadata": {},
   "outputs": [
    {
     "data": {
      "text/plain": [
       "{'India': 27, 'Uk': 24, 'Usa': 26, 'Aus': 23}"
      ]
     },
     "execution_count": 6,
     "metadata": {},
     "output_type": "execute_result"
    }
   ],
   "source": [
    "d"
   ]
  },
  {
   "cell_type": "code",
   "execution_count": null,
   "id": "aa764527",
   "metadata": {},
   "outputs": [],
   "source": []
  },
  {
   "cell_type": "code",
   "execution_count": 7,
   "id": "c76f951b",
   "metadata": {},
   "outputs": [
    {
     "name": "stdout",
     "output_type": "stream",
     "text": [
      "['India', 'Uk', 'India', 'India', 'Uk', 'Uk', 'Uk', 'Uk', 'India', 'Usa', 'Aus', 'Aus', 'Uk', 'Usa', 'Uk', 'Aus', 'India', 'Aus', 'Usa', 'Uk', 'Aus', 'Aus', 'Uk', 'Uk', 'Aus', 'Aus', 'Usa', 'Aus', 'Usa', 'Usa', 'Aus', 'Uk', 'Aus', 'Usa', 'Aus', 'Aus', 'Aus', 'Uk', 'Aus', 'India', 'India', 'Usa', 'Usa', 'India', 'India', 'Usa', 'India', 'India', 'Aus', 'India', 'Uk', 'Usa', 'India', 'India', 'Usa', 'India', 'Usa', 'Aus', 'India', 'Uk', 'Uk', 'Usa', 'Usa', 'Usa', 'Uk', 'India', 'India', 'Usa', 'India', 'Aus', 'Usa', 'India', 'India', 'Usa', 'Usa', 'Aus', 'Uk', 'India', 'Usa', 'Usa', 'Aus', 'Aus', 'India', 'India', 'India', 'Usa', 'Usa', 'India', 'Usa', 'Uk', 'Uk', 'Aus', 'Uk', 'Uk', 'Uk', 'Uk', 'Usa', 'Aus', 'Uk', 'India']\n"
     ]
    }
   ],
   "source": [
    "print(country)"
   ]
  },
  {
   "cell_type": "code",
   "execution_count": 8,
   "id": "1aaa1ccd",
   "metadata": {},
   "outputs": [
    {
     "data": {
      "text/plain": [
       "{'Aus', 'India', 'Uk', 'Usa'}"
      ]
     },
     "execution_count": 8,
     "metadata": {},
     "output_type": "execute_result"
    }
   ],
   "source": [
    "set(country)"
   ]
  },
  {
   "cell_type": "code",
   "execution_count": 11,
   "id": "947b327f",
   "metadata": {},
   "outputs": [
    {
     "data": {
      "text/plain": [
       "{'Uk': 0, 'India': 0, 'Usa': 0, 'Aus': 0}"
      ]
     },
     "execution_count": 11,
     "metadata": {},
     "output_type": "execute_result"
    }
   ],
   "source": [
    "d1 = dict.fromkeys(set(country), 0)\n",
    "d1"
   ]
  },
  {
   "cell_type": "code",
   "execution_count": 13,
   "id": "552ffe2f",
   "metadata": {},
   "outputs": [],
   "source": [
    "for i in country:\n",
    "    if i in d1:\n",
    "        d1[i] += 1"
   ]
  },
  {
   "cell_type": "code",
   "execution_count": 14,
   "id": "6be22e07",
   "metadata": {},
   "outputs": [
    {
     "data": {
      "text/plain": [
       "{'Uk': 24, 'India': 27, 'Usa': 26, 'Aus': 23}"
      ]
     },
     "execution_count": 14,
     "metadata": {},
     "output_type": "execute_result"
    }
   ],
   "source": [
    "d1"
   ]
  },
  {
   "cell_type": "code",
   "execution_count": null,
   "id": "e01d09c6",
   "metadata": {},
   "outputs": [],
   "source": []
  }
 ],
 "metadata": {
  "kernelspec": {
   "display_name": "Python 3 (ipykernel)",
   "language": "python",
   "name": "python3"
  },
  "language_info": {
   "codemirror_mode": {
    "name": "ipython",
    "version": 3
   },
   "file_extension": ".py",
   "mimetype": "text/x-python",
   "name": "python",
   "nbconvert_exporter": "python",
   "pygments_lexer": "ipython3",
   "version": "3.10.9"
  }
 },
 "nbformat": 4,
 "nbformat_minor": 5
}
