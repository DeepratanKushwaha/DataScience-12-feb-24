{
 "cells": [
  {
   "cell_type": "markdown",
   "id": "db062fd8",
   "metadata": {},
   "source": [
    "#### `Analyse play store dataset and write down conclusion of the analysis and also create plots if possible.`"
   ]
  },
  {
   "cell_type": "code",
   "execution_count": null,
   "id": "a2307786",
   "metadata": {},
   "outputs": [],
   "source": []
  },
  {
   "cell_type": "markdown",
   "id": "29dd72bd",
   "metadata": {},
   "source": [
    "## que1 :- Which category of apps has big count ?"
   ]
  },
  {
   "cell_type": "code",
   "execution_count": null,
   "id": "fe48ad6a",
   "metadata": {},
   "outputs": [],
   "source": []
  },
  {
   "cell_type": "markdown",
   "id": "93589005",
   "metadata": {},
   "source": [
    "## que2 :- Top 5 Highest rating app from each category?"
   ]
  },
  {
   "cell_type": "code",
   "execution_count": null,
   "id": "93b300d9",
   "metadata": {},
   "outputs": [],
   "source": []
  },
  {
   "cell_type": "markdown",
   "id": "2d455ef6",
   "metadata": {},
   "source": [
    "## que3 :- Find number of free and paid apps."
   ]
  },
  {
   "cell_type": "code",
   "execution_count": null,
   "id": "7a0cdced",
   "metadata": {},
   "outputs": [],
   "source": []
  },
  {
   "cell_type": "markdown",
   "id": "652c1e72",
   "metadata": {},
   "source": [
    "## que4 :- Number of highest rating apps?"
   ]
  },
  {
   "cell_type": "code",
   "execution_count": null,
   "id": "20ae0a57",
   "metadata": {},
   "outputs": [],
   "source": []
  },
  {
   "cell_type": "markdown",
   "id": "5824b7e3",
   "metadata": {},
   "source": [
    "## que5 :- Find the Category & ratings of apps which are paid."
   ]
  },
  {
   "cell_type": "code",
   "execution_count": null,
   "id": "2c0d5ab1",
   "metadata": {},
   "outputs": [],
   "source": []
  },
  {
   "cell_type": "markdown",
   "id": "1aaad603",
   "metadata": {},
   "source": [
    "## que 6 :- Find the name of the apps which has installed >500,000 and rating >=4.0"
   ]
  },
  {
   "cell_type": "code",
   "execution_count": null,
   "id": "726a56a7",
   "metadata": {},
   "outputs": [],
   "source": []
  },
  {
   "cell_type": "code",
   "execution_count": null,
   "id": "9f4b7e3d",
   "metadata": {},
   "outputs": [],
   "source": []
  },
  {
   "cell_type": "markdown",
   "id": "72de4db0",
   "metadata": {},
   "source": [
    "## create your own question and solve them here."
   ]
  },
  {
   "cell_type": "code",
   "execution_count": null,
   "id": "8954c01a",
   "metadata": {},
   "outputs": [],
   "source": []
  }
 ],
 "metadata": {
  "kernelspec": {
   "display_name": "Python 3 (ipykernel)",
   "language": "python",
   "name": "python3"
  },
  "language_info": {
   "codemirror_mode": {
    "name": "ipython",
    "version": 3
   },
   "file_extension": ".py",
   "mimetype": "text/x-python",
   "name": "python",
   "nbconvert_exporter": "python",
   "pygments_lexer": "ipython3",
   "version": "3.10.9"
  }
 },
 "nbformat": 4,
 "nbformat_minor": 5
}
