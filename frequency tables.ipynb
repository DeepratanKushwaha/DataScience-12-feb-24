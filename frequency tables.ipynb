{
 "cells": [
  {
   "cell_type": "markdown",
   "id": "a523e31a",
   "metadata": {},
   "source": [
    "## discrete / ungrouped frequency table"
   ]
  },
  {
   "cell_type": "code",
   "execution_count": null,
   "id": "9e7768c4",
   "metadata": {},
   "outputs": [],
   "source": []
  },
  {
   "cell_type": "code",
   "execution_count": 2,
   "id": "78925a69",
   "metadata": {},
   "outputs": [
    {
     "name": "stdout",
     "output_type": "stream",
     "text": [
      "[6, 7, 4, 1, 1, 0, 2, 4, 1, 0, 0, 6, 6, 1, 0, 2, 0, 1, 7, 1, 3, 3, 3, 1, 1, 4, 2, 2, 3, 5, 2, 2, 3, 3, 1, 2, 5, 0, 5, 0]\n"
     ]
    }
   ],
   "source": [
    "import random\n",
    "\n",
    "discrete_data = [random.randint(0,7) for i in range(40)]\n",
    "print(discrete_data)"
   ]
  },
  {
   "cell_type": "code",
   "execution_count": null,
   "id": "2579a249",
   "metadata": {},
   "outputs": [],
   "source": []
  },
  {
   "cell_type": "markdown",
   "id": "45e4415d",
   "metadata": {},
   "source": [
    "    |Number of goals|        |freq|\n",
    "    |    0          |        |  3 |\n",
    "    |    1          |        |  2 |\n",
    "    |    2          |        | 10 |\n",
    "    |    3          |        |  5 |"
   ]
  },
  {
   "cell_type": "code",
   "execution_count": 27,
   "id": "f417d1b2",
   "metadata": {},
   "outputs": [
    {
     "name": "stdout",
     "output_type": "stream",
     "text": [
      "___________________________________\n",
      "|Number of Goals|\t|Frequency|\n",
      "___________________________________\n",
      "|\t0\t|\t|   5\t  |\n",
      "|\t1\t|\t|   6\t  |\n",
      "|\t2\t|\t|   4\t  |\n",
      "|\t3\t|\t|   4\t  |\n",
      "|\t4\t|\t|   4\t  |\n",
      "|\t5\t|\t|   5\t  |\n",
      "|\t6\t|\t|   5\t  |\n",
      "|\t7\t|\t|   7\t  |\n"
     ]
    }
   ],
   "source": [
    "import random\n",
    "\n",
    "discrete_data = [random.randint(0,7) for i in range(40)]\n",
    "# print(discrete_data)\n",
    "discrete_data.sort()\n",
    "dict1 = dict()\n",
    "\n",
    "for i in discrete_data:\n",
    "    if i not in dict1:\n",
    "        dict1[i] = 1\n",
    "    else:\n",
    "        dict1[i] += 1\n",
    "\n",
    "print('_'*35)        \n",
    "print('|Number of Goals|\\t|Frequency|')\n",
    "print('_'*35)        \n",
    "for key, value in dict1.items():\n",
    "    print(f'|\\t{key}\\t|\\t|   {value}\\t  |')"
   ]
  },
  {
   "cell_type": "code",
   "execution_count": 7,
   "id": "ac05e280",
   "metadata": {},
   "outputs": [
    {
     "name": "stdout",
     "output_type": "stream",
     "text": [
      "{0: 7, 1: 4, 2: 3, 3: 8, 4: 3, 5: 6, 6: 6, 7: 3}\n"
     ]
    }
   ],
   "source": [
    "print(dict1)"
   ]
  },
  {
   "cell_type": "code",
   "execution_count": null,
   "id": "2d28ed58",
   "metadata": {},
   "outputs": [],
   "source": []
  },
  {
   "cell_type": "markdown",
   "id": "4c35c9e2",
   "metadata": {},
   "source": [
    "## grouped frequency distribution table exclusive method"
   ]
  },
  {
   "cell_type": "code",
   "execution_count": 28,
   "id": "397768f3",
   "metadata": {},
   "outputs": [],
   "source": [
    "import numpy as np"
   ]
  },
  {
   "cell_type": "code",
   "execution_count": 36,
   "id": "9f4bb092",
   "metadata": {},
   "outputs": [],
   "source": [
    "arr = np.random.randint(0, 50, 30)\n",
    "N = len(arr)\n",
    "k = round(1 + 3.322*np.log10(N))\n",
    "range_ = max(arr) - min(arr)\n",
    "c = range_ // k\n"
   ]
  },
  {
   "cell_type": "code",
   "execution_count": 37,
   "id": "4c9cbb55",
   "metadata": {},
   "outputs": [
    {
     "name": "stdout",
     "output_type": "stream",
     "text": [
      "Number of class intervals: 6\n",
      "Size of class intervals: 7\n"
     ]
    }
   ],
   "source": [
    "print(f'Number of class intervals: {k}')\n",
    "print(f'Size of class intervals: {c}')"
   ]
  },
  {
   "cell_type": "code",
   "execution_count": 38,
   "id": "ffd63962",
   "metadata": {},
   "outputs": [
    {
     "data": {
      "text/plain": [
       "array([ 4, 30,  3, 22, 12, 30, 10,  0, 47, 42,  8, 30, 17, 21, 19,  2, 12,\n",
       "        3, 41, 13, 42, 32,  4, 12, 26, 35, 41, 13,  7,  3])"
      ]
     },
     "execution_count": 38,
     "metadata": {},
     "output_type": "execute_result"
    }
   ],
   "source": [
    "arr"
   ]
  },
  {
   "cell_type": "code",
   "execution_count": 39,
   "id": "045305bf",
   "metadata": {},
   "outputs": [
    {
     "data": {
      "text/plain": [
       "0"
      ]
     },
     "execution_count": 39,
     "metadata": {},
     "output_type": "execute_result"
    }
   ],
   "source": [
    "min(arr)"
   ]
  },
  {
   "cell_type": "code",
   "execution_count": 40,
   "id": "ec1fcd6f",
   "metadata": {},
   "outputs": [
    {
     "data": {
      "text/plain": [
       "47"
      ]
     },
     "execution_count": 40,
     "metadata": {},
     "output_type": "execute_result"
    }
   ],
   "source": [
    "max(arr)"
   ]
  },
  {
   "cell_type": "code",
   "execution_count": null,
   "id": "fceff47f",
   "metadata": {},
   "outputs": [],
   "source": [
    "0-7\n",
    "7-14\n",
    "14-21"
   ]
  },
  {
   "cell_type": "code",
   "execution_count": 41,
   "id": "72c13adc",
   "metadata": {},
   "outputs": [
    {
     "data": {
      "text/plain": [
       "7"
      ]
     },
     "execution_count": 41,
     "metadata": {},
     "output_type": "execute_result"
    }
   ],
   "source": [
    "min(arr) + c"
   ]
  },
  {
   "cell_type": "code",
   "execution_count": 43,
   "id": "90961ec4",
   "metadata": {},
   "outputs": [],
   "source": [
    "intervals = []"
   ]
  },
  {
   "cell_type": "code",
   "execution_count": 44,
   "id": "feaa67b4",
   "metadata": {},
   "outputs": [],
   "source": [
    "for i in range(min(arr), max(arr), c):\n",
    "    intervals.append([i, i+c])"
   ]
  },
  {
   "cell_type": "code",
   "execution_count": 45,
   "id": "2abdd88a",
   "metadata": {},
   "outputs": [
    {
     "data": {
      "text/plain": [
       "[[0, 7], [7, 14], [14, 21], [21, 28], [28, 35], [35, 42], [42, 49]]"
      ]
     },
     "execution_count": 45,
     "metadata": {},
     "output_type": "execute_result"
    }
   ],
   "source": [
    "intervals"
   ]
  },
  {
   "cell_type": "code",
   "execution_count": null,
   "id": "1c91edf9",
   "metadata": {},
   "outputs": [],
   "source": []
  },
  {
   "cell_type": "code",
   "execution_count": 47,
   "id": "e3267545",
   "metadata": {},
   "outputs": [
    {
     "data": {
      "text/plain": [
       "array([ 4, 30,  3, 22, 12, 30, 10,  0, 47, 42,  8, 30, 17, 21, 19,  2, 12,\n",
       "        3, 41, 13, 42, 32,  4, 12, 26, 35, 41, 13,  7,  3])"
      ]
     },
     "execution_count": 47,
     "metadata": {},
     "output_type": "execute_result"
    }
   ],
   "source": [
    "arr"
   ]
  },
  {
   "cell_type": "code",
   "execution_count": null,
   "id": "2217539c",
   "metadata": {},
   "outputs": [],
   "source": []
  },
  {
   "cell_type": "code",
   "execution_count": 54,
   "id": "f3d8eb37",
   "metadata": {},
   "outputs": [
    {
     "name": "stdout",
     "output_type": "stream",
     "text": [
      "[[2, 9], [9, 16], [16, 23], [23, 30], [30, 37], [37, 44], [44, 51]]\n"
     ]
    }
   ],
   "source": [
    "import numpy as np\n",
    "\n",
    "arr = np.random.randint(0, 50, 30)\n",
    "N = len(arr)\n",
    "k = round(1 + 3.322*np.log10(N))\n",
    "range_ = max(arr) - min(arr)\n",
    "c = range_ // k\n",
    "\n",
    "intervals = []\n",
    "\n",
    "for i in range(min(arr), max(arr), c):\n",
    "    intervals.append([i, i+c])\n",
    "    \n",
    "print(intervals)\n",
    "\n",
    "count = []\n",
    "for i in intervals:\n",
    "    c1 = 0\n",
    "    for j in arr:\n",
    "        if j in range(*i):\n",
    "            c1 += 1\n",
    "    count.append(c1)"
   ]
  },
  {
   "cell_type": "code",
   "execution_count": null,
   "id": "e01f230a",
   "metadata": {},
   "outputs": [],
   "source": []
  },
  {
   "cell_type": "code",
   "execution_count": 55,
   "id": "77e66032",
   "metadata": {},
   "outputs": [
    {
     "name": "stdout",
     "output_type": "stream",
     "text": [
      "[8, 4, 5, 4, 3, 3, 3]\n"
     ]
    }
   ],
   "source": [
    "print(count)"
   ]
  },
  {
   "cell_type": "code",
   "execution_count": 56,
   "id": "6da7023e",
   "metadata": {},
   "outputs": [
    {
     "data": {
      "text/plain": [
       "30"
      ]
     },
     "execution_count": 56,
     "metadata": {},
     "output_type": "execute_result"
    }
   ],
   "source": [
    "sum(count)"
   ]
  },
  {
   "cell_type": "code",
   "execution_count": 6,
   "id": "3df20445",
   "metadata": {},
   "outputs": [
    {
     "name": "stdout",
     "output_type": "stream",
     "text": [
      "____________________________________________________________\n",
      "|\tIntervals\t\t|\tFrequency\t|\n",
      "____________________________________________________________\n",
      "|\t0 - 8\t\t\t|\t6\t\t|\n",
      "------------------------------------------------------------\n",
      "|\t8 - 16\t\t\t|\t1\t\t|\n",
      "------------------------------------------------------------\n",
      "|\t16 - 24\t\t\t|\t5\t\t|\n",
      "------------------------------------------------------------\n",
      "|\t24 - 32\t\t\t|\t10\t\t|\n",
      "------------------------------------------------------------\n",
      "|\t32 - 40\t\t\t|\t3\t\t|\n",
      "------------------------------------------------------------\n",
      "|\t40 - 48\t\t\t|\t4\t\t|\n",
      "------------------------------------------------------------\n",
      "|\t48 - 56\t\t\t|\t1\t\t|\n",
      "------------------------------------------------------------\n"
     ]
    }
   ],
   "source": [
    "import numpy as np\n",
    "\n",
    "arr = np.random.randint(0, 50, 30)\n",
    "N = len(arr)\n",
    "k = round(1 + 3.322*np.log10(N))\n",
    "range_ = max(arr) - min(arr)\n",
    "c = range_ // k\n",
    "\n",
    "intervals = []\n",
    "\n",
    "for i in range(min(arr), max(arr), c):\n",
    "    intervals.append([i, i+c])\n",
    "    \n",
    "# print(intervals)\n",
    "\n",
    "count = []\n",
    "for i in intervals:\n",
    "    c1 = 0\n",
    "    for j in arr:\n",
    "        if j in range(*i):\n",
    "            c1 += 1\n",
    "    count.append(c1)\n",
    "print('_'*60)\n",
    "print('|\\tIntervals\\t\\t|\\tFrequency\\t|')   \n",
    "print('_'*60)\n",
    "\n",
    "for key, value in zip(intervals, count):\n",
    "    print(f\"|\\t{key[0]} - {key[1]}\\t\\t\\t|\\t{value}\\t\\t|\")\n",
    "    print('-'*60)"
   ]
  },
  {
   "cell_type": "code",
   "execution_count": 7,
   "id": "55bebc3f",
   "metadata": {},
   "outputs": [
    {
     "data": {
      "text/plain": [
       "30"
      ]
     },
     "execution_count": 7,
     "metadata": {},
     "output_type": "execute_result"
    }
   ],
   "source": [
    "sum(count)"
   ]
  },
  {
   "cell_type": "code",
   "execution_count": 8,
   "id": "bc847a88",
   "metadata": {},
   "outputs": [
    {
     "data": {
      "text/plain": [
       "6"
      ]
     },
     "execution_count": 8,
     "metadata": {},
     "output_type": "execute_result"
    }
   ],
   "source": [
    "k"
   ]
  },
  {
   "cell_type": "markdown",
   "id": "90f3e9bc",
   "metadata": {},
   "source": [
    "## grouped frequency distribution table inclusive method"
   ]
  },
  {
   "cell_type": "code",
   "execution_count": 12,
   "id": "b6cd6df4",
   "metadata": {},
   "outputs": [
    {
     "name": "stdout",
     "output_type": "stream",
     "text": [
      "____________________________________________________________\n",
      "|\tIntervals\t\t|\tFrequency\t|\n",
      "____________________________________________________________\n",
      "|\t0 - 8\t\t\t|\t7\t\t|\n",
      "------------------------------------------------------------\n",
      "|\t9 - 17\t\t\t|\t7\t\t|\n",
      "------------------------------------------------------------\n",
      "|\t18 - 26\t\t\t|\t4\t\t|\n",
      "------------------------------------------------------------\n",
      "|\t27 - 35\t\t\t|\t6\t\t|\n",
      "------------------------------------------------------------\n",
      "|\t36 - 44\t\t\t|\t4\t\t|\n",
      "------------------------------------------------------------\n",
      "|\t45 - 53\t\t\t|\t2\t\t|\n",
      "------------------------------------------------------------\n"
     ]
    }
   ],
   "source": [
    "import numpy as np\n",
    "\n",
    "arr = np.random.randint(0, 50, 30)\n",
    "N = len(arr)\n",
    "k = round(1 + 3.322*np.log10(N))\n",
    "range_ = max(arr) - min(arr)\n",
    "c = range_ // k\n",
    "\n",
    "intervals = []\n",
    "\n",
    "for i in range(min(arr), max(arr), c+1):\n",
    "    intervals.append([i, i+c])\n",
    "    \n",
    "# print(intervals)\n",
    "\n",
    "count = []\n",
    "for i in intervals:\n",
    "    c1 = 0\n",
    "    for j in arr:\n",
    "        if j in range(i[0], i[1]+1):\n",
    "            c1 += 1\n",
    "    count.append(c1)\n",
    "print('_'*60)\n",
    "print('|\\tIntervals\\t\\t|\\tFrequency\\t|')   \n",
    "print('_'*60)\n",
    "\n",
    "for key, value in zip(intervals, count):\n",
    "    print(f\"|\\t{key[0]} - {key[1]}\\t\\t\\t|\\t{value}\\t\\t|\")\n",
    "    print('-'*60)"
   ]
  },
  {
   "cell_type": "code",
   "execution_count": null,
   "id": "a99b343e",
   "metadata": {},
   "outputs": [],
   "source": []
  },
  {
   "cell_type": "code",
   "execution_count": 13,
   "id": "80c1d913",
   "metadata": {},
   "outputs": [
    {
     "data": {
      "text/plain": [
       "30"
      ]
     },
     "execution_count": 13,
     "metadata": {},
     "output_type": "execute_result"
    }
   ],
   "source": [
    "sum(count)"
   ]
  },
  {
   "cell_type": "code",
   "execution_count": 14,
   "id": "17afff91",
   "metadata": {},
   "outputs": [
    {
     "data": {
      "text/plain": [
       "6"
      ]
     },
     "execution_count": 14,
     "metadata": {},
     "output_type": "execute_result"
    }
   ],
   "source": [
    "k"
   ]
  },
  {
   "cell_type": "markdown",
   "id": "0b88bce0",
   "metadata": {},
   "source": [
    "## Percentage frequency table"
   ]
  },
  {
   "cell_type": "code",
   "execution_count": 21,
   "id": "404c702e",
   "metadata": {},
   "outputs": [
    {
     "name": "stdout",
     "output_type": "stream",
     "text": [
      "__________________________________________________________________________________________\n",
      "|\tIntervals\t\t|\tFrequency\t|\tFrequency Percentage\t|\n",
      "__________________________________________________________________________________________\n",
      "|\t0 - 8\t\t\t|\t1\t\t|\t3\t\t\t|\n",
      "------------------------------------------------------------------------------------------\n",
      "|\t8 - 16\t\t\t|\t5\t\t|\t17\t\t\t|\n",
      "------------------------------------------------------------------------------------------\n",
      "|\t16 - 24\t\t\t|\t4\t\t|\t13\t\t\t|\n",
      "------------------------------------------------------------------------------------------\n",
      "|\t24 - 32\t\t\t|\t4\t\t|\t13\t\t\t|\n",
      "------------------------------------------------------------------------------------------\n",
      "|\t32 - 40\t\t\t|\t7\t\t|\t23\t\t\t|\n",
      "------------------------------------------------------------------------------------------\n",
      "|\t40 - 48\t\t\t|\t7\t\t|\t23\t\t\t|\n",
      "------------------------------------------------------------------------------------------\n",
      "|\t48 - 56\t\t\t|\t2\t\t|\t7\t\t\t|\n",
      "------------------------------------------------------------------------------------------\n"
     ]
    }
   ],
   "source": [
    "import numpy as np\n",
    "\n",
    "arr = np.random.randint(0, 50, 30)\n",
    "N = len(arr)\n",
    "k = round(1 + 3.322*np.log10(N))\n",
    "range_ = max(arr) - min(arr)\n",
    "c = range_ // k\n",
    "\n",
    "intervals = []\n",
    "\n",
    "for i in range(min(arr), max(arr), c):\n",
    "    intervals.append([i, i+c])\n",
    "    \n",
    "# print(intervals)\n",
    "\n",
    "count = []\n",
    "for i in intervals:\n",
    "    c1 = 0\n",
    "    for j in arr:\n",
    "        if j in range(*i):\n",
    "            c1 += 1\n",
    "    count.append(c1)\n",
    "    \n",
    "frequency_percentage = []\n",
    "for i in count:\n",
    "    percentage = round((i / N)*100)\n",
    "    frequency_percentage.append(percentage)\n",
    "\n",
    "    \n",
    "print('_'*90)\n",
    "print('|\\tIntervals\\t\\t|\\tFrequency\\t|\\tFrequency Percentage\\t|')   \n",
    "print('_'*90)\n",
    "\n",
    "for key, value, per in zip(intervals, count, frequency_percentage):\n",
    "    print(f\"|\\t{key[0]} - {key[1]}\\t\\t\\t|\\t{value}\\t\\t|\\t{per}\\t\\t\\t|\")\n",
    "    print('-'*90)"
   ]
  },
  {
   "cell_type": "code",
   "execution_count": null,
   "id": "30c6c676",
   "metadata": {},
   "outputs": [],
   "source": []
  },
  {
   "cell_type": "code",
   "execution_count": null,
   "id": "10c40195",
   "metadata": {},
   "outputs": [],
   "source": []
  },
  {
   "cell_type": "code",
   "execution_count": 25,
   "id": "e5e8a740",
   "metadata": {},
   "outputs": [
    {
     "name": "stdout",
     "output_type": "stream",
     "text": [
      "____________________________________________________________\n",
      "|\tIntervals\t\t|\tFrequency\t|\n",
      "____________________________________________________________\n",
      "|\t3 - 10\t\t\t|\t4\t\t|\n",
      "------------------------------------------------------------\n",
      "|\t10 - 17\t\t\t|\t4\t\t|\n",
      "------------------------------------------------------------\n",
      "|\t17 - 24\t\t\t|\t2\t\t|\n",
      "------------------------------------------------------------\n",
      "|\t24 - 31\t\t\t|\t6\t\t|\n",
      "------------------------------------------------------------\n",
      "|\t31 - 38\t\t\t|\t4\t\t|\n",
      "------------------------------------------------------------\n",
      "|\t38 - 45\t\t\t|\t8\t\t|\n",
      "------------------------------------------------------------\n",
      "|\t45 - 52\t\t\t|\t2\t\t|\n",
      "------------------------------------------------------------\n"
     ]
    }
   ],
   "source": [
    "import numpy as np\n",
    "\n",
    "arr = np.random.randint(0, 50, 30)\n",
    "N = len(arr)\n",
    "k = round(1 + 3.322*np.log10(N))\n",
    "range_ = max(arr) - min(arr)\n",
    "c = range_ // k\n",
    "\n",
    "intervals = []\n",
    "\n",
    "for i in range(min(arr), max(arr), c):\n",
    "    intervals.append([i, i+c])\n",
    "    \n",
    "# print(intervals)\n",
    "\n",
    "count = []\n",
    "for i in intervals:\n",
    "    c1 = 0\n",
    "    for j in arr:\n",
    "        if j in range(*i):\n",
    "            c1 += 1\n",
    "    count.append(c1)\n",
    "\n",
    "lcf = []\n",
    "a = 0\n",
    "for i in count:\n",
    "    b = a + i\n",
    "    a = b\n",
    "    lcf.append(b)\n",
    "\n",
    "print('_'*60)\n",
    "print('|\\tIntervals\\t\\t|\\tFrequency\\t|')   \n",
    "print('_'*60)\n",
    "\n",
    "for key, value in zip(intervals, count):\n",
    "    print(f\"|\\t{key[0]} - {key[1]}\\t\\t\\t|\\t{value}\\t\\t|\")\n",
    "    print('-'*60)"
   ]
  },
  {
   "cell_type": "code",
   "execution_count": 26,
   "id": "fcd5dcff",
   "metadata": {},
   "outputs": [
    {
     "data": {
      "text/plain": [
       "[4, 8, 10, 16, 20, 28, 30]"
      ]
     },
     "execution_count": 26,
     "metadata": {},
     "output_type": "execute_result"
    }
   ],
   "source": [
    "lcf"
   ]
  },
  {
   "cell_type": "code",
   "execution_count": null,
   "id": "e8f35b07",
   "metadata": {},
   "outputs": [],
   "source": []
  },
  {
   "cell_type": "code",
   "execution_count": null,
   "id": "c9beed27",
   "metadata": {},
   "outputs": [],
   "source": []
  },
  {
   "cell_type": "code",
   "execution_count": null,
   "id": "575e8a82",
   "metadata": {},
   "outputs": [],
   "source": []
  },
  {
   "cell_type": "code",
   "execution_count": null,
   "id": "1ace18ac",
   "metadata": {},
   "outputs": [],
   "source": []
  },
  {
   "cell_type": "code",
   "execution_count": null,
   "id": "180341a4",
   "metadata": {},
   "outputs": [],
   "source": []
  }
 ],
 "metadata": {
  "kernelspec": {
   "display_name": "Python 3 (ipykernel)",
   "language": "python",
   "name": "python3"
  },
  "language_info": {
   "codemirror_mode": {
    "name": "ipython",
    "version": 3
   },
   "file_extension": ".py",
   "mimetype": "text/x-python",
   "name": "python",
   "nbconvert_exporter": "python",
   "pygments_lexer": "ipython3",
   "version": "3.10.9"
  }
 },
 "nbformat": 4,
 "nbformat_minor": 5
}
