{
 "cells": [
  {
   "cell_type": "code",
   "execution_count": null,
   "id": "ec9b4448",
   "metadata": {},
   "outputs": [],
   "source": []
  },
  {
   "cell_type": "markdown",
   "id": "06361e77",
   "metadata": {},
   "source": [
    "# Function"
   ]
  },
  {
   "cell_type": "code",
   "execution_count": null,
   "id": "0b759dc3",
   "metadata": {},
   "outputs": [],
   "source": []
  },
  {
   "cell_type": "code",
   "execution_count": 1,
   "id": "bdbd1a62",
   "metadata": {},
   "outputs": [],
   "source": [
    "def even_odd(num):\n",
    "    \n",
    "    if num % 2 == 0:\n",
    "        return True\n",
    "    else:\n",
    "        return False"
   ]
  },
  {
   "cell_type": "code",
   "execution_count": null,
   "id": "c0aca907",
   "metadata": {},
   "outputs": [],
   "source": [
    "even_odd()"
   ]
  },
  {
   "cell_type": "code",
   "execution_count": null,
   "id": "6814ddcb",
   "metadata": {},
   "outputs": [],
   "source": []
  },
  {
   "cell_type": "code",
   "execution_count": 5,
   "id": "9efc5cad",
   "metadata": {},
   "outputs": [
    {
     "name": "stdout",
     "output_type": "stream",
     "text": [
      "Writing file.py\n"
     ]
    }
   ],
   "source": [
    "%%writefile file.py\n",
    "\n",
    "def add(a,b):\n",
    "    return a+b\n",
    "\n",
    "def sub(a,b):\n",
    "    return a-b\n",
    "\n",
    "def mul(a,b):\n",
    "    return a*b\n",
    "\n",
    "def div(a,b):\n",
    "    return a/b\n",
    "\n",
    "if __name__ == '__main__':\n",
    "    a = int(input())\n",
    "    b = int(input())\n",
    "    print(add(a,b))\n",
    "    "
   ]
  },
  {
   "cell_type": "code",
   "execution_count": null,
   "id": "67e88d31",
   "metadata": {},
   "outputs": [],
   "source": []
  },
  {
   "cell_type": "code",
   "execution_count": 6,
   "id": "568c1b0a",
   "metadata": {},
   "outputs": [],
   "source": [
    "def user_details(name, age, address):\n",
    "    print(f\"User_name: {name}\")\n",
    "    print(f\"User_age: {age}\")\n",
    "    print(f\"User_address: {address}\")"
   ]
  },
  {
   "cell_type": "code",
   "execution_count": 7,
   "id": "5050ebc1",
   "metadata": {},
   "outputs": [
    {
     "name": "stdout",
     "output_type": "stream",
     "text": [
      "User_name: sachin\n",
      "User_age: 25\n",
      "User_address: jaipur\n"
     ]
    }
   ],
   "source": [
    "user_details('sachin', 25, 'jaipur')"
   ]
  },
  {
   "cell_type": "code",
   "execution_count": 9,
   "id": "a73d0ea8",
   "metadata": {},
   "outputs": [
    {
     "ename": "TypeError",
     "evalue": "user_details() missing 2 required positional arguments: 'age' and 'address'",
     "output_type": "error",
     "traceback": [
      "\u001b[1;31m---------------------------------------------------------------------------\u001b[0m",
      "\u001b[1;31mTypeError\u001b[0m                                 Traceback (most recent call last)",
      "Cell \u001b[1;32mIn[9], line 1\u001b[0m\n\u001b[1;32m----> 1\u001b[0m \u001b[43muser_details\u001b[49m\u001b[43m(\u001b[49m\u001b[38;5;124;43m'\u001b[39;49m\u001b[38;5;124;43msachin\u001b[39;49m\u001b[38;5;124;43m'\u001b[39;49m\u001b[43m)\u001b[49m\n",
      "\u001b[1;31mTypeError\u001b[0m: user_details() missing 2 required positional arguments: 'age' and 'address'"
     ]
    }
   ],
   "source": [
    "user_details('sachin')"
   ]
  },
  {
   "cell_type": "code",
   "execution_count": 10,
   "id": "32dea2ac",
   "metadata": {},
   "outputs": [
    {
     "name": "stdout",
     "output_type": "stream",
     "text": [
      "User_name: 25\n",
      "User_age: ravi\n",
      "User_address: jaipur\n"
     ]
    }
   ],
   "source": [
    "user_details(25, 'ravi', 'jaipur')"
   ]
  },
  {
   "cell_type": "code",
   "execution_count": null,
   "id": "9827d0bf",
   "metadata": {},
   "outputs": [],
   "source": []
  },
  {
   "cell_type": "code",
   "execution_count": 12,
   "id": "2a008d8e",
   "metadata": {},
   "outputs": [
    {
     "name": "stdout",
     "output_type": "stream",
     "text": [
      "hello world\n"
     ]
    }
   ],
   "source": [
    "print('hello', end=' ')\n",
    "print('world')"
   ]
  },
  {
   "cell_type": "code",
   "execution_count": null,
   "id": "cb2ef44e",
   "metadata": {},
   "outputs": [],
   "source": []
  },
  {
   "cell_type": "code",
   "execution_count": null,
   "id": "44affade",
   "metadata": {},
   "outputs": [],
   "source": []
  },
  {
   "cell_type": "code",
   "execution_count": null,
   "id": "5d361d96",
   "metadata": {},
   "outputs": [],
   "source": []
  },
  {
   "cell_type": "code",
   "execution_count": 13,
   "id": "b18dc2f5",
   "metadata": {},
   "outputs": [],
   "source": [
    "def demo(a, b=50):\n",
    "    print(a+b)"
   ]
  },
  {
   "cell_type": "code",
   "execution_count": 14,
   "id": "5fdda631",
   "metadata": {},
   "outputs": [
    {
     "name": "stdout",
     "output_type": "stream",
     "text": [
      "10\n"
     ]
    }
   ],
   "source": [
    "demo(5,5)"
   ]
  },
  {
   "cell_type": "code",
   "execution_count": 15,
   "id": "47b2616f",
   "metadata": {},
   "outputs": [
    {
     "name": "stdout",
     "output_type": "stream",
     "text": [
      "60\n"
     ]
    }
   ],
   "source": [
    "demo(10)"
   ]
  },
  {
   "cell_type": "code",
   "execution_count": null,
   "id": "04e66b5c",
   "metadata": {},
   "outputs": [],
   "source": []
  },
  {
   "cell_type": "code",
   "execution_count": 16,
   "id": "b776443b",
   "metadata": {},
   "outputs": [],
   "source": [
    "def user_details(name, age, address):\n",
    "    print(f\"User_name: {name}\")\n",
    "    print(f\"User_age: {age}\")\n",
    "    print(f\"User_address: {address}\")"
   ]
  },
  {
   "cell_type": "code",
   "execution_count": 17,
   "id": "3274dcf9",
   "metadata": {},
   "outputs": [
    {
     "name": "stdout",
     "output_type": "stream",
     "text": [
      "User_name: harsh\n",
      "User_age: 25\n",
      "User_address: jaipur\n"
     ]
    }
   ],
   "source": [
    "user_details(name='harsh', address='jaipur', age=25)"
   ]
  },
  {
   "cell_type": "code",
   "execution_count": null,
   "id": "68631130",
   "metadata": {},
   "outputs": [],
   "source": []
  },
  {
   "cell_type": "markdown",
   "id": "c82ef40f",
   "metadata": {},
   "source": [
    "    *var"
   ]
  },
  {
   "cell_type": "code",
   "execution_count": null,
   "id": "49ffcf3b",
   "metadata": {},
   "outputs": [],
   "source": []
  },
  {
   "cell_type": "code",
   "execution_count": 20,
   "id": "250cdd05",
   "metadata": {},
   "outputs": [],
   "source": [
    "def addition(*var):\n",
    "    print(sum(var))"
   ]
  },
  {
   "cell_type": "code",
   "execution_count": 21,
   "id": "23635399",
   "metadata": {},
   "outputs": [
    {
     "name": "stdout",
     "output_type": "stream",
     "text": [
      "280\n"
     ]
    }
   ],
   "source": [
    "addition(10,20,30,40,50,60,70)"
   ]
  },
  {
   "cell_type": "code",
   "execution_count": null,
   "id": "20d6e377",
   "metadata": {},
   "outputs": [],
   "source": []
  },
  {
   "cell_type": "code",
   "execution_count": 26,
   "id": "157dedb5",
   "metadata": {},
   "outputs": [
    {
     "data": {
      "text/plain": [
       "{'__name__': '__main__',\n",
       " '__doc__': 'Automatically created module for IPython interactive environment',\n",
       " '__package__': None,\n",
       " '__loader__': None,\n",
       " '__spec__': None,\n",
       " '__builtin__': <module 'builtins' (built-in)>,\n",
       " '__builtins__': <module 'builtins' (built-in)>,\n",
       " '_ih': ['',\n",
       "  'def even_odd(num):\\n    if num % 2 == 0:\\n        return True\\n    else:\\n        return False',\n",
       "  \"def add(a,b):\\n    return a+b\\n\\ndef sub(a,b):\\n    return a-b\\n\\ndef mul(a,b):\\n    return a*b\\n\\ndef div(a,b):\\n    return a/b\\n\\nif __name__ == '__main__':\\n    print(add(int(input()), int(input()))))\\n    \",\n",
       "  \"def add(a,b):\\n    return a+b\\n\\ndef sub(a,b):\\n    return a-b\\n\\ndef mul(a,b):\\n    return a*b\\n\\ndef div(a,b):\\n    return a/b\\n\\nif __name__ == '__main__':\\n    print(add(int(input()), int(input())))\\n    \",\n",
       "  \"def add(a,b):\\n    return a+b\\n\\ndef sub(a,b):\\n    return a-b\\n\\ndef mul(a,b):\\n    return a*b\\n\\ndef div(a,b):\\n    return a/b\\n\\nif __name__ == '__main__':\\n    a = int(input())\\n    b = int(input())\\n    print(add(a,b))\\n    \",\n",
       "  'get_ipython().run_cell_magic(\\'writefile\\', \\'file.py\\', \"\\\\ndef add(a,b):\\\\n    return a+b\\\\n\\\\ndef sub(a,b):\\\\n    return a-b\\\\n\\\\ndef mul(a,b):\\\\n    return a*b\\\\n\\\\ndef div(a,b):\\\\n    return a/b\\\\n\\\\nif __name__ == \\'__main__\\':\\\\n    a = int(input())\\\\n    b = int(input())\\\\n    print(add(a,b))\\\\n    \\\\n\")',\n",
       "  'def user_details(name, age, address):\\n    print(f\"User_name: {name}\")\\n    print(f\"User_age: {age}\")\\n    print(f\"User_address: {address}\")',\n",
       "  \"user_details('sachin', 25, 'jaipur')\",\n",
       "  'user_details()',\n",
       "  \"user_details('sachin')\",\n",
       "  \"user_details(25, 'ravi', 'jaipur')\",\n",
       "  \"print('hello')\\nprint('world')\",\n",
       "  \"print('hello', end=' ')\\nprint('world')\",\n",
       "  'def demo(a, b=50):\\n    print(a+b)',\n",
       "  'demo(5,5)',\n",
       "  'demo(10)',\n",
       "  'def user_details(name, age, address):\\n    print(f\"User_name: {name}\")\\n    print(f\"User_age: {age}\")\\n    print(f\"User_address: {address}\")',\n",
       "  \"user_details(name='harsh', address='jaipur', age=25)\",\n",
       "  'def addition(*var):\\n    print(var)',\n",
       "  'addition(10,20,30,40,50,60,70)',\n",
       "  'def addition(*var):\\n    print(sum(var))',\n",
       "  'addition(10,20,30,40,50,60,70)',\n",
       "  'def foo(*var):\\n    pass',\n",
       "  'foo(12,234,56,6,73,4,23,5,6,78,89)',\n",
       "  'def foo(*var):\\n    print(var)',\n",
       "  'foo(12,234,56,6,73,4,23,5,6,78,89)',\n",
       "  'globals()'],\n",
       " '_oh': {},\n",
       " '_dh': [WindowsPath('C:/Users/user/Desktop/Grras Solutions Pvt. Ltd/Data Science feb')],\n",
       " 'In': ['',\n",
       "  'def even_odd(num):\\n    if num % 2 == 0:\\n        return True\\n    else:\\n        return False',\n",
       "  \"def add(a,b):\\n    return a+b\\n\\ndef sub(a,b):\\n    return a-b\\n\\ndef mul(a,b):\\n    return a*b\\n\\ndef div(a,b):\\n    return a/b\\n\\nif __name__ == '__main__':\\n    print(add(int(input()), int(input()))))\\n    \",\n",
       "  \"def add(a,b):\\n    return a+b\\n\\ndef sub(a,b):\\n    return a-b\\n\\ndef mul(a,b):\\n    return a*b\\n\\ndef div(a,b):\\n    return a/b\\n\\nif __name__ == '__main__':\\n    print(add(int(input()), int(input())))\\n    \",\n",
       "  \"def add(a,b):\\n    return a+b\\n\\ndef sub(a,b):\\n    return a-b\\n\\ndef mul(a,b):\\n    return a*b\\n\\ndef div(a,b):\\n    return a/b\\n\\nif __name__ == '__main__':\\n    a = int(input())\\n    b = int(input())\\n    print(add(a,b))\\n    \",\n",
       "  'get_ipython().run_cell_magic(\\'writefile\\', \\'file.py\\', \"\\\\ndef add(a,b):\\\\n    return a+b\\\\n\\\\ndef sub(a,b):\\\\n    return a-b\\\\n\\\\ndef mul(a,b):\\\\n    return a*b\\\\n\\\\ndef div(a,b):\\\\n    return a/b\\\\n\\\\nif __name__ == \\'__main__\\':\\\\n    a = int(input())\\\\n    b = int(input())\\\\n    print(add(a,b))\\\\n    \\\\n\")',\n",
       "  'def user_details(name, age, address):\\n    print(f\"User_name: {name}\")\\n    print(f\"User_age: {age}\")\\n    print(f\"User_address: {address}\")',\n",
       "  \"user_details('sachin', 25, 'jaipur')\",\n",
       "  'user_details()',\n",
       "  \"user_details('sachin')\",\n",
       "  \"user_details(25, 'ravi', 'jaipur')\",\n",
       "  \"print('hello')\\nprint('world')\",\n",
       "  \"print('hello', end=' ')\\nprint('world')\",\n",
       "  'def demo(a, b=50):\\n    print(a+b)',\n",
       "  'demo(5,5)',\n",
       "  'demo(10)',\n",
       "  'def user_details(name, age, address):\\n    print(f\"User_name: {name}\")\\n    print(f\"User_age: {age}\")\\n    print(f\"User_address: {address}\")',\n",
       "  \"user_details(name='harsh', address='jaipur', age=25)\",\n",
       "  'def addition(*var):\\n    print(var)',\n",
       "  'addition(10,20,30,40,50,60,70)',\n",
       "  'def addition(*var):\\n    print(sum(var))',\n",
       "  'addition(10,20,30,40,50,60,70)',\n",
       "  'def foo(*var):\\n    pass',\n",
       "  'foo(12,234,56,6,73,4,23,5,6,78,89)',\n",
       "  'def foo(*var):\\n    print(var)',\n",
       "  'foo(12,234,56,6,73,4,23,5,6,78,89)',\n",
       "  'globals()'],\n",
       " 'Out': {},\n",
       " 'get_ipython': <bound method InteractiveShell.get_ipython of <ipykernel.zmqshell.ZMQInteractiveShell object at 0x000001D02A092CE0>>,\n",
       " 'exit': <IPython.core.autocall.ZMQExitAutocall at 0x1d02a091b40>,\n",
       " 'quit': <IPython.core.autocall.ZMQExitAutocall at 0x1d02a091b40>,\n",
       " 'open': <function io.open(file, mode='r', buffering=-1, encoding=None, errors=None, newline=None, closefd=True, opener=None)>,\n",
       " '_': '',\n",
       " '__': '',\n",
       " '___': '',\n",
       " '_i': 'foo(12,234,56,6,73,4,23,5,6,78,89)',\n",
       " '_ii': 'def foo(*var):\\n    print(var)',\n",
       " '_iii': 'foo(12,234,56,6,73,4,23,5,6,78,89)',\n",
       " '_i1': 'def even_odd(num):\\n    if num % 2 == 0:\\n        return True\\n    else:\\n        return False',\n",
       " 'even_odd': <function __main__.even_odd(num)>,\n",
       " '_i2': \"def add(a,b):\\n    return a+b\\n\\ndef sub(a,b):\\n    return a-b\\n\\ndef mul(a,b):\\n    return a*b\\n\\ndef div(a,b):\\n    return a/b\\n\\nif __name__ == '__main__':\\n    print(add(int(input()), int(input()))))\\n    \",\n",
       " '_i3': \"def add(a,b):\\n    return a+b\\n\\ndef sub(a,b):\\n    return a-b\\n\\ndef mul(a,b):\\n    return a*b\\n\\ndef div(a,b):\\n    return a/b\\n\\nif __name__ == '__main__':\\n    print(add(int(input()), int(input())))\\n    \",\n",
       " 'add': <function __main__.add(a, b)>,\n",
       " 'sub': <function __main__.sub(a, b)>,\n",
       " 'mul': <function __main__.mul(a, b)>,\n",
       " 'div': <function __main__.div(a, b)>,\n",
       " '_i4': \"def add(a,b):\\n    return a+b\\n\\ndef sub(a,b):\\n    return a-b\\n\\ndef mul(a,b):\\n    return a*b\\n\\ndef div(a,b):\\n    return a/b\\n\\nif __name__ == '__main__':\\n    a = int(input())\\n    b = int(input())\\n    print(add(a,b))\\n    \",\n",
       " 'a': 5,\n",
       " 'b': 5,\n",
       " '_i5': \"%%writefile file.py\\n\\ndef add(a,b):\\n    return a+b\\n\\ndef sub(a,b):\\n    return a-b\\n\\ndef mul(a,b):\\n    return a*b\\n\\ndef div(a,b):\\n    return a/b\\n\\nif __name__ == '__main__':\\n    a = int(input())\\n    b = int(input())\\n    print(add(a,b))\\n    \",\n",
       " '_i6': 'def user_details(name, age, address):\\n    print(f\"User_name: {name}\")\\n    print(f\"User_age: {age}\")\\n    print(f\"User_address: {address}\")',\n",
       " 'user_details': <function __main__.user_details(name, age, address)>,\n",
       " '_i7': \"user_details('sachin', 25, 'jaipur')\",\n",
       " '_i8': 'user_details()',\n",
       " '_i9': \"user_details('sachin')\",\n",
       " '_i10': \"user_details(25, 'ravi', 'jaipur')\",\n",
       " '_i11': \"print('hello')\\nprint('world')\",\n",
       " '_i12': \"print('hello', end=' ')\\nprint('world')\",\n",
       " '_i13': 'def demo(a, b=50):\\n    print(a+b)',\n",
       " 'demo': <function __main__.demo(a, b=50)>,\n",
       " '_i14': 'demo(5,5)',\n",
       " '_i15': 'demo(10)',\n",
       " '_i16': 'def user_details(name, age, address):\\n    print(f\"User_name: {name}\")\\n    print(f\"User_age: {age}\")\\n    print(f\"User_address: {address}\")',\n",
       " '_i17': \"user_details(name='harsh', address='jaipur', age=25)\",\n",
       " '_i18': 'def addition(*var):\\n    print(var)',\n",
       " 'addition': <function __main__.addition(*var)>,\n",
       " '_i19': 'addition(10,20,30,40,50,60,70)',\n",
       " '_i20': 'def addition(*var):\\n    print(sum(var))',\n",
       " '_i21': 'addition(10,20,30,40,50,60,70)',\n",
       " '_i22': 'def foo(*var):\\n    pass',\n",
       " 'foo': <function __main__.foo(*var)>,\n",
       " '_i23': 'foo(12,234,56,6,73,4,23,5,6,78,89)',\n",
       " '_i24': 'def foo(*var):\\n    print(var)',\n",
       " '_i25': 'foo(12,234,56,6,73,4,23,5,6,78,89)',\n",
       " '_i26': 'globals()'}"
      ]
     },
     "execution_count": 26,
     "metadata": {},
     "output_type": "execute_result"
    }
   ],
   "source": [
    "globals()"
   ]
  },
  {
   "cell_type": "code",
   "execution_count": null,
   "id": "194f4ebb",
   "metadata": {},
   "outputs": [],
   "source": []
  },
  {
   "cell_type": "code",
   "execution_count": 29,
   "id": "9161040c",
   "metadata": {},
   "outputs": [],
   "source": [
    "a = 100\n",
    "\n",
    "def func():\n",
    "    globals()['a'] = 120\n",
    "    print(a)\n",
    "    "
   ]
  },
  {
   "cell_type": "code",
   "execution_count": 30,
   "id": "69049192",
   "metadata": {},
   "outputs": [
    {
     "name": "stdout",
     "output_type": "stream",
     "text": [
      "120\n"
     ]
    }
   ],
   "source": [
    "func()"
   ]
  },
  {
   "cell_type": "code",
   "execution_count": 31,
   "id": "361eee22",
   "metadata": {},
   "outputs": [
    {
     "data": {
      "text/plain": [
       "120"
      ]
     },
     "execution_count": 31,
     "metadata": {},
     "output_type": "execute_result"
    }
   ],
   "source": [
    "a"
   ]
  },
  {
   "cell_type": "code",
   "execution_count": null,
   "id": "5b89e158",
   "metadata": {},
   "outputs": [],
   "source": []
  },
  {
   "cell_type": "code",
   "execution_count": 32,
   "id": "cbd78ca2",
   "metadata": {},
   "outputs": [],
   "source": [
    "a = 100\n",
    "\n",
    "def func():\n",
    "    a = globals()['a']\n",
    "    a = a + 20\n",
    "    print(a)\n",
    "    "
   ]
  },
  {
   "cell_type": "code",
   "execution_count": 33,
   "id": "87a567cc",
   "metadata": {},
   "outputs": [
    {
     "name": "stdout",
     "output_type": "stream",
     "text": [
      "120\n"
     ]
    }
   ],
   "source": [
    "func()"
   ]
  },
  {
   "cell_type": "code",
   "execution_count": 34,
   "id": "195f4286",
   "metadata": {},
   "outputs": [
    {
     "data": {
      "text/plain": [
       "100"
      ]
     },
     "execution_count": 34,
     "metadata": {},
     "output_type": "execute_result"
    }
   ],
   "source": [
    "a"
   ]
  },
  {
   "cell_type": "code",
   "execution_count": 35,
   "id": "77ee6e2f",
   "metadata": {},
   "outputs": [
    {
     "data": {
      "text/plain": [
       "100"
      ]
     },
     "execution_count": 35,
     "metadata": {},
     "output_type": "execute_result"
    }
   ],
   "source": [
    "a"
   ]
  },
  {
   "cell_type": "code",
   "execution_count": null,
   "id": "123c7df5",
   "metadata": {},
   "outputs": [],
   "source": []
  }
 ],
 "metadata": {
  "kernelspec": {
   "display_name": "Python 3 (ipykernel)",
   "language": "python",
   "name": "python3"
  },
  "language_info": {
   "codemirror_mode": {
    "name": "ipython",
    "version": 3
   },
   "file_extension": ".py",
   "mimetype": "text/x-python",
   "name": "python",
   "nbconvert_exporter": "python",
   "pygments_lexer": "ipython3",
   "version": "3.10.9"
  }
 },
 "nbformat": 4,
 "nbformat_minor": 5
}
