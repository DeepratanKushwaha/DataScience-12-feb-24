{
 "cells": [
  {
   "cell_type": "markdown",
   "id": "01840119",
   "metadata": {},
   "source": [
    "# 3-D array\n",
    "\n",
    "\n",
    "                    Collection of 2-D array / collection of matrix\n",
    "                    "
   ]
  },
  {
   "cell_type": "code",
   "execution_count": null,
   "id": "4acdacd6",
   "metadata": {},
   "outputs": [],
   "source": []
  },
  {
   "cell_type": "code",
   "execution_count": 1,
   "id": "5ab72682",
   "metadata": {},
   "outputs": [],
   "source": [
    "import numpy as np"
   ]
  },
  {
   "cell_type": "code",
   "execution_count": null,
   "id": "81bf172e",
   "metadata": {},
   "outputs": [],
   "source": []
  },
  {
   "cell_type": "code",
   "execution_count": 2,
   "id": "81a64e7d",
   "metadata": {},
   "outputs": [],
   "source": [
    "arr_3d = np.array([\n",
    "    [\n",
    "        [23,45,56,56],\n",
    "        [32,56,87,34]\n",
    "    ],\n",
    "    [\n",
    "        [43,23,56,78],\n",
    "        [43,56,23,56]\n",
    "    ],\n",
    "    [\n",
    "        [11,23,12,34],\n",
    "        [44,55,66,77]\n",
    "    ]\n",
    "])"
   ]
  },
  {
   "cell_type": "code",
   "execution_count": 3,
   "id": "7adc450d",
   "metadata": {},
   "outputs": [
    {
     "data": {
      "text/plain": [
       "array([[[23, 45, 56, 56],\n",
       "        [32, 56, 87, 34]],\n",
       "\n",
       "       [[43, 23, 56, 78],\n",
       "        [43, 56, 23, 56]],\n",
       "\n",
       "       [[11, 23, 12, 34],\n",
       "        [44, 55, 66, 77]]])"
      ]
     },
     "execution_count": 3,
     "metadata": {},
     "output_type": "execute_result"
    }
   ],
   "source": [
    "arr_3d"
   ]
  },
  {
   "cell_type": "code",
   "execution_count": null,
   "id": "4066b07e",
   "metadata": {},
   "outputs": [],
   "source": []
  },
  {
   "cell_type": "code",
   "execution_count": 4,
   "id": "6ed8ad55",
   "metadata": {},
   "outputs": [
    {
     "data": {
      "text/plain": [
       "3"
      ]
     },
     "execution_count": 4,
     "metadata": {},
     "output_type": "execute_result"
    }
   ],
   "source": [
    "arr_3d.ndim"
   ]
  },
  {
   "cell_type": "code",
   "execution_count": 5,
   "id": "bec7cbe3",
   "metadata": {},
   "outputs": [
    {
     "data": {
      "text/plain": [
       "(3, 2, 4)"
      ]
     },
     "execution_count": 5,
     "metadata": {},
     "output_type": "execute_result"
    }
   ],
   "source": [
    "arr_3d.shape"
   ]
  },
  {
   "cell_type": "code",
   "execution_count": 6,
   "id": "c1d1e4e1",
   "metadata": {},
   "outputs": [
    {
     "data": {
      "text/plain": [
       "24"
      ]
     },
     "execution_count": 6,
     "metadata": {},
     "output_type": "execute_result"
    }
   ],
   "source": [
    "arr_3d.size"
   ]
  },
  {
   "cell_type": "code",
   "execution_count": null,
   "id": "58159740",
   "metadata": {},
   "outputs": [],
   "source": []
  },
  {
   "cell_type": "markdown",
   "id": "a78df845",
   "metadata": {},
   "source": [
    "## indexing and slicing"
   ]
  },
  {
   "cell_type": "code",
   "execution_count": null,
   "id": "ef1d4ee9",
   "metadata": {},
   "outputs": [],
   "source": []
  },
  {
   "cell_type": "markdown",
   "id": "bd1b2e13",
   "metadata": {},
   "source": [
    "        syntax:\n",
    "        \n",
    "                    indexing:\n",
    "                                arr[record, row, col]\n",
    "                                \n",
    "                     slicing:\n",
    "                     \n",
    "                                arr[record_slicing, row_slicing, col_slicing]"
   ]
  },
  {
   "cell_type": "code",
   "execution_count": null,
   "id": "60eaa463",
   "metadata": {},
   "outputs": [],
   "source": []
  },
  {
   "cell_type": "code",
   "execution_count": 7,
   "id": "abf057ce",
   "metadata": {},
   "outputs": [
    {
     "data": {
      "text/plain": [
       "array([[[23, 45, 56, 56],\n",
       "        [32, 56, 87, 34]],\n",
       "\n",
       "       [[43, 23, 56, 78],\n",
       "        [43, 56, 23, 56]],\n",
       "\n",
       "       [[11, 23, 12, 34],\n",
       "        [44, 55, 66, 77]]])"
      ]
     },
     "execution_count": 7,
     "metadata": {},
     "output_type": "execute_result"
    }
   ],
   "source": [
    "arr_3d"
   ]
  },
  {
   "cell_type": "code",
   "execution_count": null,
   "id": "15d7e822",
   "metadata": {},
   "outputs": [],
   "source": []
  },
  {
   "cell_type": "code",
   "execution_count": 8,
   "id": "fa7bc7fe",
   "metadata": {},
   "outputs": [
    {
     "data": {
      "text/plain": [
       "array([[23, 45, 56, 56],\n",
       "       [32, 56, 87, 34]])"
      ]
     },
     "execution_count": 8,
     "metadata": {},
     "output_type": "execute_result"
    }
   ],
   "source": [
    "arr_3d[0]"
   ]
  },
  {
   "cell_type": "code",
   "execution_count": 9,
   "id": "abc81899",
   "metadata": {},
   "outputs": [
    {
     "data": {
      "text/plain": [
       "56"
      ]
     },
     "execution_count": 9,
     "metadata": {},
     "output_type": "execute_result"
    }
   ],
   "source": [
    "arr_3d[1, 0, 2]"
   ]
  },
  {
   "cell_type": "code",
   "execution_count": null,
   "id": "d22e57aa",
   "metadata": {},
   "outputs": [],
   "source": []
  },
  {
   "cell_type": "code",
   "execution_count": 10,
   "id": "72d9879d",
   "metadata": {},
   "outputs": [
    {
     "data": {
      "text/plain": [
       "array([[[23, 45, 56, 56],\n",
       "        [32, 56, 87, 34]],\n",
       "\n",
       "       [[43, 23, 56, 78],\n",
       "        [43, 56, 23, 56]],\n",
       "\n",
       "       [[11, 23, 12, 34],\n",
       "        [44, 55, 66, 77]]])"
      ]
     },
     "execution_count": 10,
     "metadata": {},
     "output_type": "execute_result"
    }
   ],
   "source": [
    "arr_3d"
   ]
  },
  {
   "cell_type": "code",
   "execution_count": null,
   "id": "e9dc8034",
   "metadata": {},
   "outputs": [],
   "source": []
  },
  {
   "cell_type": "code",
   "execution_count": 11,
   "id": "889321e1",
   "metadata": {},
   "outputs": [
    {
     "data": {
      "text/plain": [
       "array([[[23, 45, 56, 56],\n",
       "        [32, 56, 87, 34]],\n",
       "\n",
       "       [[11, 23, 12, 34],\n",
       "        [44, 55, 66, 77]]])"
      ]
     },
     "execution_count": 11,
     "metadata": {},
     "output_type": "execute_result"
    }
   ],
   "source": [
    "arr_3d[::2]"
   ]
  },
  {
   "cell_type": "code",
   "execution_count": null,
   "id": "31fae3a5",
   "metadata": {},
   "outputs": [],
   "source": []
  },
  {
   "cell_type": "code",
   "execution_count": 12,
   "id": "5ef6163b",
   "metadata": {},
   "outputs": [
    {
     "data": {
      "text/plain": [
       "array([[[23, 45, 56, 56],\n",
       "        [32, 56, 87, 34]],\n",
       "\n",
       "       [[43, 23, 56, 78],\n",
       "        [43, 56, 23, 56]],\n",
       "\n",
       "       [[11, 23, 12, 34],\n",
       "        [44, 55, 66, 77]]])"
      ]
     },
     "execution_count": 12,
     "metadata": {},
     "output_type": "execute_result"
    }
   ],
   "source": [
    "arr_3d"
   ]
  },
  {
   "cell_type": "code",
   "execution_count": null,
   "id": "63b1e930",
   "metadata": {},
   "outputs": [],
   "source": []
  },
  {
   "cell_type": "code",
   "execution_count": 13,
   "id": "7b6e5501",
   "metadata": {},
   "outputs": [
    {
     "data": {
      "text/plain": [
       "array([295, 156, 150, 204, 167, 207, 127, 253, 237, 224, 130, 162, 248,\n",
       "       218, 247, 204, 126, 126, 228, 200, 212, 203, 262, 198, 127, 262,\n",
       "       262, 145, 235, 219, 271, 180, 214, 144, 250, 265, 169, 233, 138,\n",
       "       272, 190, 251, 290, 140, 173, 201, 256, 229, 126, 148, 221, 214,\n",
       "       256, 265, 298, 258, 175, 213, 165, 187, 231, 244, 269, 198, 209,\n",
       "       226, 293, 246, 133, 176, 179, 184, 227, 187, 267, 139, 150, 254,\n",
       "       261, 239, 271, 270, 240, 127, 148, 130, 135, 191, 240, 203, 130,\n",
       "       276, 169, 181, 158, 147, 177, 138, 228, 129, 261, 226, 206, 190,\n",
       "       172, 142, 189, 226, 238, 261, 167, 127, 190, 190, 255, 156, 270,\n",
       "       220, 144, 198, 141, 270, 231, 235, 138, 235, 271, 255, 155, 154,\n",
       "       299, 258, 272, 253, 190, 191, 254, 146, 164, 279, 290, 292, 214,\n",
       "       189, 268, 212, 181, 161, 241, 144, 243, 207, 220, 232, 212, 212,\n",
       "       185, 139, 250, 251, 265, 262, 271, 200, 205, 270, 268, 155, 292,\n",
       "       262, 275, 228, 232, 223, 295, 186, 260, 225, 170, 158, 217, 216,\n",
       "       141, 281, 139, 209, 188, 251, 163, 277, 252, 230, 127, 188, 126,\n",
       "       147, 133, 260, 194, 175])"
      ]
     },
     "execution_count": 13,
     "metadata": {},
     "output_type": "execute_result"
    }
   ],
   "source": [
    "arr = np.random.randint(125, 300, 200)\n",
    "arr"
   ]
  },
  {
   "cell_type": "code",
   "execution_count": 14,
   "id": "354ccb37",
   "metadata": {
    "scrolled": true
   },
   "outputs": [
    {
     "data": {
      "text/plain": [
       "array([[[295, 156, 150, 204],\n",
       "        [167, 207, 127, 253]],\n",
       "\n",
       "       [[237, 224, 130, 162],\n",
       "        [248, 218, 247, 204]],\n",
       "\n",
       "       [[126, 126, 228, 200],\n",
       "        [212, 203, 262, 198]],\n",
       "\n",
       "       [[127, 262, 262, 145],\n",
       "        [235, 219, 271, 180]],\n",
       "\n",
       "       [[214, 144, 250, 265],\n",
       "        [169, 233, 138, 272]],\n",
       "\n",
       "       [[190, 251, 290, 140],\n",
       "        [173, 201, 256, 229]],\n",
       "\n",
       "       [[126, 148, 221, 214],\n",
       "        [256, 265, 298, 258]],\n",
       "\n",
       "       [[175, 213, 165, 187],\n",
       "        [231, 244, 269, 198]],\n",
       "\n",
       "       [[209, 226, 293, 246],\n",
       "        [133, 176, 179, 184]],\n",
       "\n",
       "       [[227, 187, 267, 139],\n",
       "        [150, 254, 261, 239]],\n",
       "\n",
       "       [[271, 270, 240, 127],\n",
       "        [148, 130, 135, 191]],\n",
       "\n",
       "       [[240, 203, 130, 276],\n",
       "        [169, 181, 158, 147]],\n",
       "\n",
       "       [[177, 138, 228, 129],\n",
       "        [261, 226, 206, 190]],\n",
       "\n",
       "       [[172, 142, 189, 226],\n",
       "        [238, 261, 167, 127]],\n",
       "\n",
       "       [[190, 190, 255, 156],\n",
       "        [270, 220, 144, 198]],\n",
       "\n",
       "       [[141, 270, 231, 235],\n",
       "        [138, 235, 271, 255]],\n",
       "\n",
       "       [[155, 154, 299, 258],\n",
       "        [272, 253, 190, 191]],\n",
       "\n",
       "       [[254, 146, 164, 279],\n",
       "        [290, 292, 214, 189]],\n",
       "\n",
       "       [[268, 212, 181, 161],\n",
       "        [241, 144, 243, 207]],\n",
       "\n",
       "       [[220, 232, 212, 212],\n",
       "        [185, 139, 250, 251]],\n",
       "\n",
       "       [[265, 262, 271, 200],\n",
       "        [205, 270, 268, 155]],\n",
       "\n",
       "       [[292, 262, 275, 228],\n",
       "        [232, 223, 295, 186]],\n",
       "\n",
       "       [[260, 225, 170, 158],\n",
       "        [217, 216, 141, 281]],\n",
       "\n",
       "       [[139, 209, 188, 251],\n",
       "        [163, 277, 252, 230]],\n",
       "\n",
       "       [[127, 188, 126, 147],\n",
       "        [133, 260, 194, 175]]])"
      ]
     },
     "execution_count": 14,
     "metadata": {},
     "output_type": "execute_result"
    }
   ],
   "source": [
    "arr.reshape((25,2,4))"
   ]
  },
  {
   "cell_type": "code",
   "execution_count": 16,
   "id": "576d04c9",
   "metadata": {
    "scrolled": true
   },
   "outputs": [
    {
     "data": {
      "text/plain": [
       "array([[[295, 156, 150, 204],\n",
       "        [167, 207, 127, 253],\n",
       "        [237, 224, 130, 162],\n",
       "        [248, 218, 247, 204],\n",
       "        [126, 126, 228, 200]],\n",
       "\n",
       "       [[212, 203, 262, 198],\n",
       "        [127, 262, 262, 145],\n",
       "        [235, 219, 271, 180],\n",
       "        [214, 144, 250, 265],\n",
       "        [169, 233, 138, 272]],\n",
       "\n",
       "       [[190, 251, 290, 140],\n",
       "        [173, 201, 256, 229],\n",
       "        [126, 148, 221, 214],\n",
       "        [256, 265, 298, 258],\n",
       "        [175, 213, 165, 187]],\n",
       "\n",
       "       [[231, 244, 269, 198],\n",
       "        [209, 226, 293, 246],\n",
       "        [133, 176, 179, 184],\n",
       "        [227, 187, 267, 139],\n",
       "        [150, 254, 261, 239]],\n",
       "\n",
       "       [[271, 270, 240, 127],\n",
       "        [148, 130, 135, 191],\n",
       "        [240, 203, 130, 276],\n",
       "        [169, 181, 158, 147],\n",
       "        [177, 138, 228, 129]],\n",
       "\n",
       "       [[261, 226, 206, 190],\n",
       "        [172, 142, 189, 226],\n",
       "        [238, 261, 167, 127],\n",
       "        [190, 190, 255, 156],\n",
       "        [270, 220, 144, 198]],\n",
       "\n",
       "       [[141, 270, 231, 235],\n",
       "        [138, 235, 271, 255],\n",
       "        [155, 154, 299, 258],\n",
       "        [272, 253, 190, 191],\n",
       "        [254, 146, 164, 279]],\n",
       "\n",
       "       [[290, 292, 214, 189],\n",
       "        [268, 212, 181, 161],\n",
       "        [241, 144, 243, 207],\n",
       "        [220, 232, 212, 212],\n",
       "        [185, 139, 250, 251]],\n",
       "\n",
       "       [[265, 262, 271, 200],\n",
       "        [205, 270, 268, 155],\n",
       "        [292, 262, 275, 228],\n",
       "        [232, 223, 295, 186],\n",
       "        [260, 225, 170, 158]],\n",
       "\n",
       "       [[217, 216, 141, 281],\n",
       "        [139, 209, 188, 251],\n",
       "        [163, 277, 252, 230],\n",
       "        [127, 188, 126, 147],\n",
       "        [133, 260, 194, 175]]])"
      ]
     },
     "execution_count": 16,
     "metadata": {},
     "output_type": "execute_result"
    }
   ],
   "source": [
    "arr_3d = arr.reshape((10,5,4))\n",
    "arr_3d"
   ]
  },
  {
   "cell_type": "code",
   "execution_count": 17,
   "id": "574b3287",
   "metadata": {},
   "outputs": [
    {
     "data": {
      "text/plain": [
       "array([[[272, 138, 233, 169],\n",
       "        [265, 250, 144, 214],\n",
       "        [180, 271, 219, 235],\n",
       "        [145, 262, 262, 127],\n",
       "        [198, 262, 203, 212]],\n",
       "\n",
       "       [[129, 228, 138, 177],\n",
       "        [147, 158, 181, 169],\n",
       "        [276, 130, 203, 240],\n",
       "        [191, 135, 130, 148],\n",
       "        [127, 240, 270, 271]],\n",
       "\n",
       "       [[251, 250, 139, 185],\n",
       "        [212, 212, 232, 220],\n",
       "        [207, 243, 144, 241],\n",
       "        [161, 181, 212, 268],\n",
       "        [189, 214, 292, 290]]])"
      ]
     },
     "execution_count": 17,
     "metadata": {},
     "output_type": "execute_result"
    }
   ],
   "source": [
    "arr_3d[1::3, ::-1, ::-1]"
   ]
  },
  {
   "cell_type": "code",
   "execution_count": null,
   "id": "e36347fd",
   "metadata": {},
   "outputs": [],
   "source": []
  },
  {
   "cell_type": "code",
   "execution_count": null,
   "id": "25b5608d",
   "metadata": {},
   "outputs": [],
   "source": []
  },
  {
   "cell_type": "code",
   "execution_count": 18,
   "id": "14c42887",
   "metadata": {},
   "outputs": [
    {
     "data": {
      "text/plain": [
       "array([[ 1,  2,  3,  4,  5],\n",
       "       [ 6,  7,  8,  9, 10],\n",
       "       [11, 12, 13, 14, 15],\n",
       "       [16, 17, 18, 19, 20],\n",
       "       [21, 22, 23, 24, 25],\n",
       "       [26, 27, 28, 29, 30],\n",
       "       [31, 32, 33, 34, 35],\n",
       "       [36, 37, 38, 39, 40],\n",
       "       [41, 42, 43, 44, 45],\n",
       "       [46, 47, 48, 49, 50]])"
      ]
     },
     "execution_count": 18,
     "metadata": {},
     "output_type": "execute_result"
    }
   ],
   "source": [
    "arr_2d = np.arange(1, 51).reshape((10,5))\n",
    "arr_2d"
   ]
  },
  {
   "cell_type": "code",
   "execution_count": null,
   "id": "fec928c4",
   "metadata": {},
   "outputs": [],
   "source": []
  },
  {
   "cell_type": "code",
   "execution_count": 20,
   "id": "c28e7444",
   "metadata": {},
   "outputs": [],
   "source": [
    "ls = []\n",
    "\n",
    "for i in list(arr_2d):\n",
    "    ls.extend(i)"
   ]
  },
  {
   "cell_type": "code",
   "execution_count": 22,
   "id": "2682c348",
   "metadata": {},
   "outputs": [
    {
     "name": "stdout",
     "output_type": "stream",
     "text": [
      "[1, 2, 3, 4, 5, 6, 7, 8, 9, 10, 11, 12, 13, 14, 15, 16, 17, 18, 19, 20, 21, 22, 23, 24, 25, 26, 27, 28, 29, 30, 31, 32, 33, 34, 35, 36, 37, 38, 39, 40, 41, 42, 43, 44, 45, 46, 47, 48, 49, 50]\n"
     ]
    }
   ],
   "source": [
    "print(ls)"
   ]
  },
  {
   "cell_type": "code",
   "execution_count": null,
   "id": "3bd03db8",
   "metadata": {},
   "outputs": [],
   "source": []
  },
  {
   "cell_type": "code",
   "execution_count": null,
   "id": "73840b8e",
   "metadata": {},
   "outputs": [],
   "source": []
  },
  {
   "cell_type": "markdown",
   "id": "be304ebd",
   "metadata": {},
   "source": [
    "## matrix multiplication"
   ]
  },
  {
   "cell_type": "code",
   "execution_count": null,
   "id": "485afb77",
   "metadata": {},
   "outputs": [],
   "source": []
  },
  {
   "cell_type": "code",
   "execution_count": 23,
   "id": "47a62449",
   "metadata": {},
   "outputs": [],
   "source": [
    "a = np.random.randint(120, 150, 20).reshape((5,4))\n",
    "b = np.random.randint(10, 30, 20).reshape((5,4))"
   ]
  },
  {
   "cell_type": "code",
   "execution_count": 24,
   "id": "96de9cab",
   "metadata": {},
   "outputs": [
    {
     "data": {
      "text/plain": [
       "array([[126, 131, 132, 129],\n",
       "       [140, 130, 125, 137],\n",
       "       [140, 129, 122, 122],\n",
       "       [133, 146, 145, 143],\n",
       "       [132, 136, 123, 126]])"
      ]
     },
     "execution_count": 24,
     "metadata": {},
     "output_type": "execute_result"
    }
   ],
   "source": [
    "a"
   ]
  },
  {
   "cell_type": "code",
   "execution_count": 25,
   "id": "ea8b2614",
   "metadata": {},
   "outputs": [
    {
     "data": {
      "text/plain": [
       "array([[14, 21, 14, 21],\n",
       "       [12, 20, 11, 13],\n",
       "       [13, 10, 19, 27],\n",
       "       [22, 17, 28, 26],\n",
       "       [13, 14, 15, 20]])"
      ]
     },
     "execution_count": 25,
     "metadata": {},
     "output_type": "execute_result"
    }
   ],
   "source": [
    "b"
   ]
  },
  {
   "cell_type": "code",
   "execution_count": null,
   "id": "9593b350",
   "metadata": {},
   "outputs": [],
   "source": []
  },
  {
   "cell_type": "code",
   "execution_count": 26,
   "id": "1a373f94",
   "metadata": {},
   "outputs": [
    {
     "data": {
      "text/plain": [
       "array([[ 9.        ,  6.23809524,  9.42857143,  6.14285714],\n",
       "       [11.66666667,  6.5       , 11.36363636, 10.53846154],\n",
       "       [10.76923077, 12.9       ,  6.42105263,  4.51851852],\n",
       "       [ 6.04545455,  8.58823529,  5.17857143,  5.5       ],\n",
       "       [10.15384615,  9.71428571,  8.2       ,  6.3       ]])"
      ]
     },
     "execution_count": 26,
     "metadata": {},
     "output_type": "execute_result"
    }
   ],
   "source": [
    "a / b"
   ]
  },
  {
   "cell_type": "code",
   "execution_count": null,
   "id": "45080e42",
   "metadata": {},
   "outputs": [],
   "source": []
  },
  {
   "cell_type": "code",
   "execution_count": 28,
   "id": "7b75ba71",
   "metadata": {},
   "outputs": [
    {
     "data": {
      "text/plain": [
       "array([[1764, 2751, 1848, 2709],\n",
       "       [1680, 2600, 1375, 1781],\n",
       "       [1820, 1290, 2318, 3294],\n",
       "       [2926, 2482, 4060, 3718],\n",
       "       [1716, 1904, 1845, 2520]])"
      ]
     },
     "execution_count": 28,
     "metadata": {},
     "output_type": "execute_result"
    }
   ],
   "source": [
    "a * b          # element wise multiplication"
   ]
  },
  {
   "cell_type": "code",
   "execution_count": null,
   "id": "60a7da80",
   "metadata": {},
   "outputs": [],
   "source": []
  },
  {
   "cell_type": "code",
   "execution_count": null,
   "id": "452bfcf1",
   "metadata": {},
   "outputs": [],
   "source": []
  },
  {
   "cell_type": "code",
   "execution_count": 29,
   "id": "7a9e8c7a",
   "metadata": {},
   "outputs": [],
   "source": [
    "A = np.array([\n",
    "    [1,2],\n",
    "    [3,4],\n",
    "    [5,6]\n",
    "])\n",
    "\n",
    "B = np.array([\n",
    "    [10, 12, 13, 14],\n",
    "    [1, 2, 3, 4]\n",
    "])"
   ]
  },
  {
   "cell_type": "code",
   "execution_count": 30,
   "id": "d9757833",
   "metadata": {},
   "outputs": [
    {
     "data": {
      "text/plain": [
       "array([[1, 2],\n",
       "       [3, 4],\n",
       "       [5, 6]])"
      ]
     },
     "execution_count": 30,
     "metadata": {},
     "output_type": "execute_result"
    }
   ],
   "source": [
    "A\n"
   ]
  },
  {
   "cell_type": "code",
   "execution_count": 31,
   "id": "fc927186",
   "metadata": {},
   "outputs": [
    {
     "data": {
      "text/plain": [
       "array([[10, 12, 13, 14],\n",
       "       [ 1,  2,  3,  4]])"
      ]
     },
     "execution_count": 31,
     "metadata": {},
     "output_type": "execute_result"
    }
   ],
   "source": [
    "B"
   ]
  },
  {
   "cell_type": "code",
   "execution_count": 32,
   "id": "c523f4fd",
   "metadata": {},
   "outputs": [
    {
     "ename": "ValueError",
     "evalue": "operands could not be broadcast together with shapes (3,2) (2,4) ",
     "output_type": "error",
     "traceback": [
      "\u001b[1;31m---------------------------------------------------------------------------\u001b[0m",
      "\u001b[1;31mValueError\u001b[0m                                Traceback (most recent call last)",
      "Cell \u001b[1;32mIn[32], line 1\u001b[0m\n\u001b[1;32m----> 1\u001b[0m \u001b[43mA\u001b[49m\u001b[43m \u001b[49m\u001b[38;5;241;43m*\u001b[39;49m\u001b[43m \u001b[49m\u001b[43mB\u001b[49m\n",
      "\u001b[1;31mValueError\u001b[0m: operands could not be broadcast together with shapes (3,2) (2,4) "
     ]
    }
   ],
   "source": [
    "A * B"
   ]
  },
  {
   "cell_type": "code",
   "execution_count": null,
   "id": "1be96aa1",
   "metadata": {},
   "outputs": [],
   "source": []
  },
  {
   "cell_type": "code",
   "execution_count": 33,
   "id": "a630311d",
   "metadata": {},
   "outputs": [
    {
     "data": {
      "text/plain": [
       "array([[12, 16, 19, 22],\n",
       "       [34, 44, 51, 58],\n",
       "       [56, 72, 83, 94]])"
      ]
     },
     "execution_count": 33,
     "metadata": {},
     "output_type": "execute_result"
    }
   ],
   "source": [
    "A @ B"
   ]
  },
  {
   "cell_type": "code",
   "execution_count": null,
   "id": "2cb4a3d9",
   "metadata": {},
   "outputs": [],
   "source": []
  },
  {
   "cell_type": "code",
   "execution_count": 34,
   "id": "18b8b710",
   "metadata": {},
   "outputs": [
    {
     "data": {
      "text/plain": [
       "array([[12, 16, 19, 22],\n",
       "       [34, 44, 51, 58],\n",
       "       [56, 72, 83, 94]])"
      ]
     },
     "execution_count": 34,
     "metadata": {},
     "output_type": "execute_result"
    }
   ],
   "source": [
    "np.matmul(A,B)"
   ]
  },
  {
   "cell_type": "code",
   "execution_count": null,
   "id": "a1e2590c",
   "metadata": {},
   "outputs": [],
   "source": []
  },
  {
   "cell_type": "code",
   "execution_count": 35,
   "id": "2fda7f4e",
   "metadata": {},
   "outputs": [
    {
     "data": {
      "text/plain": [
       "array([[12, 16, 19, 22],\n",
       "       [34, 44, 51, 58],\n",
       "       [56, 72, 83, 94]])"
      ]
     },
     "execution_count": 35,
     "metadata": {},
     "output_type": "execute_result"
    }
   ],
   "source": [
    "np.dot(A,B)"
   ]
  },
  {
   "cell_type": "code",
   "execution_count": null,
   "id": "ca45f659",
   "metadata": {},
   "outputs": [],
   "source": []
  },
  {
   "cell_type": "code",
   "execution_count": null,
   "id": "78c7f968",
   "metadata": {},
   "outputs": [],
   "source": []
  },
  {
   "cell_type": "markdown",
   "id": "615cbd10",
   "metadata": {},
   "source": [
    "    np.arange\n",
    "    np.random.randint\n",
    "    np.eye\n",
    "    np.full\n",
    "    np.empty\n",
    "    np.linspace\n",
    "    np.random.normal\n",
    "    np.random.uniform\n",
    "    np.random.binomial\n",
    "    np.once\n",
    "    np.zeros"
   ]
  },
  {
   "cell_type": "code",
   "execution_count": null,
   "id": "267df1f6",
   "metadata": {},
   "outputs": [],
   "source": []
  },
  {
   "cell_type": "code",
   "execution_count": 36,
   "id": "4135f94f",
   "metadata": {},
   "outputs": [
    {
     "data": {
      "text/plain": [
       "array([ 10,  20,  30,  40,  50,  60,  70,  80,  90, 100])"
      ]
     },
     "execution_count": 36,
     "metadata": {},
     "output_type": "execute_result"
    }
   ],
   "source": [
    "np.arange(10, 101, 10)"
   ]
  },
  {
   "cell_type": "code",
   "execution_count": null,
   "id": "21e6a614",
   "metadata": {},
   "outputs": [],
   "source": []
  },
  {
   "cell_type": "code",
   "execution_count": 37,
   "id": "5f1e912c",
   "metadata": {},
   "outputs": [
    {
     "data": {
      "text/plain": [
       "array([-5, -4, -3, -2, -1,  0,  1,  2,  3,  4])"
      ]
     },
     "execution_count": 37,
     "metadata": {},
     "output_type": "execute_result"
    }
   ],
   "source": [
    "np.arange(-5, 5)"
   ]
  },
  {
   "cell_type": "code",
   "execution_count": null,
   "id": "ad51776c",
   "metadata": {},
   "outputs": [],
   "source": []
  },
  {
   "cell_type": "code",
   "execution_count": 38,
   "id": "539df6e5",
   "metadata": {},
   "outputs": [
    {
     "data": {
      "text/plain": [
       "array([10. , 10.5, 11. , 11.5, 12. , 12.5, 13. , 13.5, 14. , 14.5, 15. ,\n",
       "       15.5, 16. , 16.5, 17. , 17.5, 18. , 18.5, 19. , 19.5, 20. , 20.5])"
      ]
     },
     "execution_count": 38,
     "metadata": {},
     "output_type": "execute_result"
    }
   ],
   "source": [
    "np.arange(10, 21, .5)"
   ]
  },
  {
   "cell_type": "code",
   "execution_count": null,
   "id": "e4b9fe7f",
   "metadata": {},
   "outputs": [],
   "source": []
  },
  {
   "cell_type": "code",
   "execution_count": 39,
   "id": "570296a6",
   "metadata": {},
   "outputs": [
    {
     "data": {
      "text/plain": [
       "array([402, 444, 420, 191, 151, 298, 285, 423, 386, 304, 308, 231, 325,\n",
       "       462, 114, 379, 207, 359, 378, 121, 219, 173, 385, 287, 438, 275,\n",
       "       250, 384, 193, 212, 245, 311, 183, 187, 500, 165, 362, 201, 396,\n",
       "       316, 273, 378, 207, 496, 323, 182, 359, 362, 165, 327, 142, 100,\n",
       "       438, 394, 175, 232, 433, 314, 197, 457, 481, 456, 296, 348, 252,\n",
       "       456, 362, 358, 320, 404, 375, 291, 389, 251, 494, 131, 353, 430,\n",
       "       382, 478, 375, 215, 260, 382, 255, 380, 192, 308, 180, 353, 157,\n",
       "       145, 447, 294, 427, 218, 273, 228, 377, 278])"
      ]
     },
     "execution_count": 39,
     "metadata": {},
     "output_type": "execute_result"
    }
   ],
   "source": [
    "np.random.randint(100, 501, 100)"
   ]
  },
  {
   "cell_type": "code",
   "execution_count": null,
   "id": "a8942a68",
   "metadata": {},
   "outputs": [],
   "source": []
  },
  {
   "cell_type": "code",
   "execution_count": 40,
   "id": "280e5bd3",
   "metadata": {},
   "outputs": [
    {
     "data": {
      "text/plain": [
       "array([10.        , 10.20408163, 10.40816327, 10.6122449 , 10.81632653,\n",
       "       11.02040816, 11.2244898 , 11.42857143, 11.63265306, 11.83673469,\n",
       "       12.04081633, 12.24489796, 12.44897959, 12.65306122, 12.85714286,\n",
       "       13.06122449, 13.26530612, 13.46938776, 13.67346939, 13.87755102,\n",
       "       14.08163265, 14.28571429, 14.48979592, 14.69387755, 14.89795918,\n",
       "       15.10204082, 15.30612245, 15.51020408, 15.71428571, 15.91836735,\n",
       "       16.12244898, 16.32653061, 16.53061224, 16.73469388, 16.93877551,\n",
       "       17.14285714, 17.34693878, 17.55102041, 17.75510204, 17.95918367,\n",
       "       18.16326531, 18.36734694, 18.57142857, 18.7755102 , 18.97959184,\n",
       "       19.18367347, 19.3877551 , 19.59183673, 19.79591837, 20.        ])"
      ]
     },
     "execution_count": 40,
     "metadata": {},
     "output_type": "execute_result"
    }
   ],
   "source": [
    "np.linspace(10, 20)"
   ]
  },
  {
   "cell_type": "code",
   "execution_count": null,
   "id": "c62d12d0",
   "metadata": {},
   "outputs": [],
   "source": []
  },
  {
   "cell_type": "code",
   "execution_count": 41,
   "id": "b950c917",
   "metadata": {},
   "outputs": [
    {
     "data": {
      "text/plain": [
       "array([10.        , 10.1010101 , 10.2020202 , 10.3030303 , 10.4040404 ,\n",
       "       10.50505051, 10.60606061, 10.70707071, 10.80808081, 10.90909091,\n",
       "       11.01010101, 11.11111111, 11.21212121, 11.31313131, 11.41414141,\n",
       "       11.51515152, 11.61616162, 11.71717172, 11.81818182, 11.91919192,\n",
       "       12.02020202, 12.12121212, 12.22222222, 12.32323232, 12.42424242,\n",
       "       12.52525253, 12.62626263, 12.72727273, 12.82828283, 12.92929293,\n",
       "       13.03030303, 13.13131313, 13.23232323, 13.33333333, 13.43434343,\n",
       "       13.53535354, 13.63636364, 13.73737374, 13.83838384, 13.93939394,\n",
       "       14.04040404, 14.14141414, 14.24242424, 14.34343434, 14.44444444,\n",
       "       14.54545455, 14.64646465, 14.74747475, 14.84848485, 14.94949495,\n",
       "       15.05050505, 15.15151515, 15.25252525, 15.35353535, 15.45454545,\n",
       "       15.55555556, 15.65656566, 15.75757576, 15.85858586, 15.95959596,\n",
       "       16.06060606, 16.16161616, 16.26262626, 16.36363636, 16.46464646,\n",
       "       16.56565657, 16.66666667, 16.76767677, 16.86868687, 16.96969697,\n",
       "       17.07070707, 17.17171717, 17.27272727, 17.37373737, 17.47474747,\n",
       "       17.57575758, 17.67676768, 17.77777778, 17.87878788, 17.97979798,\n",
       "       18.08080808, 18.18181818, 18.28282828, 18.38383838, 18.48484848,\n",
       "       18.58585859, 18.68686869, 18.78787879, 18.88888889, 18.98989899,\n",
       "       19.09090909, 19.19191919, 19.29292929, 19.39393939, 19.49494949,\n",
       "       19.5959596 , 19.6969697 , 19.7979798 , 19.8989899 , 20.        ])"
      ]
     },
     "execution_count": 41,
     "metadata": {},
     "output_type": "execute_result"
    }
   ],
   "source": [
    "np.linspace(10, 20, 100)"
   ]
  },
  {
   "cell_type": "code",
   "execution_count": null,
   "id": "f814a88e",
   "metadata": {},
   "outputs": [],
   "source": []
  },
  {
   "cell_type": "code",
   "execution_count": null,
   "id": "2fdd7343",
   "metadata": {},
   "outputs": [],
   "source": []
  },
  {
   "cell_type": "code",
   "execution_count": 42,
   "id": "ebf594d3",
   "metadata": {},
   "outputs": [
    {
     "data": {
      "text/plain": [
       "array([0., 0., 0., 0., 0.])"
      ]
     },
     "execution_count": 42,
     "metadata": {},
     "output_type": "execute_result"
    }
   ],
   "source": [
    "np.zeros(5)"
   ]
  },
  {
   "cell_type": "code",
   "execution_count": 44,
   "id": "fa4ae552",
   "metadata": {},
   "outputs": [
    {
     "data": {
      "text/plain": [
       "array([[0., 0., 0., 0.],\n",
       "       [0., 0., 0., 0.],\n",
       "       [0., 0., 0., 0.],\n",
       "       [0., 0., 0., 0.],\n",
       "       [0., 0., 0., 0.]])"
      ]
     },
     "execution_count": 44,
     "metadata": {},
     "output_type": "execute_result"
    }
   ],
   "source": [
    "arr = np.zeros((5,4))\n",
    "arr"
   ]
  },
  {
   "cell_type": "code",
   "execution_count": null,
   "id": "0f79706b",
   "metadata": {},
   "outputs": [],
   "source": []
  },
  {
   "cell_type": "code",
   "execution_count": 45,
   "id": "07192b53",
   "metadata": {},
   "outputs": [],
   "source": [
    "arr += 10"
   ]
  },
  {
   "cell_type": "code",
   "execution_count": 46,
   "id": "d43d4ff0",
   "metadata": {},
   "outputs": [
    {
     "data": {
      "text/plain": [
       "array([[10., 10., 10., 10.],\n",
       "       [10., 10., 10., 10.],\n",
       "       [10., 10., 10., 10.],\n",
       "       [10., 10., 10., 10.],\n",
       "       [10., 10., 10., 10.]])"
      ]
     },
     "execution_count": 46,
     "metadata": {},
     "output_type": "execute_result"
    }
   ],
   "source": [
    "arr"
   ]
  },
  {
   "cell_type": "code",
   "execution_count": null,
   "id": "5207b5e2",
   "metadata": {},
   "outputs": [],
   "source": []
  },
  {
   "cell_type": "code",
   "execution_count": 49,
   "id": "05ad921b",
   "metadata": {},
   "outputs": [
    {
     "data": {
      "text/plain": [
       "array([[[0, 0, 0, 0],\n",
       "        [0, 0, 0, 0],\n",
       "        [0, 0, 0, 0]],\n",
       "\n",
       "       [[0, 0, 0, 0],\n",
       "        [0, 0, 0, 0],\n",
       "        [0, 0, 0, 0]],\n",
       "\n",
       "       [[0, 0, 0, 0],\n",
       "        [0, 0, 0, 0],\n",
       "        [0, 0, 0, 0]],\n",
       "\n",
       "       [[0, 0, 0, 0],\n",
       "        [0, 0, 0, 0],\n",
       "        [0, 0, 0, 0]],\n",
       "\n",
       "       [[0, 0, 0, 0],\n",
       "        [0, 0, 0, 0],\n",
       "        [0, 0, 0, 0]]])"
      ]
     },
     "execution_count": 49,
     "metadata": {},
     "output_type": "execute_result"
    }
   ],
   "source": [
    "np.zeros((5,3,4), dtype='int')"
   ]
  },
  {
   "cell_type": "code",
   "execution_count": null,
   "id": "0bca0a61",
   "metadata": {},
   "outputs": [],
   "source": []
  },
  {
   "cell_type": "code",
   "execution_count": 50,
   "id": "22ba316b",
   "metadata": {},
   "outputs": [
    {
     "data": {
      "text/plain": [
       "array([1., 1., 1., 1., 1., 1.])"
      ]
     },
     "execution_count": 50,
     "metadata": {},
     "output_type": "execute_result"
    }
   ],
   "source": [
    "np.ones(6)"
   ]
  },
  {
   "cell_type": "code",
   "execution_count": 51,
   "id": "08778f19",
   "metadata": {},
   "outputs": [
    {
     "data": {
      "text/plain": [
       "array([[[1., 1.],\n",
       "        [1., 1.],\n",
       "        [1., 1.]],\n",
       "\n",
       "       [[1., 1.],\n",
       "        [1., 1.],\n",
       "        [1., 1.]],\n",
       "\n",
       "       [[1., 1.],\n",
       "        [1., 1.],\n",
       "        [1., 1.]],\n",
       "\n",
       "       [[1., 1.],\n",
       "        [1., 1.],\n",
       "        [1., 1.]]])"
      ]
     },
     "execution_count": 51,
     "metadata": {},
     "output_type": "execute_result"
    }
   ],
   "source": [
    "np.ones((4,3,2))"
   ]
  },
  {
   "cell_type": "code",
   "execution_count": null,
   "id": "f20e55b7",
   "metadata": {},
   "outputs": [],
   "source": []
  },
  {
   "cell_type": "code",
   "execution_count": null,
   "id": "ba6c93f4",
   "metadata": {},
   "outputs": [],
   "source": []
  },
  {
   "cell_type": "code",
   "execution_count": 52,
   "id": "3605d001",
   "metadata": {},
   "outputs": [
    {
     "data": {
      "text/plain": [
       "array([[1., 0., 0., 0., 0.],\n",
       "       [0., 1., 0., 0., 0.],\n",
       "       [0., 0., 1., 0., 0.],\n",
       "       [0., 0., 0., 1., 0.],\n",
       "       [0., 0., 0., 0., 1.]])"
      ]
     },
     "execution_count": 52,
     "metadata": {},
     "output_type": "execute_result"
    }
   ],
   "source": [
    "np.eye(5)"
   ]
  },
  {
   "cell_type": "code",
   "execution_count": null,
   "id": "2cf2e653",
   "metadata": {},
   "outputs": [],
   "source": []
  },
  {
   "cell_type": "code",
   "execution_count": 54,
   "id": "3da8ca3a",
   "metadata": {},
   "outputs": [
    {
     "data": {
      "text/plain": [
       "array([[1., 0., 0., 0.],\n",
       "       [0., 1., 0., 0.],\n",
       "       [0., 0., 1., 0.]])"
      ]
     },
     "execution_count": 54,
     "metadata": {},
     "output_type": "execute_result"
    }
   ],
   "source": [
    "np.eye(3,4)"
   ]
  },
  {
   "cell_type": "code",
   "execution_count": null,
   "id": "f73cc1fb",
   "metadata": {},
   "outputs": [],
   "source": []
  },
  {
   "cell_type": "code",
   "execution_count": 56,
   "id": "d683fdd6",
   "metadata": {},
   "outputs": [
    {
     "data": {
      "text/plain": [
       "array([[0., 0., 0., 0., 0.],\n",
       "       [1., 0., 0., 0., 0.],\n",
       "       [0., 1., 0., 0., 0.],\n",
       "       [0., 0., 1., 0., 0.],\n",
       "       [0., 0., 0., 1., 0.]])"
      ]
     },
     "execution_count": 56,
     "metadata": {},
     "output_type": "execute_result"
    }
   ],
   "source": [
    "np.eye(5, 5, -1)"
   ]
  },
  {
   "cell_type": "code",
   "execution_count": null,
   "id": "ee81cb2b",
   "metadata": {},
   "outputs": [],
   "source": []
  },
  {
   "cell_type": "code",
   "execution_count": 57,
   "id": "591606e3",
   "metadata": {},
   "outputs": [
    {
     "data": {
      "text/plain": [
       "array([[0., 1., 0., 0., 0.],\n",
       "       [0., 0., 1., 0., 0.],\n",
       "       [0., 0., 0., 1., 0.],\n",
       "       [0., 0., 0., 0., 1.],\n",
       "       [0., 0., 0., 0., 0.]])"
      ]
     },
     "execution_count": 57,
     "metadata": {},
     "output_type": "execute_result"
    }
   ],
   "source": [
    "np.eye(5, 5, 1)"
   ]
  },
  {
   "cell_type": "code",
   "execution_count": null,
   "id": "1a764032",
   "metadata": {},
   "outputs": [],
   "source": []
  },
  {
   "cell_type": "code",
   "execution_count": 59,
   "id": "d250270f",
   "metadata": {},
   "outputs": [
    {
     "data": {
      "text/plain": [
       "array([[1.21182596e-311, 1.02765654e-321, 0.00000000e+000,\n",
       "        0.00000000e+000, 8.01097888e-307, 5.02034658e+175],\n",
       "       [1.32597988e-075, 4.79122068e-037, 1.86420042e+160,\n",
       "        3.73253024e-033, 4.22287328e-062, 8.07741486e-144],\n",
       "       [3.59751658e+252, 3.96046095e+246, 1.04918621e-153,\n",
       "        7.69165785e+218, 5.04621343e+180, 1.04917822e-153],\n",
       "       [9.08366793e+223, 1.32597988e-075, 4.79122068e-037,\n",
       "        1.86420042e+160, 3.73253024e-033, 1.04915031e-153],\n",
       "       [1.94918966e-153, 2.57707751e-057, 2.26199900e-076,\n",
       "        4.18486813e-062, 2.59027896e-144, 7.79952704e-143]])"
      ]
     },
     "execution_count": 59,
     "metadata": {},
     "output_type": "execute_result"
    }
   ],
   "source": [
    "empty = np.empty((5,6))\n",
    "empty"
   ]
  },
  {
   "cell_type": "code",
   "execution_count": null,
   "id": "fa44c984",
   "metadata": {},
   "outputs": [],
   "source": []
  },
  {
   "cell_type": "code",
   "execution_count": 61,
   "id": "28d4d348",
   "metadata": {},
   "outputs": [
    {
     "data": {
      "text/plain": [
       "array([[1.21182596e-311, 1.02765654e-321, 0.00000000e+000,\n",
       "        0.00000000e+000, 8.01097888e-307, 5.02034658e+175],\n",
       "       [1.32597988e-075, 4.79122068e-037, 1.86420042e+160,\n",
       "        3.73253024e-033, 4.22287328e-062, 8.07741486e-144],\n",
       "       [3.59751658e+252, 3.96046095e+246, 1.04918621e-153,\n",
       "        7.69165785e+218, 5.04621343e+180, 1.04917822e-153],\n",
       "       [9.08366793e+223, 1.32597988e-075, 4.79122068e-037,\n",
       "        1.86420042e+160, 3.73253024e-033, 1.04915031e-153],\n",
       "       [1.94918966e-153, 2.57707751e-057, 2.26199900e-076,\n",
       "        4.18486813e-062, 2.59027896e-144, 7.79952704e-143]])"
      ]
     },
     "execution_count": 61,
     "metadata": {},
     "output_type": "execute_result"
    }
   ],
   "source": [
    "empty"
   ]
  },
  {
   "cell_type": "code",
   "execution_count": 62,
   "id": "7b5cebb9",
   "metadata": {},
   "outputs": [],
   "source": [
    "empty += 5"
   ]
  },
  {
   "cell_type": "code",
   "execution_count": 63,
   "id": "c2bcece5",
   "metadata": {},
   "outputs": [
    {
     "data": {
      "text/plain": [
       "array([[5.00000000e+000, 5.00000000e+000, 5.00000000e+000,\n",
       "        5.00000000e+000, 5.00000000e+000, 5.02034658e+175],\n",
       "       [5.00000000e+000, 5.00000000e+000, 1.86420042e+160,\n",
       "        5.00000000e+000, 5.00000000e+000, 5.00000000e+000],\n",
       "       [3.59751658e+252, 3.96046095e+246, 5.00000000e+000,\n",
       "        7.69165785e+218, 5.04621343e+180, 5.00000000e+000],\n",
       "       [9.08366793e+223, 5.00000000e+000, 5.00000000e+000,\n",
       "        1.86420042e+160, 5.00000000e+000, 5.00000000e+000],\n",
       "       [5.00000000e+000, 5.00000000e+000, 5.00000000e+000,\n",
       "        5.00000000e+000, 5.00000000e+000, 5.00000000e+000]])"
      ]
     },
     "execution_count": 63,
     "metadata": {},
     "output_type": "execute_result"
    }
   ],
   "source": [
    "empty"
   ]
  },
  {
   "cell_type": "code",
   "execution_count": 64,
   "id": "8445fc63",
   "metadata": {},
   "outputs": [
    {
     "data": {
      "text/plain": [
       "3.597520545210126e+252"
      ]
     },
     "execution_count": 64,
     "metadata": {},
     "output_type": "execute_result"
    }
   ],
   "source": [
    "empty.sum()"
   ]
  },
  {
   "cell_type": "code",
   "execution_count": null,
   "id": "e0cbfba3",
   "metadata": {},
   "outputs": [],
   "source": []
  },
  {
   "cell_type": "code",
   "execution_count": 65,
   "id": "d9e81443",
   "metadata": {},
   "outputs": [
    {
     "data": {
      "text/plain": [
       "inf"
      ]
     },
     "execution_count": 65,
     "metadata": {},
     "output_type": "execute_result"
    }
   ],
   "source": [
    "np.inf"
   ]
  },
  {
   "cell_type": "code",
   "execution_count": 66,
   "id": "b0802705",
   "metadata": {},
   "outputs": [
    {
     "data": {
      "text/plain": [
       "3.141592653589793"
      ]
     },
     "execution_count": 66,
     "metadata": {},
     "output_type": "execute_result"
    }
   ],
   "source": [
    "np.pi"
   ]
  },
  {
   "cell_type": "code",
   "execution_count": null,
   "id": "52e7105a",
   "metadata": {},
   "outputs": [],
   "source": []
  },
  {
   "cell_type": "code",
   "execution_count": null,
   "id": "c9e31a69",
   "metadata": {},
   "outputs": [],
   "source": []
  },
  {
   "cell_type": "code",
   "execution_count": 67,
   "id": "fc72ef98",
   "metadata": {},
   "outputs": [
    {
     "data": {
      "text/plain": [
       "array([[3.14159265, 3.14159265, 3.14159265, 3.14159265],\n",
       "       [3.14159265, 3.14159265, 3.14159265, 3.14159265],\n",
       "       [3.14159265, 3.14159265, 3.14159265, 3.14159265]])"
      ]
     },
     "execution_count": 67,
     "metadata": {},
     "output_type": "execute_result"
    }
   ],
   "source": [
    "np.full((3,4), np.pi)"
   ]
  },
  {
   "cell_type": "code",
   "execution_count": null,
   "id": "6147158b",
   "metadata": {},
   "outputs": [],
   "source": []
  },
  {
   "cell_type": "code",
   "execution_count": 68,
   "id": "8f7ed08f",
   "metadata": {},
   "outputs": [
    {
     "data": {
      "text/plain": [
       "array([[inf, inf, inf, inf, inf, inf],\n",
       "       [inf, inf, inf, inf, inf, inf],\n",
       "       [inf, inf, inf, inf, inf, inf],\n",
       "       [inf, inf, inf, inf, inf, inf],\n",
       "       [inf, inf, inf, inf, inf, inf]])"
      ]
     },
     "execution_count": 68,
     "metadata": {},
     "output_type": "execute_result"
    }
   ],
   "source": [
    "np.full((5,6), np.inf)"
   ]
  },
  {
   "cell_type": "code",
   "execution_count": null,
   "id": "2c5de29a",
   "metadata": {},
   "outputs": [],
   "source": []
  },
  {
   "cell_type": "code",
   "execution_count": null,
   "id": "2611f5f1",
   "metadata": {},
   "outputs": [],
   "source": []
  },
  {
   "cell_type": "code",
   "execution_count": 69,
   "id": "f57e77f4",
   "metadata": {},
   "outputs": [
    {
     "data": {
      "text/plain": [
       "array([[10., 10., 10., 10.],\n",
       "       [10., 10., 10., 10.],\n",
       "       [10., 10., 10., 10.],\n",
       "       [10., 10., 10., 10.],\n",
       "       [10., 10., 10., 10.]])"
      ]
     },
     "execution_count": 69,
     "metadata": {},
     "output_type": "execute_result"
    }
   ],
   "source": [
    "arr"
   ]
  },
  {
   "cell_type": "code",
   "execution_count": null,
   "id": "0ed5b3af",
   "metadata": {},
   "outputs": [],
   "source": []
  },
  {
   "cell_type": "code",
   "execution_count": null,
   "id": "645e311f",
   "metadata": {},
   "outputs": [],
   "source": []
  },
  {
   "cell_type": "code",
   "execution_count": 70,
   "id": "da7d85ca",
   "metadata": {},
   "outputs": [],
   "source": [
    "arr = np.arange(1, 21).reshape((4,5))"
   ]
  },
  {
   "cell_type": "code",
   "execution_count": 71,
   "id": "c37a5941",
   "metadata": {},
   "outputs": [
    {
     "data": {
      "text/plain": [
       "array([[ 1,  2,  3,  4,  5],\n",
       "       [ 6,  7,  8,  9, 10],\n",
       "       [11, 12, 13, 14, 15],\n",
       "       [16, 17, 18, 19, 20]])"
      ]
     },
     "execution_count": 71,
     "metadata": {},
     "output_type": "execute_result"
    }
   ],
   "source": [
    "arr"
   ]
  },
  {
   "cell_type": "code",
   "execution_count": 72,
   "id": "5bb32225",
   "metadata": {},
   "outputs": [
    {
     "data": {
      "text/plain": [
       "array([[ 1,  6, 11, 16],\n",
       "       [ 2,  7, 12, 17],\n",
       "       [ 3,  8, 13, 18],\n",
       "       [ 4,  9, 14, 19],\n",
       "       [ 5, 10, 15, 20]])"
      ]
     },
     "execution_count": 72,
     "metadata": {},
     "output_type": "execute_result"
    }
   ],
   "source": [
    "arr.T"
   ]
  },
  {
   "cell_type": "code",
   "execution_count": null,
   "id": "bca6066b",
   "metadata": {},
   "outputs": [],
   "source": []
  },
  {
   "cell_type": "code",
   "execution_count": 73,
   "id": "64000ff9",
   "metadata": {},
   "outputs": [
    {
     "data": {
      "text/plain": [
       "array([[ 1,  6, 11, 16],\n",
       "       [ 2,  7, 12, 17],\n",
       "       [ 3,  8, 13, 18],\n",
       "       [ 4,  9, 14, 19],\n",
       "       [ 5, 10, 15, 20]])"
      ]
     },
     "execution_count": 73,
     "metadata": {},
     "output_type": "execute_result"
    }
   ],
   "source": [
    "np.transpose(arr)"
   ]
  },
  {
   "cell_type": "code",
   "execution_count": null,
   "id": "9386e2e3",
   "metadata": {},
   "outputs": [],
   "source": []
  },
  {
   "cell_type": "code",
   "execution_count": 74,
   "id": "58e2cf4d",
   "metadata": {},
   "outputs": [
    {
     "data": {
      "text/plain": [
       "array([[ 1,  2,  3,  4,  5],\n",
       "       [ 6,  7,  8,  9, 10],\n",
       "       [11, 12, 13, 14, 15],\n",
       "       [16, 17, 18, 19, 20]])"
      ]
     },
     "execution_count": 74,
     "metadata": {},
     "output_type": "execute_result"
    }
   ],
   "source": [
    "arr"
   ]
  },
  {
   "cell_type": "code",
   "execution_count": null,
   "id": "a1ee0d80",
   "metadata": {},
   "outputs": [],
   "source": []
  },
  {
   "cell_type": "code",
   "execution_count": 77,
   "id": "71b8b13d",
   "metadata": {},
   "outputs": [
    {
     "name": "stdout",
     "output_type": "stream",
     "text": [
      "(1, 6, 11, 16)\n",
      "(2, 7, 12, 17)\n",
      "(3, 8, 13, 18)\n",
      "(4, 9, 14, 19)\n",
      "(5, 10, 15, 20)\n"
     ]
    }
   ],
   "source": [
    "for i in zip(*arr):\n",
    "    print(i)"
   ]
  },
  {
   "cell_type": "code",
   "execution_count": 79,
   "id": "931369e6",
   "metadata": {},
   "outputs": [
    {
     "data": {
      "text/plain": [
       "array([[ 1,  6, 11, 16],\n",
       "       [ 2,  7, 12, 17],\n",
       "       [ 3,  8, 13, 18],\n",
       "       [ 4,  9, 14, 19],\n",
       "       [ 5, 10, 15, 20]])"
      ]
     },
     "execution_count": 79,
     "metadata": {},
     "output_type": "execute_result"
    }
   ],
   "source": [
    "np.array(list(zip(*arr)))"
   ]
  },
  {
   "cell_type": "code",
   "execution_count": 80,
   "id": "6558b89d",
   "metadata": {},
   "outputs": [
    {
     "data": {
      "text/plain": [
       "array([[ 1,  2,  3,  4,  5],\n",
       "       [ 6,  7,  8,  9, 10],\n",
       "       [11, 12, 13, 14, 15],\n",
       "       [16, 17, 18, 19, 20]])"
      ]
     },
     "execution_count": 80,
     "metadata": {},
     "output_type": "execute_result"
    }
   ],
   "source": [
    "arr"
   ]
  },
  {
   "cell_type": "code",
   "execution_count": null,
   "id": "845c439f",
   "metadata": {},
   "outputs": [],
   "source": []
  },
  {
   "cell_type": "code",
   "execution_count": 81,
   "id": "fa363c36",
   "metadata": {},
   "outputs": [
    {
     "name": "stdout",
     "output_type": "stream",
     "text": [
      "(1, 6, 11, 16)\n",
      "(2, 7, 12, 17)\n",
      "(3, 8, 13, 18)\n",
      "(4, 9, 14, 19)\n",
      "(5, 10, 15, 20)\n"
     ]
    }
   ],
   "source": [
    "for i in zip(*arr):\n",
    "    print(i)"
   ]
  },
  {
   "cell_type": "code",
   "execution_count": null,
   "id": "800bc2ba",
   "metadata": {},
   "outputs": [],
   "source": []
  }
 ],
 "metadata": {
  "kernelspec": {
   "display_name": "Python 3 (ipykernel)",
   "language": "python",
   "name": "python3"
  },
  "language_info": {
   "codemirror_mode": {
    "name": "ipython",
    "version": 3
   },
   "file_extension": ".py",
   "mimetype": "text/x-python",
   "name": "python",
   "nbconvert_exporter": "python",
   "pygments_lexer": "ipython3",
   "version": "3.10.9"
  }
 },
 "nbformat": 4,
 "nbformat_minor": 5
}
