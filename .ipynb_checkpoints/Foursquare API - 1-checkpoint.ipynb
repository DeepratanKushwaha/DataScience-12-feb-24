{
 "cells": [
  {
   "cell_type": "code",
   "execution_count": 1,
   "id": "d9e5394d",
   "metadata": {},
   "outputs": [],
   "source": [
    "api_key = \"fsq3/qWKdb9qPqlEThP0P7+f2kX52mr7qCPxMoBZAg3Ba/U=\""
   ]
  },
  {
   "cell_type": "code",
   "execution_count": 4,
   "id": "705c1c7b",
   "metadata": {},
   "outputs": [
    {
     "data": {
      "text/plain": [
       "<Response [200]>"
      ]
     },
     "execution_count": 4,
     "metadata": {},
     "output_type": "execute_result"
    }
   ],
   "source": [
    "import requests\n",
    "\n",
    "url = \"https://api.foursquare.com/v3/places/search\"\n",
    "\n",
    "params = {\n",
    "    \"query\": \"coffee\",\n",
    "    \"ll\": \"26.9124,75.7873\",\n",
    "    \"open_now\": \"true\",\n",
    "    \"sort\":\"DISTANCE\"\n",
    "}\n",
    "\n",
    "headers = {\n",
    "    \"Accept\": \"application/json\",\n",
    "    \"Authorization\": api_key\n",
    "}\n",
    "\n",
    "resp = requests.get(url, params=params, headers=headers)\n",
    "resp"
   ]
  },
  {
   "cell_type": "code",
   "execution_count": 5,
   "id": "c092205c",
   "metadata": {
    "scrolled": true
   },
   "outputs": [
    {
     "data": {
      "text/plain": [
       "b'{\"results\":[{\"fsq_id\":\"5c8f5d8cdeb49500259aa796\",\"categories\":[{\"id\":13034,\"name\":\"Caf\\xc3\\xa9\",\"short_name\":\"Caf\\xc3\\xa9\",\"plural_name\":\"Caf\\xc3\\xa9s\",\"icon\":{\"prefix\":\"https://ss3.4sqi.net/img/categories_v2/food/cafe_\",\"suffix\":\".png\"}}],\"chains\":[],\"closed_bucket\":\"Unsure\",\"distance\":805,\"geocodes\":{\"main\":{\"latitude\":26.905228,\"longitude\":75.786299}},\"link\":\"/v3/places/5c8f5d8cdeb49500259aa796\",\"location\":{\"address\":\"28 Civil Lines Road, Shivaji Nagar, Suraj\",\"country\":\"IN\",\"cross_street\":\"\",\"formatted_address\":\"28 Civil Lines Road, Shivaji Nagar, Suraj, Jaipur 302006, R\\xc4\\x81jasth\\xc4\\x81n\",\"locality\":\"Jaipur\",\"postcode\":\"302006\",\"region\":\"R\\xc4\\x81jasth\\xc4\\x81n\"},\"name\":\"Cafe Kothi\",\"related_places\":{},\"timezone\":\"Asia/Kolkata\"},{\"fsq_id\":\"50081e28e4b05eac5b27a1e9\",\"categories\":[{\"id\":13002,\"name\":\"Bakery\",\"short_name\":\"Bakery\",\"plural_name\":\"Bakeries\",\"icon\":{\"prefix\":\"https://ss3.4sqi.net/img/categories_v2/food/bakery_\",\"suffix\":\".png\"}},{\"id\":13034,\"name\":\"Caf\\xc3\\xa9\",\"short_name\":\"Caf\\xc3\\xa9\",\"plural_name\":\"Caf\\xc3\\xa9s\",\"icon\":{\"prefix\":\"https://ss3.4sqi.net/img/categories_v2/food/cafe_\",\"suffix\":\".png\"}},{\"id\":13065,\"name\":\"Restaurant\",\"short_name\":\"Restaurant\",\"plural_name\":\"Restaurants\",\"icon\":{\"prefix\":\"https://ss3.4sqi.net/img/categories_v2/food/default_\",\"suffix\":\".png\"}}],\"chains\":[],\"closed_bucket\":\"Unsure\",\"distance\":849,\"geocodes\":{\"main\":{\"latitude\":26.915614,\"longitude\":75.794941}},\"link\":\"/v3/places/50081e28e4b05eac5b27a1e9\",\"location\":{\"country\":\"IN\",\"cross_street\":\"\",\"formatted_address\":\"941735, R\\xc4\\x81jasth\\xc4\\x81n\",\"postcode\":\"941735\",\"region\":\"R\\xc4\\x81jasth\\xc4\\x81n\"},\"name\":\"NIBS- The Chocolate Workshop\",\"related_places\":{},\"timezone\":\"Asia/Kolkata\"},{\"fsq_id\":\"5bb75785bf7dde002cee3d87\",\"categories\":[{\"id\":13034,\"name\":\"Caf\\xc3\\xa9\",\"short_name\":\"Caf\\xc3\\xa9\",\"plural_name\":\"Caf\\xc3\\xa9s\",\"icon\":{\"prefix\":\"https://ss3.4sqi.net/img/categories_v2/food/cafe_\",\"suffix\":\".png\"}},{\"id\":13065,\"name\":\"Restaurant\",\"short_name\":\"Restaurant\",\"plural_name\":\"Restaurants\",\"icon\":{\"prefix\":\"https://ss3.4sqi.net/img/categories_v2/food/default_\",\"suffix\":\".png\"}}],\"chains\":[],\"closed_bucket\":\"LikelyOpen\",\"distance\":1065,\"geocodes\":{\"main\":{\"latitude\":26.905237,\"longitude\":75.794367}},\"link\":\"/v3/places/5bb75785bf7dde002cee3d87\",\"location\":{\"country\":\"IN\",\"cross_street\":\"\",\"formatted_address\":\"Jaipur 302001, R\\xc4\\x81jasth\\xc4\\x81n\",\"locality\":\"Jaipur\",\"postcode\":\"302001\",\"region\":\"R\\xc4\\x81jasth\\xc4\\x81n\"},\"name\":\"Poppin Cafe\",\"related_places\":{},\"timezone\":\"Asia/Kolkata\"},{\"fsq_id\":\"5aa968f9dd84424438483cef\",\"categories\":[{\"id\":13199,\"name\":\"Indian Restaurant\",\"short_name\":\"Indian\",\"plural_name\":\"Indian Restaurants\",\"icon\":{\"prefix\":\"https://ss3.4sqi.net/img/categories_v2/food/indian_\",\"suffix\":\".png\"}}],\"chains\":[],\"closed_bucket\":\"LikelyOpen\",\"distance\":1113,\"geocodes\":{\"main\":{\"latitude\":26.919592,\"longitude\":75.794788},\"roof\":{\"latitude\":26.919592,\"longitude\":75.794788}},\"link\":\"/v3/places/5aa968f9dd84424438483cef\",\"location\":{\"address\":\"Radisson Jaipur City Center, Khasa Kothi Circle, Mi Road\",\"country\":\"IN\",\"cross_street\":\"\",\"formatted_address\":\"Radisson Jaipur City Center, Khasa Kothi Circle, Mi Road, Jaipur 302001, R\\xc4\\x81jasth\\xc4\\x81n\",\"locality\":\"Jaipur\",\"postcode\":\"302001\",\"region\":\"R\\xc4\\x81jasth\\xc4\\x81n\"},\"name\":\"Farzi Cafe\",\"related_places\":{},\"timezone\":\"Asia/Kolkata\"},{\"fsq_id\":\"f07534203aea47efab86e586\",\"categories\":[{\"id\":13034,\"name\":\"Caf\\xc3\\xa9\",\"short_name\":\"Caf\\xc3\\xa9\",\"plural_name\":\"Caf\\xc3\\xa9s\",\"icon\":{\"prefix\":\"https://ss3.4sqi.net/img/categories_v2/food/cafe_\",\"suffix\":\".png\"}},{\"id\":13145,\"name\":\"Fast Food Restaurant\",\"short_name\":\"Fast Food\",\"plural_name\":\"Fast Food Restaurants\",\"icon\":{\"prefix\":\"https://ss3.4sqi.net/img/categories_v2/food/fastfood_\",\"suffix\":\".png\"}}],\"chains\":[],\"closed_bucket\":\"LikelyOpen\",\"distance\":1135,\"geocodes\":{\"main\":{\"latitude\":26.90622,\"longitude\":75.796424}},\"link\":\"/v3/places/f07534203aea47efab86e586\",\"location\":{\"address\":\"J-1, Jamna Lal Bajaj Marg\",\"country\":\"IN\",\"formatted_address\":\"J-1, Jamna Lal Bajaj Marg, Jaipur 906202, R\\xc4\\x81jasth\\xc4\\x81n\",\"locality\":\"Jaipur\",\"postcode\":\"906202\",\"region\":\"R\\xc4\\x81jasth\\xc4\\x81n\"},\"name\":\"Food Junkys\",\"related_places\":{},\"timezone\":\"Asia/Kolkata\"},{\"fsq_id\":\"53b10278498ec970f3d7ef9d\",\"categories\":[{\"id\":13199,\"name\":\"Indian Restaurant\",\"short_name\":\"Indian\",\"plural_name\":\"Indian Restaurants\",\"icon\":{\"prefix\":\"https://ss3.4sqi.net/img/categories_v2/food/indian_\",\"suffix\":\".png\"}}],\"chains\":[],\"closed_bucket\":\"LikelyOpen\",\"distance\":1315,\"geocodes\":{\"main\":{\"latitude\":26.901152,\"longitude\":75.783924},\"roof\":{\"latitude\":26.901152,\"longitude\":75.783924}},\"link\":\"/v3/places/53b10278498ec970f3d7ef9d\",\"location\":{\"address\":\"Hilton Jaipur, 42 Geejgarh House, Hawa Sadak, Bais Godam\",\"country\":\"IN\",\"cross_street\":\"Hilton\",\"formatted_address\":\"Hilton Jaipur, 42 Geejgarh House, Hawa Sadak, Bais Godam (Hilton), Jaipur 302006, R\\xc4\\x81jasth\\xc4\\x81n\",\"locality\":\"Jaipur\",\"postcode\":\"302006\",\"region\":\"R\\xc4\\x81jasth\\xc4\\x81n\"},\"name\":\"Aurum\",\"related_places\":{\"parent\":{\"fsq_id\":\"547739a9498e004e1ee849d2\",\"categories\":[{\"id\":19014,\"name\":\"Hotel\",\"short_name\":\"Hotel\",\"plural_name\":\"Hotels\",\"icon\":{\"prefix\":\"https://ss3.4sqi.net/img/categories_v2/travel/hotel_\",\"suffix\":\".png\"}}],\"name\":\"Hilton Jaipur\"}},\"timezone\":\"Asia/Kolkata\"},{\"fsq_id\":\"570a560e498e581477f4134a\",\"categories\":[{\"id\":13065,\"name\":\"Restaurant\",\"short_name\":\"Restaurant\",\"plural_name\":\"Restaurants\",\"icon\":{\"prefix\":\"https://ss3.4sqi.net/img/categories_v2/food/default_\",\"suffix\":\".png\"}}],\"chains\":[],\"closed_bucket\":\"LikelyOpen\",\"distance\":1319,\"geocodes\":{\"main\":{\"latitude\":26.902519,\"longitude\":75.794095},\"roof\":{\"latitude\":26.902519,\"longitude\":75.794095}},\"link\":\"/v3/places/570a560e498e581477f4134a\",\"location\":{\"address\":\"B16, Near Mgf Mall, Bhawani Singh Marg, Durga Das Colony, C Scheme\",\"address_extended\":\"Near Mgf Mall, C-Scheme\",\"country\":\"IN\",\"cross_street\":\"\",\"formatted_address\":\"B16, Near Mgf Mall, Bhawani Singh Marg, Durga Das Colony, C Scheme, Jaipur 302001, R\\xc4\\x81jasth\\xc4\\x81n\",\"locality\":\"Jaipur\",\"postcode\":\"302001\",\"region\":\"R\\xc4\\x81jasth\\xc4\\x81n\"},\"name\":\"Nibs Cafe\",\"related_places\":{},\"timezone\":\"Asia/Kolkata\"},{\"fsq_id\":\"5623621e498e8ec2b86fc810\",\"categories\":[{\"id\":13065,\"name\":\"Restaurant\",\"short_name\":\"Restaurant\",\"plural_name\":\"Restaurants\",\"icon\":{\"prefix\":\"https://ss3.4sqi.net/img/categories_v2/food/default_\",\"suffix\":\".png\"}}],\"chains\":[],\"closed_bucket\":\"Unsure\",\"distance\":1341,\"geocodes\":{\"main\":{\"latitude\":26.904212,\"longitude\":75.797208}},\"link\":\"/v3/places/5623621e498e8ec2b86fc810\",\"location\":{\"address\":\"P 25, Yudhisthir Marg\",\"address_extended\":\"Near Deer Park, C Scheme\",\"country\":\"IN\",\"cross_street\":\"C Scheme\",\"formatted_address\":\"P 25, Yudhisthir Marg (C Scheme), Jaipur 302001, R\\xc4\\x81jasth\\xc4\\x81n\",\"locality\":\"Jaipur\",\"postcode\":\"302001\",\"region\":\"R\\xc4\\x81jasth\\xc4\\x81n\"},\"name\":\"Curious Life Coffee Roasters\",\"related_places\":{},\"timezone\":\"Asia/Kolkata\"},{\"fsq_id\":\"541dab7a498e0fca5a8e6831\",\"categories\":[{\"id\":13065,\"name\":\"Restaurant\",\"short_name\":\"Restaurant\",\"plural_name\":\"Restaurants\",\"icon\":{\"prefix\":\"https://ss3.4sqi.net/img/categories_v2/food/default_\",\"suffix\":\".png\"}}],\"chains\":[],\"closed_bucket\":\"LikelyOpen\",\"distance\":1378,\"geocodes\":{\"main\":{\"latitude\":26.925482,\"longitude\":75.790869}},\"link\":\"/v3/places/541dab7a498e0fca5a8e6831\",\"location\":{\"address\":\"D160, Kabir Marg\",\"address_extended\":\"Near Collectreat Circle, Bani Park\",\"country\":\"IN\",\"cross_street\":\"Bani Park,\",\"formatted_address\":\"D160, Kabir Marg (Bani Park,), Jaipur 302016, R\\xc4\\x81jasth\\xc4\\x81n\",\"locality\":\"Jaipur\",\"postcode\":\"302016\",\"region\":\"R\\xc4\\x81jasth\\xc4\\x81n\"},\"name\":\"Chit Chat Restaurant\",\"related_places\":{},\"timezone\":\"Asia/Kolkata\"},{\"fsq_id\":\"5da30539fc263200083542df\",\"categories\":[{\"id\":13065,\"name\":\"Restaurant\",\"short_name\":\"Restaurant\",\"plural_name\":\"Restaurants\",\"icon\":{\"prefix\":\"https://ss3.4sqi.net/img/categories_v2/food/default_\",\"suffix\":\".png\"}}],\"chains\":[],\"closed_bucket\":\"Unsure\",\"distance\":1488,\"geocodes\":{\"main\":{\"latitude\":26.911239,\"longitude\":75.802273}},\"link\":\"/v3/places/5da30539fc263200083542df\",\"location\":{\"address\":\"D29-a, Chandra Niwas, Subhash Marg, C-Scheme, C Scheme\",\"country\":\"IN\",\"cross_street\":\"\",\"formatted_address\":\"D29-a, Chandra Niwas, Subhash Marg, C-Scheme, C Scheme, Jaipur 302001, R\\xc4\\x81jasth\\xc4\\x81n\",\"locality\":\"Jaipur\",\"postcode\":\"302001\",\"region\":\"R\\xc4\\x81jasth\\xc4\\x81n\"},\"name\":\"Tea Tradition\",\"related_places\":{},\"timezone\":\"Asia/Kolkata\"}],\"context\":{\"geo_bounds\":{\"circle\":{\"center\":{\"latitude\":26.9124,\"longitude\":75.7873},\"radius\":22000}}}}'"
      ]
     },
     "execution_count": 5,
     "metadata": {},
     "output_type": "execute_result"
    }
   ],
   "source": [
    "resp.content"
   ]
  },
  {
   "cell_type": "code",
   "execution_count": 6,
   "id": "6d641c68",
   "metadata": {
    "scrolled": true
   },
   "outputs": [
    {
     "name": "stdout",
     "output_type": "stream",
     "text": [
      "{'results': [{'fsq_id': '5c8f5d8cdeb49500259aa796', 'categories': [{'id': 13034, 'name': 'Café', 'short_name': 'Café', 'plural_name': 'Cafés', 'icon': {'prefix': 'https://ss3.4sqi.net/img/categories_v2/food/cafe_', 'suffix': '.png'}}], 'chains': [], 'closed_bucket': 'Unsure', 'distance': 805, 'geocodes': {'main': {'latitude': 26.905228, 'longitude': 75.786299}}, 'link': '/v3/places/5c8f5d8cdeb49500259aa796', 'location': {'address': '28 Civil Lines Road, Shivaji Nagar, Suraj', 'country': 'IN', 'cross_street': '', 'formatted_address': '28 Civil Lines Road, Shivaji Nagar, Suraj, Jaipur 302006, Rājasthān', 'locality': 'Jaipur', 'postcode': '302006', 'region': 'Rājasthān'}, 'name': 'Cafe Kothi', 'related_places': {}, 'timezone': 'Asia/Kolkata'}, {'fsq_id': '50081e28e4b05eac5b27a1e9', 'categories': [{'id': 13002, 'name': 'Bakery', 'short_name': 'Bakery', 'plural_name': 'Bakeries', 'icon': {'prefix': 'https://ss3.4sqi.net/img/categories_v2/food/bakery_', 'suffix': '.png'}}, {'id': 13034, 'name': 'Café', 'short_name': 'Café', 'plural_name': 'Cafés', 'icon': {'prefix': 'https://ss3.4sqi.net/img/categories_v2/food/cafe_', 'suffix': '.png'}}, {'id': 13065, 'name': 'Restaurant', 'short_name': 'Restaurant', 'plural_name': 'Restaurants', 'icon': {'prefix': 'https://ss3.4sqi.net/img/categories_v2/food/default_', 'suffix': '.png'}}], 'chains': [], 'closed_bucket': 'Unsure', 'distance': 849, 'geocodes': {'main': {'latitude': 26.915614, 'longitude': 75.794941}}, 'link': '/v3/places/50081e28e4b05eac5b27a1e9', 'location': {'country': 'IN', 'cross_street': '', 'formatted_address': '941735, Rājasthān', 'postcode': '941735', 'region': 'Rājasthān'}, 'name': 'NIBS- The Chocolate Workshop', 'related_places': {}, 'timezone': 'Asia/Kolkata'}, {'fsq_id': '5bb75785bf7dde002cee3d87', 'categories': [{'id': 13034, 'name': 'Café', 'short_name': 'Café', 'plural_name': 'Cafés', 'icon': {'prefix': 'https://ss3.4sqi.net/img/categories_v2/food/cafe_', 'suffix': '.png'}}, {'id': 13065, 'name': 'Restaurant', 'short_name': 'Restaurant', 'plural_name': 'Restaurants', 'icon': {'prefix': 'https://ss3.4sqi.net/img/categories_v2/food/default_', 'suffix': '.png'}}], 'chains': [], 'closed_bucket': 'LikelyOpen', 'distance': 1065, 'geocodes': {'main': {'latitude': 26.905237, 'longitude': 75.794367}}, 'link': '/v3/places/5bb75785bf7dde002cee3d87', 'location': {'country': 'IN', 'cross_street': '', 'formatted_address': 'Jaipur 302001, Rājasthān', 'locality': 'Jaipur', 'postcode': '302001', 'region': 'Rājasthān'}, 'name': 'Poppin Cafe', 'related_places': {}, 'timezone': 'Asia/Kolkata'}, {'fsq_id': '5aa968f9dd84424438483cef', 'categories': [{'id': 13199, 'name': 'Indian Restaurant', 'short_name': 'Indian', 'plural_name': 'Indian Restaurants', 'icon': {'prefix': 'https://ss3.4sqi.net/img/categories_v2/food/indian_', 'suffix': '.png'}}], 'chains': [], 'closed_bucket': 'LikelyOpen', 'distance': 1113, 'geocodes': {'main': {'latitude': 26.919592, 'longitude': 75.794788}, 'roof': {'latitude': 26.919592, 'longitude': 75.794788}}, 'link': '/v3/places/5aa968f9dd84424438483cef', 'location': {'address': 'Radisson Jaipur City Center, Khasa Kothi Circle, Mi Road', 'country': 'IN', 'cross_street': '', 'formatted_address': 'Radisson Jaipur City Center, Khasa Kothi Circle, Mi Road, Jaipur 302001, Rājasthān', 'locality': 'Jaipur', 'postcode': '302001', 'region': 'Rājasthān'}, 'name': 'Farzi Cafe', 'related_places': {}, 'timezone': 'Asia/Kolkata'}, {'fsq_id': 'f07534203aea47efab86e586', 'categories': [{'id': 13034, 'name': 'Café', 'short_name': 'Café', 'plural_name': 'Cafés', 'icon': {'prefix': 'https://ss3.4sqi.net/img/categories_v2/food/cafe_', 'suffix': '.png'}}, {'id': 13145, 'name': 'Fast Food Restaurant', 'short_name': 'Fast Food', 'plural_name': 'Fast Food Restaurants', 'icon': {'prefix': 'https://ss3.4sqi.net/img/categories_v2/food/fastfood_', 'suffix': '.png'}}], 'chains': [], 'closed_bucket': 'LikelyOpen', 'distance': 1135, 'geocodes': {'main': {'latitude': 26.90622, 'longitude': 75.796424}}, 'link': '/v3/places/f07534203aea47efab86e586', 'location': {'address': 'J-1, Jamna Lal Bajaj Marg', 'country': 'IN', 'formatted_address': 'J-1, Jamna Lal Bajaj Marg, Jaipur 906202, Rājasthān', 'locality': 'Jaipur', 'postcode': '906202', 'region': 'Rājasthān'}, 'name': 'Food Junkys', 'related_places': {}, 'timezone': 'Asia/Kolkata'}, {'fsq_id': '53b10278498ec970f3d7ef9d', 'categories': [{'id': 13199, 'name': 'Indian Restaurant', 'short_name': 'Indian', 'plural_name': 'Indian Restaurants', 'icon': {'prefix': 'https://ss3.4sqi.net/img/categories_v2/food/indian_', 'suffix': '.png'}}], 'chains': [], 'closed_bucket': 'LikelyOpen', 'distance': 1315, 'geocodes': {'main': {'latitude': 26.901152, 'longitude': 75.783924}, 'roof': {'latitude': 26.901152, 'longitude': 75.783924}}, 'link': '/v3/places/53b10278498ec970f3d7ef9d', 'location': {'address': 'Hilton Jaipur, 42 Geejgarh House, Hawa Sadak, Bais Godam', 'country': 'IN', 'cross_street': 'Hilton', 'formatted_address': 'Hilton Jaipur, 42 Geejgarh House, Hawa Sadak, Bais Godam (Hilton), Jaipur 302006, Rājasthān', 'locality': 'Jaipur', 'postcode': '302006', 'region': 'Rājasthān'}, 'name': 'Aurum', 'related_places': {'parent': {'fsq_id': '547739a9498e004e1ee849d2', 'categories': [{'id': 19014, 'name': 'Hotel', 'short_name': 'Hotel', 'plural_name': 'Hotels', 'icon': {'prefix': 'https://ss3.4sqi.net/img/categories_v2/travel/hotel_', 'suffix': '.png'}}], 'name': 'Hilton Jaipur'}}, 'timezone': 'Asia/Kolkata'}, {'fsq_id': '570a560e498e581477f4134a', 'categories': [{'id': 13065, 'name': 'Restaurant', 'short_name': 'Restaurant', 'plural_name': 'Restaurants', 'icon': {'prefix': 'https://ss3.4sqi.net/img/categories_v2/food/default_', 'suffix': '.png'}}], 'chains': [], 'closed_bucket': 'LikelyOpen', 'distance': 1319, 'geocodes': {'main': {'latitude': 26.902519, 'longitude': 75.794095}, 'roof': {'latitude': 26.902519, 'longitude': 75.794095}}, 'link': '/v3/places/570a560e498e581477f4134a', 'location': {'address': 'B16, Near Mgf Mall, Bhawani Singh Marg, Durga Das Colony, C Scheme', 'address_extended': 'Near Mgf Mall, C-Scheme', 'country': 'IN', 'cross_street': '', 'formatted_address': 'B16, Near Mgf Mall, Bhawani Singh Marg, Durga Das Colony, C Scheme, Jaipur 302001, Rājasthān', 'locality': 'Jaipur', 'postcode': '302001', 'region': 'Rājasthān'}, 'name': 'Nibs Cafe', 'related_places': {}, 'timezone': 'Asia/Kolkata'}, {'fsq_id': '5623621e498e8ec2b86fc810', 'categories': [{'id': 13065, 'name': 'Restaurant', 'short_name': 'Restaurant', 'plural_name': 'Restaurants', 'icon': {'prefix': 'https://ss3.4sqi.net/img/categories_v2/food/default_', 'suffix': '.png'}}], 'chains': [], 'closed_bucket': 'Unsure', 'distance': 1341, 'geocodes': {'main': {'latitude': 26.904212, 'longitude': 75.797208}}, 'link': '/v3/places/5623621e498e8ec2b86fc810', 'location': {'address': 'P 25, Yudhisthir Marg', 'address_extended': 'Near Deer Park, C Scheme', 'country': 'IN', 'cross_street': 'C Scheme', 'formatted_address': 'P 25, Yudhisthir Marg (C Scheme), Jaipur 302001, Rājasthān', 'locality': 'Jaipur', 'postcode': '302001', 'region': 'Rājasthān'}, 'name': 'Curious Life Coffee Roasters', 'related_places': {}, 'timezone': 'Asia/Kolkata'}, {'fsq_id': '541dab7a498e0fca5a8e6831', 'categories': [{'id': 13065, 'name': 'Restaurant', 'short_name': 'Restaurant', 'plural_name': 'Restaurants', 'icon': {'prefix': 'https://ss3.4sqi.net/img/categories_v2/food/default_', 'suffix': '.png'}}], 'chains': [], 'closed_bucket': 'LikelyOpen', 'distance': 1378, 'geocodes': {'main': {'latitude': 26.925482, 'longitude': 75.790869}}, 'link': '/v3/places/541dab7a498e0fca5a8e6831', 'location': {'address': 'D160, Kabir Marg', 'address_extended': 'Near Collectreat Circle, Bani Park', 'country': 'IN', 'cross_street': 'Bani Park,', 'formatted_address': 'D160, Kabir Marg (Bani Park,), Jaipur 302016, Rājasthān', 'locality': 'Jaipur', 'postcode': '302016', 'region': 'Rājasthān'}, 'name': 'Chit Chat Restaurant', 'related_places': {}, 'timezone': 'Asia/Kolkata'}, {'fsq_id': '5da30539fc263200083542df', 'categories': [{'id': 13065, 'name': 'Restaurant', 'short_name': 'Restaurant', 'plural_name': 'Restaurants', 'icon': {'prefix': 'https://ss3.4sqi.net/img/categories_v2/food/default_', 'suffix': '.png'}}], 'chains': [], 'closed_bucket': 'Unsure', 'distance': 1488, 'geocodes': {'main': {'latitude': 26.911239, 'longitude': 75.802273}}, 'link': '/v3/places/5da30539fc263200083542df', 'location': {'address': 'D29-a, Chandra Niwas, Subhash Marg, C-Scheme, C Scheme', 'country': 'IN', 'cross_street': '', 'formatted_address': 'D29-a, Chandra Niwas, Subhash Marg, C-Scheme, C Scheme, Jaipur 302001, Rājasthān', 'locality': 'Jaipur', 'postcode': '302001', 'region': 'Rājasthān'}, 'name': 'Tea Tradition', 'related_places': {}, 'timezone': 'Asia/Kolkata'}], 'context': {'geo_bounds': {'circle': {'center': {'latitude': 26.9124, 'longitude': 75.7873}, 'radius': 22000}}}}\n"
     ]
    }
   ],
   "source": [
    "data = resp.json()\n",
    "print(data)"
   ]
  },
  {
   "cell_type": "code",
   "execution_count": 7,
   "id": "a960f7fa",
   "metadata": {},
   "outputs": [
    {
     "data": {
      "text/plain": [
       "dict_keys(['results', 'context'])"
      ]
     },
     "execution_count": 7,
     "metadata": {},
     "output_type": "execute_result"
    }
   ],
   "source": [
    "data.keys()"
   ]
  },
  {
   "cell_type": "code",
   "execution_count": 8,
   "id": "f7650bc8",
   "metadata": {
    "scrolled": true
   },
   "outputs": [
    {
     "name": "stdout",
     "output_type": "stream",
     "text": [
      "[{'fsq_id': '5c8f5d8cdeb49500259aa796', 'categories': [{'id': 13034, 'name': 'Café', 'short_name': 'Café', 'plural_name': 'Cafés', 'icon': {'prefix': 'https://ss3.4sqi.net/img/categories_v2/food/cafe_', 'suffix': '.png'}}], 'chains': [], 'closed_bucket': 'Unsure', 'distance': 805, 'geocodes': {'main': {'latitude': 26.905228, 'longitude': 75.786299}}, 'link': '/v3/places/5c8f5d8cdeb49500259aa796', 'location': {'address': '28 Civil Lines Road, Shivaji Nagar, Suraj', 'country': 'IN', 'cross_street': '', 'formatted_address': '28 Civil Lines Road, Shivaji Nagar, Suraj, Jaipur 302006, Rājasthān', 'locality': 'Jaipur', 'postcode': '302006', 'region': 'Rājasthān'}, 'name': 'Cafe Kothi', 'related_places': {}, 'timezone': 'Asia/Kolkata'}, {'fsq_id': '50081e28e4b05eac5b27a1e9', 'categories': [{'id': 13002, 'name': 'Bakery', 'short_name': 'Bakery', 'plural_name': 'Bakeries', 'icon': {'prefix': 'https://ss3.4sqi.net/img/categories_v2/food/bakery_', 'suffix': '.png'}}, {'id': 13034, 'name': 'Café', 'short_name': 'Café', 'plural_name': 'Cafés', 'icon': {'prefix': 'https://ss3.4sqi.net/img/categories_v2/food/cafe_', 'suffix': '.png'}}, {'id': 13065, 'name': 'Restaurant', 'short_name': 'Restaurant', 'plural_name': 'Restaurants', 'icon': {'prefix': 'https://ss3.4sqi.net/img/categories_v2/food/default_', 'suffix': '.png'}}], 'chains': [], 'closed_bucket': 'Unsure', 'distance': 849, 'geocodes': {'main': {'latitude': 26.915614, 'longitude': 75.794941}}, 'link': '/v3/places/50081e28e4b05eac5b27a1e9', 'location': {'country': 'IN', 'cross_street': '', 'formatted_address': '941735, Rājasthān', 'postcode': '941735', 'region': 'Rājasthān'}, 'name': 'NIBS- The Chocolate Workshop', 'related_places': {}, 'timezone': 'Asia/Kolkata'}, {'fsq_id': '5bb75785bf7dde002cee3d87', 'categories': [{'id': 13034, 'name': 'Café', 'short_name': 'Café', 'plural_name': 'Cafés', 'icon': {'prefix': 'https://ss3.4sqi.net/img/categories_v2/food/cafe_', 'suffix': '.png'}}, {'id': 13065, 'name': 'Restaurant', 'short_name': 'Restaurant', 'plural_name': 'Restaurants', 'icon': {'prefix': 'https://ss3.4sqi.net/img/categories_v2/food/default_', 'suffix': '.png'}}], 'chains': [], 'closed_bucket': 'LikelyOpen', 'distance': 1065, 'geocodes': {'main': {'latitude': 26.905237, 'longitude': 75.794367}}, 'link': '/v3/places/5bb75785bf7dde002cee3d87', 'location': {'country': 'IN', 'cross_street': '', 'formatted_address': 'Jaipur 302001, Rājasthān', 'locality': 'Jaipur', 'postcode': '302001', 'region': 'Rājasthān'}, 'name': 'Poppin Cafe', 'related_places': {}, 'timezone': 'Asia/Kolkata'}, {'fsq_id': '5aa968f9dd84424438483cef', 'categories': [{'id': 13199, 'name': 'Indian Restaurant', 'short_name': 'Indian', 'plural_name': 'Indian Restaurants', 'icon': {'prefix': 'https://ss3.4sqi.net/img/categories_v2/food/indian_', 'suffix': '.png'}}], 'chains': [], 'closed_bucket': 'LikelyOpen', 'distance': 1113, 'geocodes': {'main': {'latitude': 26.919592, 'longitude': 75.794788}, 'roof': {'latitude': 26.919592, 'longitude': 75.794788}}, 'link': '/v3/places/5aa968f9dd84424438483cef', 'location': {'address': 'Radisson Jaipur City Center, Khasa Kothi Circle, Mi Road', 'country': 'IN', 'cross_street': '', 'formatted_address': 'Radisson Jaipur City Center, Khasa Kothi Circle, Mi Road, Jaipur 302001, Rājasthān', 'locality': 'Jaipur', 'postcode': '302001', 'region': 'Rājasthān'}, 'name': 'Farzi Cafe', 'related_places': {}, 'timezone': 'Asia/Kolkata'}, {'fsq_id': 'f07534203aea47efab86e586', 'categories': [{'id': 13034, 'name': 'Café', 'short_name': 'Café', 'plural_name': 'Cafés', 'icon': {'prefix': 'https://ss3.4sqi.net/img/categories_v2/food/cafe_', 'suffix': '.png'}}, {'id': 13145, 'name': 'Fast Food Restaurant', 'short_name': 'Fast Food', 'plural_name': 'Fast Food Restaurants', 'icon': {'prefix': 'https://ss3.4sqi.net/img/categories_v2/food/fastfood_', 'suffix': '.png'}}], 'chains': [], 'closed_bucket': 'LikelyOpen', 'distance': 1135, 'geocodes': {'main': {'latitude': 26.90622, 'longitude': 75.796424}}, 'link': '/v3/places/f07534203aea47efab86e586', 'location': {'address': 'J-1, Jamna Lal Bajaj Marg', 'country': 'IN', 'formatted_address': 'J-1, Jamna Lal Bajaj Marg, Jaipur 906202, Rājasthān', 'locality': 'Jaipur', 'postcode': '906202', 'region': 'Rājasthān'}, 'name': 'Food Junkys', 'related_places': {}, 'timezone': 'Asia/Kolkata'}, {'fsq_id': '53b10278498ec970f3d7ef9d', 'categories': [{'id': 13199, 'name': 'Indian Restaurant', 'short_name': 'Indian', 'plural_name': 'Indian Restaurants', 'icon': {'prefix': 'https://ss3.4sqi.net/img/categories_v2/food/indian_', 'suffix': '.png'}}], 'chains': [], 'closed_bucket': 'LikelyOpen', 'distance': 1315, 'geocodes': {'main': {'latitude': 26.901152, 'longitude': 75.783924}, 'roof': {'latitude': 26.901152, 'longitude': 75.783924}}, 'link': '/v3/places/53b10278498ec970f3d7ef9d', 'location': {'address': 'Hilton Jaipur, 42 Geejgarh House, Hawa Sadak, Bais Godam', 'country': 'IN', 'cross_street': 'Hilton', 'formatted_address': 'Hilton Jaipur, 42 Geejgarh House, Hawa Sadak, Bais Godam (Hilton), Jaipur 302006, Rājasthān', 'locality': 'Jaipur', 'postcode': '302006', 'region': 'Rājasthān'}, 'name': 'Aurum', 'related_places': {'parent': {'fsq_id': '547739a9498e004e1ee849d2', 'categories': [{'id': 19014, 'name': 'Hotel', 'short_name': 'Hotel', 'plural_name': 'Hotels', 'icon': {'prefix': 'https://ss3.4sqi.net/img/categories_v2/travel/hotel_', 'suffix': '.png'}}], 'name': 'Hilton Jaipur'}}, 'timezone': 'Asia/Kolkata'}, {'fsq_id': '570a560e498e581477f4134a', 'categories': [{'id': 13065, 'name': 'Restaurant', 'short_name': 'Restaurant', 'plural_name': 'Restaurants', 'icon': {'prefix': 'https://ss3.4sqi.net/img/categories_v2/food/default_', 'suffix': '.png'}}], 'chains': [], 'closed_bucket': 'LikelyOpen', 'distance': 1319, 'geocodes': {'main': {'latitude': 26.902519, 'longitude': 75.794095}, 'roof': {'latitude': 26.902519, 'longitude': 75.794095}}, 'link': '/v3/places/570a560e498e581477f4134a', 'location': {'address': 'B16, Near Mgf Mall, Bhawani Singh Marg, Durga Das Colony, C Scheme', 'address_extended': 'Near Mgf Mall, C-Scheme', 'country': 'IN', 'cross_street': '', 'formatted_address': 'B16, Near Mgf Mall, Bhawani Singh Marg, Durga Das Colony, C Scheme, Jaipur 302001, Rājasthān', 'locality': 'Jaipur', 'postcode': '302001', 'region': 'Rājasthān'}, 'name': 'Nibs Cafe', 'related_places': {}, 'timezone': 'Asia/Kolkata'}, {'fsq_id': '5623621e498e8ec2b86fc810', 'categories': [{'id': 13065, 'name': 'Restaurant', 'short_name': 'Restaurant', 'plural_name': 'Restaurants', 'icon': {'prefix': 'https://ss3.4sqi.net/img/categories_v2/food/default_', 'suffix': '.png'}}], 'chains': [], 'closed_bucket': 'Unsure', 'distance': 1341, 'geocodes': {'main': {'latitude': 26.904212, 'longitude': 75.797208}}, 'link': '/v3/places/5623621e498e8ec2b86fc810', 'location': {'address': 'P 25, Yudhisthir Marg', 'address_extended': 'Near Deer Park, C Scheme', 'country': 'IN', 'cross_street': 'C Scheme', 'formatted_address': 'P 25, Yudhisthir Marg (C Scheme), Jaipur 302001, Rājasthān', 'locality': 'Jaipur', 'postcode': '302001', 'region': 'Rājasthān'}, 'name': 'Curious Life Coffee Roasters', 'related_places': {}, 'timezone': 'Asia/Kolkata'}, {'fsq_id': '541dab7a498e0fca5a8e6831', 'categories': [{'id': 13065, 'name': 'Restaurant', 'short_name': 'Restaurant', 'plural_name': 'Restaurants', 'icon': {'prefix': 'https://ss3.4sqi.net/img/categories_v2/food/default_', 'suffix': '.png'}}], 'chains': [], 'closed_bucket': 'LikelyOpen', 'distance': 1378, 'geocodes': {'main': {'latitude': 26.925482, 'longitude': 75.790869}}, 'link': '/v3/places/541dab7a498e0fca5a8e6831', 'location': {'address': 'D160, Kabir Marg', 'address_extended': 'Near Collectreat Circle, Bani Park', 'country': 'IN', 'cross_street': 'Bani Park,', 'formatted_address': 'D160, Kabir Marg (Bani Park,), Jaipur 302016, Rājasthān', 'locality': 'Jaipur', 'postcode': '302016', 'region': 'Rājasthān'}, 'name': 'Chit Chat Restaurant', 'related_places': {}, 'timezone': 'Asia/Kolkata'}, {'fsq_id': '5da30539fc263200083542df', 'categories': [{'id': 13065, 'name': 'Restaurant', 'short_name': 'Restaurant', 'plural_name': 'Restaurants', 'icon': {'prefix': 'https://ss3.4sqi.net/img/categories_v2/food/default_', 'suffix': '.png'}}], 'chains': [], 'closed_bucket': 'Unsure', 'distance': 1488, 'geocodes': {'main': {'latitude': 26.911239, 'longitude': 75.802273}}, 'link': '/v3/places/5da30539fc263200083542df', 'location': {'address': 'D29-a, Chandra Niwas, Subhash Marg, C-Scheme, C Scheme', 'country': 'IN', 'cross_street': '', 'formatted_address': 'D29-a, Chandra Niwas, Subhash Marg, C-Scheme, C Scheme, Jaipur 302001, Rājasthān', 'locality': 'Jaipur', 'postcode': '302001', 'region': 'Rājasthān'}, 'name': 'Tea Tradition', 'related_places': {}, 'timezone': 'Asia/Kolkata'}]\n"
     ]
    }
   ],
   "source": [
    "data = data['results']\n",
    "print(data)"
   ]
  },
  {
   "cell_type": "code",
   "execution_count": 9,
   "id": "e5631c91",
   "metadata": {},
   "outputs": [
    {
     "data": {
      "text/plain": [
       "10"
      ]
     },
     "execution_count": 9,
     "metadata": {},
     "output_type": "execute_result"
    }
   ],
   "source": [
    "len(data)"
   ]
  },
  {
   "cell_type": "code",
   "execution_count": 10,
   "id": "01b43064",
   "metadata": {},
   "outputs": [
    {
     "data": {
      "text/plain": [
       "{'fsq_id': '5c8f5d8cdeb49500259aa796',\n",
       " 'categories': [{'id': 13034,\n",
       "   'name': 'Café',\n",
       "   'short_name': 'Café',\n",
       "   'plural_name': 'Cafés',\n",
       "   'icon': {'prefix': 'https://ss3.4sqi.net/img/categories_v2/food/cafe_',\n",
       "    'suffix': '.png'}}],\n",
       " 'chains': [],\n",
       " 'closed_bucket': 'Unsure',\n",
       " 'distance': 805,\n",
       " 'geocodes': {'main': {'latitude': 26.905228, 'longitude': 75.786299}},\n",
       " 'link': '/v3/places/5c8f5d8cdeb49500259aa796',\n",
       " 'location': {'address': '28 Civil Lines Road, Shivaji Nagar, Suraj',\n",
       "  'country': 'IN',\n",
       "  'cross_street': '',\n",
       "  'formatted_address': '28 Civil Lines Road, Shivaji Nagar, Suraj, Jaipur 302006, Rājasthān',\n",
       "  'locality': 'Jaipur',\n",
       "  'postcode': '302006',\n",
       "  'region': 'Rājasthān'},\n",
       " 'name': 'Cafe Kothi',\n",
       " 'related_places': {},\n",
       " 'timezone': 'Asia/Kolkata'}"
      ]
     },
     "execution_count": 10,
     "metadata": {},
     "output_type": "execute_result"
    }
   ],
   "source": [
    "data[0]"
   ]
  },
  {
   "cell_type": "code",
   "execution_count": null,
   "id": "2f7f8a86",
   "metadata": {},
   "outputs": [],
   "source": []
  },
  {
   "cell_type": "code",
   "execution_count": 11,
   "id": "029412c7",
   "metadata": {},
   "outputs": [
    {
     "data": {
      "text/plain": [
       "'Cafe Kothi'"
      ]
     },
     "execution_count": 11,
     "metadata": {},
     "output_type": "execute_result"
    }
   ],
   "source": [
    "data[0]['name']"
   ]
  },
  {
   "cell_type": "code",
   "execution_count": 13,
   "id": "3390d72d",
   "metadata": {},
   "outputs": [
    {
     "data": {
      "text/plain": [
       "'28 Civil Lines Road, Shivaji Nagar, Suraj, Jaipur 302006, Rājasthān'"
      ]
     },
     "execution_count": 13,
     "metadata": {},
     "output_type": "execute_result"
    }
   ],
   "source": [
    "data[0]['location']['formatted_address']"
   ]
  },
  {
   "cell_type": "code",
   "execution_count": 14,
   "id": "d192081a",
   "metadata": {},
   "outputs": [
    {
     "name": "stdout",
     "output_type": "stream",
     "text": [
      "Place Name: Cafe Kothi\n",
      "Place Address 28 Civil Lines Road, Shivaji Nagar, Suraj, Jaipur 302006, Rājasthān\n",
      "----------------------------------------------------------------------------------------------------\n",
      "----------------------------------------------------------------------------------------------------\n",
      "\n",
      "Place Name: NIBS- The Chocolate Workshop\n",
      "Place Address 941735, Rājasthān\n",
      "----------------------------------------------------------------------------------------------------\n",
      "----------------------------------------------------------------------------------------------------\n",
      "\n",
      "Place Name: Poppin Cafe\n",
      "Place Address Jaipur 302001, Rājasthān\n",
      "----------------------------------------------------------------------------------------------------\n",
      "----------------------------------------------------------------------------------------------------\n",
      "\n",
      "Place Name: Farzi Cafe\n",
      "Place Address Radisson Jaipur City Center, Khasa Kothi Circle, Mi Road, Jaipur 302001, Rājasthān\n",
      "----------------------------------------------------------------------------------------------------\n",
      "----------------------------------------------------------------------------------------------------\n",
      "\n",
      "Place Name: Food Junkys\n",
      "Place Address J-1, Jamna Lal Bajaj Marg, Jaipur 906202, Rājasthān\n",
      "----------------------------------------------------------------------------------------------------\n",
      "----------------------------------------------------------------------------------------------------\n",
      "\n",
      "Place Name: Aurum\n",
      "Place Address Hilton Jaipur, 42 Geejgarh House, Hawa Sadak, Bais Godam (Hilton), Jaipur 302006, Rājasthān\n",
      "----------------------------------------------------------------------------------------------------\n",
      "----------------------------------------------------------------------------------------------------\n",
      "\n",
      "Place Name: Nibs Cafe\n",
      "Place Address B16, Near Mgf Mall, Bhawani Singh Marg, Durga Das Colony, C Scheme, Jaipur 302001, Rājasthān\n",
      "----------------------------------------------------------------------------------------------------\n",
      "----------------------------------------------------------------------------------------------------\n",
      "\n",
      "Place Name: Curious Life Coffee Roasters\n",
      "Place Address P 25, Yudhisthir Marg (C Scheme), Jaipur 302001, Rājasthān\n",
      "----------------------------------------------------------------------------------------------------\n",
      "----------------------------------------------------------------------------------------------------\n",
      "\n",
      "Place Name: Chit Chat Restaurant\n",
      "Place Address D160, Kabir Marg (Bani Park,), Jaipur 302016, Rājasthān\n",
      "----------------------------------------------------------------------------------------------------\n",
      "----------------------------------------------------------------------------------------------------\n",
      "\n",
      "Place Name: Tea Tradition\n",
      "Place Address D29-a, Chandra Niwas, Subhash Marg, C-Scheme, C Scheme, Jaipur 302001, Rājasthān\n",
      "----------------------------------------------------------------------------------------------------\n",
      "----------------------------------------------------------------------------------------------------\n",
      "\n"
     ]
    }
   ],
   "source": [
    "for i in data:\n",
    "    name = i['name']\n",
    "    address = i['location']['formatted_address']\n",
    "    print(f\"Place Name: {name}\")\n",
    "    print(f\"Place Address {address}\")\n",
    "    print('-'*100)\n",
    "    print('-'*100)    \n",
    "    print()"
   ]
  },
  {
   "cell_type": "code",
   "execution_count": null,
   "id": "cac52f04",
   "metadata": {},
   "outputs": [],
   "source": []
  },
  {
   "cell_type": "code",
   "execution_count": null,
   "id": "927682e0",
   "metadata": {},
   "outputs": [],
   "source": []
  },
  {
   "cell_type": "code",
   "execution_count": null,
   "id": "8ec9afdc",
   "metadata": {},
   "outputs": [],
   "source": []
  }
 ],
 "metadata": {
  "kernelspec": {
   "display_name": "Python 3 (ipykernel)",
   "language": "python",
   "name": "python3"
  },
  "language_info": {
   "codemirror_mode": {
    "name": "ipython",
    "version": 3
   },
   "file_extension": ".py",
   "mimetype": "text/x-python",
   "name": "python",
   "nbconvert_exporter": "python",
   "pygments_lexer": "ipython3",
   "version": "3.10.9"
  }
 },
 "nbformat": 4,
 "nbformat_minor": 5
}
