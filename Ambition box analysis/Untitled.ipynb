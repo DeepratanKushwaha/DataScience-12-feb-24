{
 "cells": [
  {
   "cell_type": "code",
   "execution_count": 1,
   "id": "4fa3e150-85a9-4d06-ba69-001051afcabc",
   "metadata": {},
   "outputs": [],
   "source": [
    "import pandas as pd"
   ]
  },
  {
   "cell_type": "code",
   "execution_count": 4,
   "id": "9911177f-52ab-4a45-8931-c7e4a6e5459a",
   "metadata": {},
   "outputs": [
    {
     "data": {
      "text/html": [
       "<div>\n",
       "<style scoped>\n",
       "    .dataframe tbody tr th:only-of-type {\n",
       "        vertical-align: middle;\n",
       "    }\n",
       "\n",
       "    .dataframe tbody tr th {\n",
       "        vertical-align: top;\n",
       "    }\n",
       "\n",
       "    .dataframe thead th {\n",
       "        text-align: right;\n",
       "    }\n",
       "</style>\n",
       "<table border=\"1\" class=\"dataframe\">\n",
       "  <thead>\n",
       "    <tr style=\"text-align: right;\">\n",
       "      <th></th>\n",
       "      <th>company_name</th>\n",
       "      <th>company_rating</th>\n",
       "      <th>other_data</th>\n",
       "    </tr>\n",
       "  </thead>\n",
       "  <tbody>\n",
       "    <tr>\n",
       "      <th>0</th>\n",
       "      <td>Zydus Lifesciences</td>\n",
       "      <td>4.2</td>\n",
       "      <td>Pharma , 10k-50k Employees , Public , 72 years...</td>\n",
       "    </tr>\n",
       "    <tr>\n",
       "      <th>1</th>\n",
       "      <td>Intas Pharmaceuticals</td>\n",
       "      <td>4.2</td>\n",
       "      <td>Pharma , 10k-50k Employees , Fortune India 500...</td>\n",
       "    </tr>\n",
       "    <tr>\n",
       "      <th>2</th>\n",
       "      <td>Vodafone Idea</td>\n",
       "      <td>4.2</td>\n",
       "      <td>Telecom , 5k-10k Employees , Public , 6 years ...</td>\n",
       "    </tr>\n",
       "    <tr>\n",
       "      <th>3</th>\n",
       "      <td>TTEC India</td>\n",
       "      <td>3.8</td>\n",
       "      <td>BPO , 1k-5k Employees , Public , 40 years old ...</td>\n",
       "    </tr>\n",
       "    <tr>\n",
       "      <th>4</th>\n",
       "      <td>Cadila Pharmaceuticals</td>\n",
       "      <td>3.6</td>\n",
       "      <td>Pharma , 5k-10k Employees , Public , 73 years ...</td>\n",
       "    </tr>\n",
       "    <tr>\n",
       "      <th>...</th>\n",
       "      <td>...</td>\n",
       "      <td>...</td>\n",
       "      <td>...</td>\n",
       "    </tr>\n",
       "    <tr>\n",
       "      <th>9995</th>\n",
       "      <td>Aadharshila School</td>\n",
       "      <td>4.9</td>\n",
       "      <td>Education &amp; Training , 11-50 Employees , Ahmed...</td>\n",
       "    </tr>\n",
       "    <tr>\n",
       "      <th>9996</th>\n",
       "      <td>Adroit Valuations</td>\n",
       "      <td>3.5</td>\n",
       "      <td>Accounting &amp; Auditing , 201-500 Employees , Ah...</td>\n",
       "    </tr>\n",
       "    <tr>\n",
       "      <th>9997</th>\n",
       "      <td>Meru Consultants</td>\n",
       "      <td>1.0</td>\n",
       "      <td>30 years old , Ahmedabad</td>\n",
       "    </tr>\n",
       "    <tr>\n",
       "      <th>9998</th>\n",
       "      <td>Excare Laboratories</td>\n",
       "      <td>4.0</td>\n",
       "      <td>Ahmedabad</td>\n",
       "    </tr>\n",
       "    <tr>\n",
       "      <th>9999</th>\n",
       "      <td>Mgli</td>\n",
       "      <td>4.5</td>\n",
       "      <td>Ahmedabad</td>\n",
       "    </tr>\n",
       "  </tbody>\n",
       "</table>\n",
       "<p>10000 rows × 3 columns</p>\n",
       "</div>"
      ],
      "text/plain": [
       "                company_name  company_rating  \\\n",
       "0         Zydus Lifesciences             4.2   \n",
       "1      Intas Pharmaceuticals             4.2   \n",
       "2              Vodafone Idea             4.2   \n",
       "3                 TTEC India             3.8   \n",
       "4     Cadila Pharmaceuticals             3.6   \n",
       "...                      ...             ...   \n",
       "9995      Aadharshila School             4.9   \n",
       "9996       Adroit Valuations             3.5   \n",
       "9997        Meru Consultants             1.0   \n",
       "9998     Excare Laboratories             4.0   \n",
       "9999                    Mgli             4.5   \n",
       "\n",
       "                                             other_data  \n",
       "0     Pharma , 10k-50k Employees , Public , 72 years...  \n",
       "1     Pharma , 10k-50k Employees , Fortune India 500...  \n",
       "2     Telecom , 5k-10k Employees , Public , 6 years ...  \n",
       "3     BPO , 1k-5k Employees , Public , 40 years old ...  \n",
       "4     Pharma , 5k-10k Employees , Public , 73 years ...  \n",
       "...                                                 ...  \n",
       "9995  Education & Training , 11-50 Employees , Ahmed...  \n",
       "9996  Accounting & Auditing , 201-500 Employees , Ah...  \n",
       "9997                           30 years old , Ahmedabad  \n",
       "9998                                          Ahmedabad  \n",
       "9999                                          Ahmedabad  \n",
       "\n",
       "[10000 rows x 3 columns]"
      ]
     },
     "execution_count": 4,
     "metadata": {},
     "output_type": "execute_result"
    }
   ],
   "source": [
    "data = pd.read_csv('./csv_files/ahmedabad.csv', usecols=[1,2,3])\n",
    "data"
   ]
  },
  {
   "cell_type": "code",
   "execution_count": null,
   "id": "9b412511-9597-4196-88c7-d624c53ad0fe",
   "metadata": {},
   "outputs": [],
   "source": []
  },
  {
   "cell_type": "code",
   "execution_count": 5,
   "id": "a5935121-3189-4500-b1da-be5a009aaf91",
   "metadata": {},
   "outputs": [
    {
     "data": {
      "text/plain": [
       "0       Pharma , 10k-50k Employees , Public , 72 years...\n",
       "1       Pharma , 10k-50k Employees , Fortune India 500...\n",
       "2       Telecom , 5k-10k Employees , Public , 6 years ...\n",
       "3       BPO , 1k-5k Employees , Public , 40 years old ...\n",
       "4       Pharma , 5k-10k Employees , Public , 73 years ...\n",
       "                              ...                        \n",
       "9995    Education & Training , 11-50 Employees , Ahmed...\n",
       "9996    Accounting & Auditing , 201-500 Employees , Ah...\n",
       "9997                             30 years old , Ahmedabad\n",
       "9998                                            Ahmedabad\n",
       "9999                                            Ahmedabad\n",
       "Name: other_data, Length: 10000, dtype: object"
      ]
     },
     "execution_count": 5,
     "metadata": {},
     "output_type": "execute_result"
    }
   ],
   "source": [
    "data['other_data']"
   ]
  },
  {
   "cell_type": "code",
   "execution_count": null,
   "id": "b2eba39d-3bf0-4edb-aa56-95247bacc994",
   "metadata": {},
   "outputs": [],
   "source": []
  },
  {
   "cell_type": "code",
   "execution_count": null,
   "id": "ec1ad4f5-29c6-4430-91d2-828ea5c48caf",
   "metadata": {},
   "outputs": [],
   "source": []
  },
  {
   "cell_type": "code",
   "execution_count": 6,
   "id": "30849fda-be65-43b4-8703-4d2e580aca19",
   "metadata": {},
   "outputs": [
    {
     "data": {
      "text/plain": [
       "'Pharma , 10k-50k Employees , Public , 72 years old , Ahmedabad +152 more'"
      ]
     },
     "execution_count": 6,
     "metadata": {},
     "output_type": "execute_result"
    }
   ],
   "source": [
    "data['other_data'][0]\n"
   ]
  },
  {
   "cell_type": "code",
   "execution_count": null,
   "id": "924a92dc-868c-4c58-958b-0fbd50b6bbc5",
   "metadata": {},
   "outputs": [],
   "source": []
  },
  {
   "cell_type": "code",
   "execution_count": 7,
   "id": "1cded6c1-cd52-468e-b975-0412abd4b4b4",
   "metadata": {},
   "outputs": [
    {
     "data": {
      "text/plain": [
       "0       [Pharma, 10k-50k Employees, Public, 72 years o...\n",
       "1       [Pharma, 10k-50k Employees, Fortune India 500,...\n",
       "2       [Telecom, 5k-10k Employees, Public, 6 years ol...\n",
       "3       [BPO, 1k-5k Employees, Public, 40 years old, A...\n",
       "4       [Pharma, 5k-10k Employees, Public, 73 years ol...\n",
       "                              ...                        \n",
       "9995    [Education & Training, 11-50 Employees, Ahmeda...\n",
       "9996    [Accounting & Auditing, 201-500 Employees, Ahm...\n",
       "9997                            [30 years old, Ahmedabad]\n",
       "9998                                          [Ahmedabad]\n",
       "9999                                          [Ahmedabad]\n",
       "Name: other_data, Length: 10000, dtype: object"
      ]
     },
     "execution_count": 7,
     "metadata": {},
     "output_type": "execute_result"
    }
   ],
   "source": [
    "data['other_data'].apply(lambda x: x.split(' , '))"
   ]
  },
  {
   "cell_type": "code",
   "execution_count": null,
   "id": "74ee7780-c80e-47d8-a91a-687ee2e04f1d",
   "metadata": {},
   "outputs": [],
   "source": []
  },
  {
   "cell_type": "code",
   "execution_count": 8,
   "id": "18417eb7-654b-4a64-ad22-5a38a2621a52",
   "metadata": {},
   "outputs": [
    {
     "data": {
      "text/plain": [
       "0        True\n",
       "1        True\n",
       "2        True\n",
       "3        True\n",
       "4        True\n",
       "        ...  \n",
       "9995    False\n",
       "9996    False\n",
       "9997    False\n",
       "9998    False\n",
       "9999    False\n",
       "Name: other_data, Length: 10000, dtype: bool"
      ]
     },
     "execution_count": 8,
     "metadata": {},
     "output_type": "execute_result"
    }
   ],
   "source": [
    "data['other_data'].apply(lambda x: x.split(' , ')).apply(lambda x: True if len(x)==5 else False)\n"
   ]
  },
  {
   "cell_type": "code",
   "execution_count": 9,
   "id": "f0cf16b4-da1e-43da-86c1-26cc5f50967b",
   "metadata": {},
   "outputs": [
    {
     "data": {
      "text/html": [
       "<div>\n",
       "<style scoped>\n",
       "    .dataframe tbody tr th:only-of-type {\n",
       "        vertical-align: middle;\n",
       "    }\n",
       "\n",
       "    .dataframe tbody tr th {\n",
       "        vertical-align: top;\n",
       "    }\n",
       "\n",
       "    .dataframe thead th {\n",
       "        text-align: right;\n",
       "    }\n",
       "</style>\n",
       "<table border=\"1\" class=\"dataframe\">\n",
       "  <thead>\n",
       "    <tr style=\"text-align: right;\">\n",
       "      <th></th>\n",
       "      <th>company_name</th>\n",
       "      <th>company_rating</th>\n",
       "      <th>other_data</th>\n",
       "    </tr>\n",
       "  </thead>\n",
       "  <tbody>\n",
       "    <tr>\n",
       "      <th>0</th>\n",
       "      <td>Zydus Lifesciences</td>\n",
       "      <td>4.2</td>\n",
       "      <td>Pharma , 10k-50k Employees , Public , 72 years...</td>\n",
       "    </tr>\n",
       "    <tr>\n",
       "      <th>1</th>\n",
       "      <td>Intas Pharmaceuticals</td>\n",
       "      <td>4.2</td>\n",
       "      <td>Pharma , 10k-50k Employees , Fortune India 500...</td>\n",
       "    </tr>\n",
       "    <tr>\n",
       "      <th>2</th>\n",
       "      <td>Vodafone Idea</td>\n",
       "      <td>4.2</td>\n",
       "      <td>Telecom , 5k-10k Employees , Public , 6 years ...</td>\n",
       "    </tr>\n",
       "    <tr>\n",
       "      <th>3</th>\n",
       "      <td>TTEC India</td>\n",
       "      <td>3.8</td>\n",
       "      <td>BPO , 1k-5k Employees , Public , 40 years old ...</td>\n",
       "    </tr>\n",
       "    <tr>\n",
       "      <th>4</th>\n",
       "      <td>Cadila Pharmaceuticals</td>\n",
       "      <td>3.6</td>\n",
       "      <td>Pharma , 5k-10k Employees , Public , 73 years ...</td>\n",
       "    </tr>\n",
       "    <tr>\n",
       "      <th>...</th>\n",
       "      <td>...</td>\n",
       "      <td>...</td>\n",
       "      <td>...</td>\n",
       "    </tr>\n",
       "    <tr>\n",
       "      <th>9673</th>\n",
       "      <td>One Way Cab</td>\n",
       "      <td>4.7</td>\n",
       "      <td>Internet , 11-50 Employees (Global) , Startup ...</td>\n",
       "    </tr>\n",
       "    <tr>\n",
       "      <th>9712</th>\n",
       "      <td>Centre For Electronic Governance</td>\n",
       "      <td>4.4</td>\n",
       "      <td>Government , 51-200 Employees (Global) , Publi...</td>\n",
       "    </tr>\n",
       "    <tr>\n",
       "      <th>9832</th>\n",
       "      <td>Kalupur Bank</td>\n",
       "      <td>NaN</td>\n",
       "      <td>Banking , 501-1k Employees (Global) , Public ,...</td>\n",
       "    </tr>\n",
       "    <tr>\n",
       "      <th>9964</th>\n",
       "      <td>Fulford India</td>\n",
       "      <td>4.3</td>\n",
       "      <td>Pharma , 501-1k Employees , Public , 76 years ...</td>\n",
       "    </tr>\n",
       "    <tr>\n",
       "      <th>9972</th>\n",
       "      <td>Department of Telecommunications</td>\n",
       "      <td>4.3</td>\n",
       "      <td>Telecom , 1k-5k Employees (Global) , Public , ...</td>\n",
       "    </tr>\n",
       "  </tbody>\n",
       "</table>\n",
       "<p>1235 rows × 3 columns</p>\n",
       "</div>"
      ],
      "text/plain": [
       "                          company_name  company_rating  \\\n",
       "0                   Zydus Lifesciences             4.2   \n",
       "1                Intas Pharmaceuticals             4.2   \n",
       "2                        Vodafone Idea             4.2   \n",
       "3                           TTEC India             3.8   \n",
       "4               Cadila Pharmaceuticals             3.6   \n",
       "...                                ...             ...   \n",
       "9673                       One Way Cab             4.7   \n",
       "9712  Centre For Electronic Governance             4.4   \n",
       "9832                      Kalupur Bank             NaN   \n",
       "9964                     Fulford India             4.3   \n",
       "9972  Department of Telecommunications             4.3   \n",
       "\n",
       "                                             other_data  \n",
       "0     Pharma , 10k-50k Employees , Public , 72 years...  \n",
       "1     Pharma , 10k-50k Employees , Fortune India 500...  \n",
       "2     Telecom , 5k-10k Employees , Public , 6 years ...  \n",
       "3     BPO , 1k-5k Employees , Public , 40 years old ...  \n",
       "4     Pharma , 5k-10k Employees , Public , 73 years ...  \n",
       "...                                                 ...  \n",
       "9673  Internet , 11-50 Employees (Global) , Startup ...  \n",
       "9712  Government , 51-200 Employees (Global) , Publi...  \n",
       "9832  Banking , 501-1k Employees (Global) , Public ,...  \n",
       "9964  Pharma , 501-1k Employees , Public , 76 years ...  \n",
       "9972  Telecom , 1k-5k Employees (Global) , Public , ...  \n",
       "\n",
       "[1235 rows x 3 columns]"
      ]
     },
     "execution_count": 9,
     "metadata": {},
     "output_type": "execute_result"
    }
   ],
   "source": [
    "data[data['other_data'].apply(lambda x: x.split(' , ')).apply(lambda x: True if len(x)==5 else False)]\n"
   ]
  },
  {
   "cell_type": "code",
   "execution_count": null,
   "id": "c0b9e21b-b34c-4ff8-b20d-3a8b1ff9d799",
   "metadata": {},
   "outputs": [],
   "source": []
  },
  {
   "cell_type": "code",
   "execution_count": 10,
   "id": "ec206604-4d9b-429b-8395-52ae14734e37",
   "metadata": {},
   "outputs": [],
   "source": [
    "import os"
   ]
  },
  {
   "cell_type": "code",
   "execution_count": 11,
   "id": "41e489fe-06ad-4878-b90e-265fcb4447bb",
   "metadata": {},
   "outputs": [
    {
     "data": {
      "text/plain": [
       "'C:\\\\Users\\\\hello\\\\Grras_Data\\\\Grras Solutions Pvt. Ltd\\\\Data Science feb\\\\DS project\\\\ambition box analysis\\\\csv_files'"
      ]
     },
     "execution_count": 11,
     "metadata": {},
     "output_type": "execute_result"
    }
   ],
   "source": [
    "source_path = os.path.join(os.getcwd(), 'csv_files')\n",
    "source_path"
   ]
  },
  {
   "cell_type": "code",
   "execution_count": 12,
   "id": "f3e737dd-70c6-40c8-ad46-ac1a26a8db89",
   "metadata": {},
   "outputs": [
    {
     "data": {
      "text/plain": [
       "'C:\\\\Users\\\\hello\\\\Grras_Data\\\\Grras Solutions Pvt. Ltd\\\\Data Science feb\\\\DS project\\\\ambition box analysis\\\\filter_csv'"
      ]
     },
     "execution_count": 12,
     "metadata": {},
     "output_type": "execute_result"
    }
   ],
   "source": [
    "destination_path = os.path.join(os.getcwd(), 'filter_csv')\n",
    "destination_path"
   ]
  },
  {
   "cell_type": "code",
   "execution_count": 14,
   "id": "651b70f9-ef0d-4d52-986c-5aace8c59398",
   "metadata": {},
   "outputs": [
    {
     "data": {
      "text/plain": [
       "'C:\\\\Users\\\\hello\\\\Grras_Data\\\\Grras Solutions Pvt. Ltd\\\\Data Science feb\\\\DS project\\\\ambition box analysis'"
      ]
     },
     "execution_count": 14,
     "metadata": {},
     "output_type": "execute_result"
    }
   ],
   "source": [
    "current_path = os.getcwd()\n",
    "current_path"
   ]
  },
  {
   "cell_type": "code",
   "execution_count": 16,
   "id": "678ff5d8-0739-487a-9226-dc8fea857044",
   "metadata": {},
   "outputs": [],
   "source": [
    "def clean_csv(source, destination,current_path):\n",
    "    os.chdir(source)\n",
    "    ls = os.listdir()\n",
    "    print(ls)\n",
    "    os.chdir(current_path)"
   ]
  },
  {
   "cell_type": "code",
   "execution_count": 17,
   "id": "60a50c54-f12d-41ee-a915-6103786c9b90",
   "metadata": {},
   "outputs": [
    {
     "name": "stdout",
     "output_type": "stream",
     "text": [
      "['.ipynb_checkpoints', 'ahmedabad.csv', 'bangalore.csv', 'chennai.csv', 'gurugram.csv', 'hyderabad.csv', 'indore.csv', 'jaipur.csv', 'mumbai.csv', 'noida.csv', 'pune.csv']\n"
     ]
    }
   ],
   "source": [
    "clean_csv(source_path, destination_path, current_path)"
   ]
  },
  {
   "cell_type": "code",
   "execution_count": null,
   "id": "2aedbab0-22dd-4c28-a9a8-889f324ef4f2",
   "metadata": {},
   "outputs": [],
   "source": []
  },
  {
   "cell_type": "code",
   "execution_count": null,
   "id": "8533eef6-8fc1-40b5-9652-47af665d7eeb",
   "metadata": {},
   "outputs": [],
   "source": []
  },
  {
   "cell_type": "code",
   "execution_count": 18,
   "id": "f3b8260a-745c-4987-9914-e7894ef6dace",
   "metadata": {},
   "outputs": [],
   "source": [
    "def clean_csv(source, destination,current_path):\n",
    "    os.chdir(source)\n",
    "    ls = os.listdir()\n",
    "    for i in ls:\n",
    "        if i.endswith('.csv'):\n",
    "            data = pd.read_csv(i, usecols=[1,2,3])\n",
    "            data = data[data['other_data'].apply(lambda x: x.split(' , ')).apply(lambda x: True if len(x)==5 else False)]\n",
    "            data.to_csv(os.path.join(destination, i))\n",
    "    os.chdir(current_path)"
   ]
  },
  {
   "cell_type": "code",
   "execution_count": null,
   "id": "955ceba4-7041-4ce2-9864-2ac3ee4e32e6",
   "metadata": {},
   "outputs": [],
   "source": []
  },
  {
   "cell_type": "code",
   "execution_count": 19,
   "id": "21d1789b-4804-47de-9bb2-f075936bc0c4",
   "metadata": {},
   "outputs": [],
   "source": [
    "clean_csv(source_path, destination_path, current_path)\n"
   ]
  },
  {
   "cell_type": "code",
   "execution_count": null,
   "id": "e2d84bbf-9d72-472a-98f4-e62b47bc2771",
   "metadata": {},
   "outputs": [],
   "source": []
  },
  {
   "cell_type": "code",
   "execution_count": null,
   "id": "f4af2e1f-09e4-40f2-991a-e4c0c0adceac",
   "metadata": {},
   "outputs": [],
   "source": []
  },
  {
   "cell_type": "code",
   "execution_count": null,
   "id": "2121f5c4-5d58-48b5-8ec0-02c5e4ef6024",
   "metadata": {},
   "outputs": [],
   "source": []
  },
  {
   "cell_type": "code",
   "execution_count": null,
   "id": "775f7b91-8b35-4fc5-80f7-8ccc52f82a9b",
   "metadata": {},
   "outputs": [],
   "source": []
  },
  {
   "cell_type": "code",
   "execution_count": 22,
   "id": "1cbec7db-b564-4875-bd18-51b0bd5b779e",
   "metadata": {},
   "outputs": [
    {
     "data": {
      "text/html": [
       "<div>\n",
       "<style scoped>\n",
       "    .dataframe tbody tr th:only-of-type {\n",
       "        vertical-align: middle;\n",
       "    }\n",
       "\n",
       "    .dataframe tbody tr th {\n",
       "        vertical-align: top;\n",
       "    }\n",
       "\n",
       "    .dataframe thead th {\n",
       "        text-align: right;\n",
       "    }\n",
       "</style>\n",
       "<table border=\"1\" class=\"dataframe\">\n",
       "  <thead>\n",
       "    <tr style=\"text-align: right;\">\n",
       "      <th></th>\n",
       "      <th>company_name</th>\n",
       "      <th>company_rating</th>\n",
       "      <th>other_data</th>\n",
       "    </tr>\n",
       "  </thead>\n",
       "  <tbody>\n",
       "    <tr>\n",
       "      <th>0</th>\n",
       "      <td>Zydus Lifesciences</td>\n",
       "      <td>4.2</td>\n",
       "      <td>Pharma , 10k-50k Employees , Public , 72 years...</td>\n",
       "    </tr>\n",
       "    <tr>\n",
       "      <th>1</th>\n",
       "      <td>Intas Pharmaceuticals</td>\n",
       "      <td>4.2</td>\n",
       "      <td>Pharma , 10k-50k Employees , Fortune India 500...</td>\n",
       "    </tr>\n",
       "    <tr>\n",
       "      <th>2</th>\n",
       "      <td>Vodafone Idea</td>\n",
       "      <td>4.2</td>\n",
       "      <td>Telecom , 5k-10k Employees , Public , 6 years ...</td>\n",
       "    </tr>\n",
       "    <tr>\n",
       "      <th>3</th>\n",
       "      <td>TTEC India</td>\n",
       "      <td>3.8</td>\n",
       "      <td>BPO , 1k-5k Employees , Public , 40 years old ...</td>\n",
       "    </tr>\n",
       "    <tr>\n",
       "      <th>4</th>\n",
       "      <td>Cadila Pharmaceuticals</td>\n",
       "      <td>3.6</td>\n",
       "      <td>Pharma , 5k-10k Employees , Public , 73 years ...</td>\n",
       "    </tr>\n",
       "    <tr>\n",
       "      <th>...</th>\n",
       "      <td>...</td>\n",
       "      <td>...</td>\n",
       "      <td>...</td>\n",
       "    </tr>\n",
       "    <tr>\n",
       "      <th>1230</th>\n",
       "      <td>One Way Cab</td>\n",
       "      <td>4.7</td>\n",
       "      <td>Internet , 11-50 Employees (Global) , Startup ...</td>\n",
       "    </tr>\n",
       "    <tr>\n",
       "      <th>1231</th>\n",
       "      <td>Centre For Electronic Governance</td>\n",
       "      <td>4.4</td>\n",
       "      <td>Government , 51-200 Employees (Global) , Publi...</td>\n",
       "    </tr>\n",
       "    <tr>\n",
       "      <th>1232</th>\n",
       "      <td>Kalupur Bank</td>\n",
       "      <td>NaN</td>\n",
       "      <td>Banking , 501-1k Employees (Global) , Public ,...</td>\n",
       "    </tr>\n",
       "    <tr>\n",
       "      <th>1233</th>\n",
       "      <td>Fulford India</td>\n",
       "      <td>4.3</td>\n",
       "      <td>Pharma , 501-1k Employees , Public , 76 years ...</td>\n",
       "    </tr>\n",
       "    <tr>\n",
       "      <th>1234</th>\n",
       "      <td>Department of Telecommunications</td>\n",
       "      <td>4.3</td>\n",
       "      <td>Telecom , 1k-5k Employees (Global) , Public , ...</td>\n",
       "    </tr>\n",
       "  </tbody>\n",
       "</table>\n",
       "<p>1235 rows × 3 columns</p>\n",
       "</div>"
      ],
      "text/plain": [
       "                          company_name  company_rating  \\\n",
       "0                   Zydus Lifesciences             4.2   \n",
       "1                Intas Pharmaceuticals             4.2   \n",
       "2                        Vodafone Idea             4.2   \n",
       "3                           TTEC India             3.8   \n",
       "4               Cadila Pharmaceuticals             3.6   \n",
       "...                                ...             ...   \n",
       "1230                       One Way Cab             4.7   \n",
       "1231  Centre For Electronic Governance             4.4   \n",
       "1232                      Kalupur Bank             NaN   \n",
       "1233                     Fulford India             4.3   \n",
       "1234  Department of Telecommunications             4.3   \n",
       "\n",
       "                                             other_data  \n",
       "0     Pharma , 10k-50k Employees , Public , 72 years...  \n",
       "1     Pharma , 10k-50k Employees , Fortune India 500...  \n",
       "2     Telecom , 5k-10k Employees , Public , 6 years ...  \n",
       "3     BPO , 1k-5k Employees , Public , 40 years old ...  \n",
       "4     Pharma , 5k-10k Employees , Public , 73 years ...  \n",
       "...                                                 ...  \n",
       "1230  Internet , 11-50 Employees (Global) , Startup ...  \n",
       "1231  Government , 51-200 Employees (Global) , Publi...  \n",
       "1232  Banking , 501-1k Employees (Global) , Public ,...  \n",
       "1233  Pharma , 501-1k Employees , Public , 76 years ...  \n",
       "1234  Telecom , 1k-5k Employees (Global) , Public , ...  \n",
       "\n",
       "[1235 rows x 3 columns]"
      ]
     },
     "execution_count": 22,
     "metadata": {},
     "output_type": "execute_result"
    }
   ],
   "source": [
    "ahmedabad = pd.read_csv('./filter_csv/ahmedabad.csv', usecols=[1,2,3])\n",
    "ahmedabad"
   ]
  },
  {
   "cell_type": "code",
   "execution_count": null,
   "id": "d3216e05-7fe0-41dd-a3ab-0f0319bd9c56",
   "metadata": {},
   "outputs": [],
   "source": []
  },
  {
   "cell_type": "code",
   "execution_count": 30,
   "id": "8d3e1965-2b8f-4baa-982e-d499a12d70ba",
   "metadata": {},
   "outputs": [
    {
     "data": {
      "text/html": [
       "<div>\n",
       "<style scoped>\n",
       "    .dataframe tbody tr th:only-of-type {\n",
       "        vertical-align: middle;\n",
       "    }\n",
       "\n",
       "    .dataframe tbody tr th {\n",
       "        vertical-align: top;\n",
       "    }\n",
       "\n",
       "    .dataframe thead th {\n",
       "        text-align: right;\n",
       "    }\n",
       "</style>\n",
       "<table border=\"1\" class=\"dataframe\">\n",
       "  <thead>\n",
       "    <tr style=\"text-align: right;\">\n",
       "      <th></th>\n",
       "      <th>company_name</th>\n",
       "      <th>company_rating</th>\n",
       "      <th>other_data</th>\n",
       "      <th>industry</th>\n",
       "      <th>size</th>\n",
       "      <th>type</th>\n",
       "      <th>years_old</th>\n",
       "      <th>location</th>\n",
       "    </tr>\n",
       "  </thead>\n",
       "  <tbody>\n",
       "    <tr>\n",
       "      <th>0</th>\n",
       "      <td>Zydus Lifesciences</td>\n",
       "      <td>4.2</td>\n",
       "      <td>Pharma , 10k-50k Employees , Public , 72 years...</td>\n",
       "      <td>Pharma</td>\n",
       "      <td>10k-50k Employees</td>\n",
       "      <td>Public</td>\n",
       "      <td>72</td>\n",
       "      <td>Ahmedabad</td>\n",
       "    </tr>\n",
       "    <tr>\n",
       "      <th>1</th>\n",
       "      <td>Intas Pharmaceuticals</td>\n",
       "      <td>4.2</td>\n",
       "      <td>Pharma , 10k-50k Employees , Fortune India 500...</td>\n",
       "      <td>Pharma</td>\n",
       "      <td>10k-50k Employees</td>\n",
       "      <td>Fortune India 500</td>\n",
       "      <td>47</td>\n",
       "      <td>Ahmedabad</td>\n",
       "    </tr>\n",
       "    <tr>\n",
       "      <th>2</th>\n",
       "      <td>Vodafone Idea</td>\n",
       "      <td>4.2</td>\n",
       "      <td>Telecom , 5k-10k Employees , Public , 6 years ...</td>\n",
       "      <td>Telecom</td>\n",
       "      <td>5k-10k Employees</td>\n",
       "      <td>Public</td>\n",
       "      <td>6</td>\n",
       "      <td>Ahmedabad</td>\n",
       "    </tr>\n",
       "    <tr>\n",
       "      <th>3</th>\n",
       "      <td>TTEC India</td>\n",
       "      <td>3.8</td>\n",
       "      <td>BPO , 1k-5k Employees , Public , 40 years old ...</td>\n",
       "      <td>BPO</td>\n",
       "      <td>1k-5k Employees</td>\n",
       "      <td>Public</td>\n",
       "      <td>40</td>\n",
       "      <td>Ahmedabad</td>\n",
       "    </tr>\n",
       "    <tr>\n",
       "      <th>4</th>\n",
       "      <td>Cadila Pharmaceuticals</td>\n",
       "      <td>3.6</td>\n",
       "      <td>Pharma , 5k-10k Employees , Public , 73 years ...</td>\n",
       "      <td>Pharma</td>\n",
       "      <td>5k-10k Employees</td>\n",
       "      <td>Public</td>\n",
       "      <td>73</td>\n",
       "      <td>Ahmedabad</td>\n",
       "    </tr>\n",
       "    <tr>\n",
       "      <th>...</th>\n",
       "      <td>...</td>\n",
       "      <td>...</td>\n",
       "      <td>...</td>\n",
       "      <td>...</td>\n",
       "      <td>...</td>\n",
       "      <td>...</td>\n",
       "      <td>...</td>\n",
       "      <td>...</td>\n",
       "    </tr>\n",
       "    <tr>\n",
       "      <th>1230</th>\n",
       "      <td>One Way Cab</td>\n",
       "      <td>4.7</td>\n",
       "      <td>Internet , 11-50 Employees (Global) , Startup ...</td>\n",
       "      <td>Internet</td>\n",
       "      <td>11-50 Employees (Global)</td>\n",
       "      <td>Startup</td>\n",
       "      <td>11</td>\n",
       "      <td>Ahmedabad</td>\n",
       "    </tr>\n",
       "    <tr>\n",
       "      <th>1231</th>\n",
       "      <td>Centre For Electronic Governance</td>\n",
       "      <td>4.4</td>\n",
       "      <td>Government , 51-200 Employees (Global) , Publi...</td>\n",
       "      <td>Government</td>\n",
       "      <td>51-200 Employees (Global)</td>\n",
       "      <td>Public</td>\n",
       "      <td>18</td>\n",
       "      <td>Ahmedabad</td>\n",
       "    </tr>\n",
       "    <tr>\n",
       "      <th>1232</th>\n",
       "      <td>Kalupur Bank</td>\n",
       "      <td>NaN</td>\n",
       "      <td>Banking , 501-1k Employees (Global) , Public ,...</td>\n",
       "      <td>Banking</td>\n",
       "      <td>501-1k Employees (Global)</td>\n",
       "      <td>Public</td>\n",
       "      <td>54</td>\n",
       "      <td>Ahmedabad</td>\n",
       "    </tr>\n",
       "    <tr>\n",
       "      <th>1233</th>\n",
       "      <td>Fulford India</td>\n",
       "      <td>4.3</td>\n",
       "      <td>Pharma , 501-1k Employees , Public , 76 years ...</td>\n",
       "      <td>Pharma</td>\n",
       "      <td>501-1k Employees</td>\n",
       "      <td>Public</td>\n",
       "      <td>76</td>\n",
       "      <td>Ahmedabad</td>\n",
       "    </tr>\n",
       "    <tr>\n",
       "      <th>1234</th>\n",
       "      <td>Department of Telecommunications</td>\n",
       "      <td>4.3</td>\n",
       "      <td>Telecom , 1k-5k Employees (Global) , Public , ...</td>\n",
       "      <td>Telecom</td>\n",
       "      <td>1k-5k Employees (Global)</td>\n",
       "      <td>Public</td>\n",
       "      <td>39</td>\n",
       "      <td>Ahmedabad</td>\n",
       "    </tr>\n",
       "  </tbody>\n",
       "</table>\n",
       "<p>1235 rows × 8 columns</p>\n",
       "</div>"
      ],
      "text/plain": [
       "                          company_name  company_rating  \\\n",
       "0                   Zydus Lifesciences             4.2   \n",
       "1                Intas Pharmaceuticals             4.2   \n",
       "2                        Vodafone Idea             4.2   \n",
       "3                           TTEC India             3.8   \n",
       "4               Cadila Pharmaceuticals             3.6   \n",
       "...                                ...             ...   \n",
       "1230                       One Way Cab             4.7   \n",
       "1231  Centre For Electronic Governance             4.4   \n",
       "1232                      Kalupur Bank             NaN   \n",
       "1233                     Fulford India             4.3   \n",
       "1234  Department of Telecommunications             4.3   \n",
       "\n",
       "                                             other_data    industry  \\\n",
       "0     Pharma , 10k-50k Employees , Public , 72 years...      Pharma   \n",
       "1     Pharma , 10k-50k Employees , Fortune India 500...      Pharma   \n",
       "2     Telecom , 5k-10k Employees , Public , 6 years ...     Telecom   \n",
       "3     BPO , 1k-5k Employees , Public , 40 years old ...         BPO   \n",
       "4     Pharma , 5k-10k Employees , Public , 73 years ...      Pharma   \n",
       "...                                                 ...         ...   \n",
       "1230  Internet , 11-50 Employees (Global) , Startup ...    Internet   \n",
       "1231  Government , 51-200 Employees (Global) , Publi...  Government   \n",
       "1232  Banking , 501-1k Employees (Global) , Public ,...     Banking   \n",
       "1233  Pharma , 501-1k Employees , Public , 76 years ...      Pharma   \n",
       "1234  Telecom , 1k-5k Employees (Global) , Public , ...     Telecom   \n",
       "\n",
       "                           size               type  years_old   location  \n",
       "0             10k-50k Employees             Public         72  Ahmedabad  \n",
       "1             10k-50k Employees  Fortune India 500         47  Ahmedabad  \n",
       "2              5k-10k Employees             Public          6  Ahmedabad  \n",
       "3               1k-5k Employees             Public         40  Ahmedabad  \n",
       "4              5k-10k Employees             Public         73  Ahmedabad  \n",
       "...                         ...                ...        ...        ...  \n",
       "1230   11-50 Employees (Global)            Startup         11  Ahmedabad  \n",
       "1231  51-200 Employees (Global)             Public         18  Ahmedabad  \n",
       "1232  501-1k Employees (Global)             Public         54  Ahmedabad  \n",
       "1233           501-1k Employees             Public         76  Ahmedabad  \n",
       "1234   1k-5k Employees (Global)             Public         39  Ahmedabad  \n",
       "\n",
       "[1235 rows x 8 columns]"
      ]
     },
     "execution_count": 30,
     "metadata": {},
     "output_type": "execute_result"
    }
   ],
   "source": [
    "ahmedabad.assign(\n",
    "    industry = ahmedabad['other_data'].apply(lambda x: x.split(' , ')[0]),\n",
    "    size = ahmedabad['other_data'].apply(lambda x: x.split(' , ')[1]),\n",
    "    type = ahmedabad['other_data'].apply(lambda x: x.split(' , ')[2]),\n",
    "    years_old = ahmedabad['other_data'].apply(lambda x: x.split(' , ')[3]).apply(lambda x: x.split()[0]).astype('int'),\n",
    "    location = ahmedabad['other_data'].apply(lambda x: x.split(' , ')[4]).apply(lambda x: x.split()[0])\n",
    ")"
   ]
  },
  {
   "cell_type": "code",
   "execution_count": null,
   "id": "170eddc3-ab66-4b05-a25a-c48ad2eac880",
   "metadata": {},
   "outputs": [],
   "source": []
  },
  {
   "cell_type": "code",
   "execution_count": null,
   "id": "9f609545-bc8e-490a-86cc-d122093e7467",
   "metadata": {},
   "outputs": [],
   "source": []
  },
  {
   "cell_type": "code",
   "execution_count": null,
   "id": "9242ba36-1a9a-43ae-9ab9-74885bdbadcc",
   "metadata": {},
   "outputs": [],
   "source": []
  }
 ],
 "metadata": {
  "kernelspec": {
   "display_name": "Python 3 (ipykernel)",
   "language": "python",
   "name": "python3"
  },
  "language_info": {
   "codemirror_mode": {
    "name": "ipython",
    "version": 3
   },
   "file_extension": ".py",
   "mimetype": "text/x-python",
   "name": "python",
   "nbconvert_exporter": "python",
   "pygments_lexer": "ipython3",
   "version": "3.11.7"
  }
 },
 "nbformat": 4,
 "nbformat_minor": 5
}
