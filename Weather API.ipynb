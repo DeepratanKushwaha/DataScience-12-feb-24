{
 "cells": [
  {
   "cell_type": "code",
   "execution_count": 2,
   "id": "88c169a1",
   "metadata": {},
   "outputs": [
    {
     "name": "stdout",
     "output_type": "stream",
     "text": [
      "https://api.openweathermap.org/data/2.5/weather?lat=26.91&lon=75.78&appid=fd4990f3b8581815656c8049597e35e1\n"
     ]
    }
   ],
   "source": [
    "lat = 26.91\n",
    "lon = 75.78\n",
    "api_key = \"fd4990f3b8581815656c8049597e35e1\"\n",
    "url = f\"https://api.openweathermap.org/data/2.5/weather?lat={lat}&lon={lon}&appid={api_key}\"\n",
    "print(url)"
   ]
  },
  {
   "cell_type": "code",
   "execution_count": null,
   "id": "f067e2d6",
   "metadata": {},
   "outputs": [],
   "source": []
  },
  {
   "cell_type": "code",
   "execution_count": 3,
   "id": "2aef6263",
   "metadata": {},
   "outputs": [],
   "source": [
    "import requests"
   ]
  },
  {
   "cell_type": "code",
   "execution_count": 4,
   "id": "eb37e37e",
   "metadata": {},
   "outputs": [
    {
     "data": {
      "text/plain": [
       "<Response [200]>"
      ]
     },
     "execution_count": 4,
     "metadata": {},
     "output_type": "execute_result"
    }
   ],
   "source": [
    "resp = requests.get(url)\n",
    "resp"
   ]
  },
  {
   "cell_type": "code",
   "execution_count": 5,
   "id": "5b67f4f7",
   "metadata": {},
   "outputs": [
    {
     "data": {
      "text/plain": [
       "{'Server': 'openresty', 'Date': 'Thu, 28 Mar 2024 11:20:37 GMT', 'Content-Type': 'application/json; charset=utf-8', 'Content-Length': '459', 'Connection': 'keep-alive', 'X-Cache-Key': '/data/2.5/weather?lat=26.91&lon=75.78', 'Access-Control-Allow-Origin': '*', 'Access-Control-Allow-Credentials': 'true', 'Access-Control-Allow-Methods': 'GET, POST'}"
      ]
     },
     "execution_count": 5,
     "metadata": {},
     "output_type": "execute_result"
    }
   ],
   "source": [
    "resp.headers"
   ]
  },
  {
   "cell_type": "code",
   "execution_count": 6,
   "id": "90010677",
   "metadata": {},
   "outputs": [
    {
     "data": {
      "text/plain": [
       "b'{\"coord\":{\"lon\":75.78,\"lat\":26.91},\"weather\":[{\"id\":721,\"main\":\"Haze\",\"description\":\"haze\",\"icon\":\"50d\"}],\"base\":\"stations\",\"main\":{\"temp\":310.87,\"feels_like\":309.25,\"temp_min\":310.87,\"temp_max\":310.87,\"pressure\":1010,\"humidity\":19},\"visibility\":5000,\"wind\":{\"speed\":2.06,\"deg\":260},\"clouds\":{\"all\":20},\"dt\":1711624837,\"sys\":{\"type\":1,\"id\":9170,\"country\":\"IN\",\"sunrise\":1711587108,\"sunset\":1711631506},\"timezone\":19800,\"id\":8199371,\"name\":\"Rambagh\",\"cod\":200}'"
      ]
     },
     "execution_count": 6,
     "metadata": {},
     "output_type": "execute_result"
    }
   ],
   "source": [
    "resp.content"
   ]
  },
  {
   "cell_type": "code",
   "execution_count": 8,
   "id": "1528c31d",
   "metadata": {},
   "outputs": [
    {
     "data": {
      "text/plain": [
       "{'coord': {'lon': 75.78, 'lat': 26.91},\n",
       " 'weather': [{'id': 721,\n",
       "   'main': 'Haze',\n",
       "   'description': 'haze',\n",
       "   'icon': '50d'}],\n",
       " 'base': 'stations',\n",
       " 'main': {'temp': 310.87,\n",
       "  'feels_like': 309.25,\n",
       "  'temp_min': 310.87,\n",
       "  'temp_max': 310.87,\n",
       "  'pressure': 1010,\n",
       "  'humidity': 19},\n",
       " 'visibility': 5000,\n",
       " 'wind': {'speed': 2.06, 'deg': 260},\n",
       " 'clouds': {'all': 20},\n",
       " 'dt': 1711624837,\n",
       " 'sys': {'type': 1,\n",
       "  'id': 9170,\n",
       "  'country': 'IN',\n",
       "  'sunrise': 1711587108,\n",
       "  'sunset': 1711631506},\n",
       " 'timezone': 19800,\n",
       " 'id': 8199371,\n",
       " 'name': 'Rambagh',\n",
       " 'cod': 200}"
      ]
     },
     "execution_count": 8,
     "metadata": {},
     "output_type": "execute_result"
    }
   ],
   "source": [
    "data = resp.json()\n",
    "data"
   ]
  },
  {
   "cell_type": "code",
   "execution_count": 10,
   "id": "933840cb",
   "metadata": {},
   "outputs": [
    {
     "name": "stdout",
     "output_type": "stream",
     "text": [
      "310.87\n",
      "310.87\n",
      "310.87\n"
     ]
    }
   ],
   "source": [
    "temp = data['main']['temp']\n",
    "min_temp = data['main']['temp_min']\n",
    "max_temp = data['main']['temp_max']\n",
    "print(temp)\n",
    "print(min_temp)\n",
    "print(max_temp)"
   ]
  },
  {
   "cell_type": "code",
   "execution_count": 11,
   "id": "ad479ddc",
   "metadata": {},
   "outputs": [
    {
     "data": {
      "text/plain": [
       "'fd4990f3b8581815656c8049597e35e1'"
      ]
     },
     "execution_count": 11,
     "metadata": {},
     "output_type": "execute_result"
    }
   ],
   "source": [
    "api_key"
   ]
  },
  {
   "cell_type": "code",
   "execution_count": 12,
   "id": "98be27b3",
   "metadata": {},
   "outputs": [
    {
     "name": "stdout",
     "output_type": "stream",
     "text": [
      "https://api.openweathermap.org/data/2.5/weather?q=jaipur&appid=fd4990f3b8581815656c8049597e35e1\n"
     ]
    }
   ],
   "source": [
    "city_name = 'jaipur'\n",
    "url = f\"https://api.openweathermap.org/data/2.5/weather?q={city_name}&appid={api_key}\"\n",
    "print(url)"
   ]
  },
  {
   "cell_type": "code",
   "execution_count": null,
   "id": "f1fec4d4",
   "metadata": {},
   "outputs": [],
   "source": []
  },
  {
   "cell_type": "code",
   "execution_count": 13,
   "id": "a6d7377c",
   "metadata": {},
   "outputs": [
    {
     "data": {
      "text/plain": [
       "<Response [200]>"
      ]
     },
     "execution_count": 13,
     "metadata": {},
     "output_type": "execute_result"
    }
   ],
   "source": [
    "resp = requests.get(url)\n",
    "resp"
   ]
  },
  {
   "cell_type": "code",
   "execution_count": 14,
   "id": "3a2a76bc",
   "metadata": {},
   "outputs": [
    {
     "data": {
      "text/plain": [
       "{'coord': {'lon': 75.8167, 'lat': 26.9167},\n",
       " 'weather': [{'id': 721,\n",
       "   'main': 'Haze',\n",
       "   'description': 'haze',\n",
       "   'icon': '50d'}],\n",
       " 'base': 'stations',\n",
       " 'main': {'temp': 310.77,\n",
       "  'feels_like': 309.12,\n",
       "  'temp_min': 310.77,\n",
       "  'temp_max': 310.77,\n",
       "  'pressure': 1010,\n",
       "  'humidity': 19},\n",
       " 'visibility': 5000,\n",
       " 'wind': {'speed': 2.06, 'deg': 260},\n",
       " 'clouds': {'all': 20},\n",
       " 'dt': 1711625375,\n",
       " 'sys': {'type': 1,\n",
       "  'id': 9170,\n",
       "  'country': 'IN',\n",
       "  'sunrise': 1711587099,\n",
       "  'sunset': 1711631498},\n",
       " 'timezone': 19800,\n",
       " 'id': 1269515,\n",
       " 'name': 'Jaipur',\n",
       " 'cod': 200}"
      ]
     },
     "execution_count": 14,
     "metadata": {},
     "output_type": "execute_result"
    }
   ],
   "source": [
    "data = resp.json()\n",
    "data"
   ]
  },
  {
   "cell_type": "code",
   "execution_count": null,
   "id": "450a390a",
   "metadata": {},
   "outputs": [],
   "source": []
  },
  {
   "cell_type": "code",
   "execution_count": 15,
   "id": "294ef77e",
   "metadata": {},
   "outputs": [
    {
     "data": {
      "text/plain": [
       "{'coord': {'lon': 75.8167, 'lat': 26.9167},\n",
       " 'weather': [{'id': 721,\n",
       "   'main': 'Haze',\n",
       "   'description': 'haze',\n",
       "   'icon': '50d'}],\n",
       " 'base': 'stations',\n",
       " 'main': {'temp': 37.62,\n",
       "  'feels_like': 35.97,\n",
       "  'temp_min': 37.62,\n",
       "  'temp_max': 37.62,\n",
       "  'pressure': 1010,\n",
       "  'humidity': 19},\n",
       " 'visibility': 5000,\n",
       " 'wind': {'speed': 2.06, 'deg': 260},\n",
       " 'clouds': {'all': 20},\n",
       " 'dt': 1711625428,\n",
       " 'sys': {'type': 1,\n",
       "  'id': 9170,\n",
       "  'country': 'IN',\n",
       "  'sunrise': 1711587099,\n",
       "  'sunset': 1711631498},\n",
       " 'timezone': 19800,\n",
       " 'id': 1269515,\n",
       " 'name': 'Jaipur',\n",
       " 'cod': 200}"
      ]
     },
     "execution_count": 15,
     "metadata": {},
     "output_type": "execute_result"
    }
   ],
   "source": [
    "url = f\"https://api.openweathermap.org/data/2.5/weather?q={city_name}&appid={api_key}&units=metric\"\n",
    "resp = requests.get(url)\n",
    "data = resp.json()\n",
    "data"
   ]
  },
  {
   "cell_type": "code",
   "execution_count": null,
   "id": "502a36ad",
   "metadata": {},
   "outputs": [],
   "source": []
  },
  {
   "cell_type": "code",
   "execution_count": 16,
   "id": "6b2f5f53",
   "metadata": {},
   "outputs": [],
   "source": [
    "url = f\"https://api.openweathermap.org/data/2.5/weather?\"\n"
   ]
  },
  {
   "cell_type": "code",
   "execution_count": 17,
   "id": "71afea6c",
   "metadata": {},
   "outputs": [],
   "source": [
    "dict1 = {\n",
    "    'q':city_name,\n",
    "    'appid':api_key,\n",
    "    'units': 'metric'\n",
    "}"
   ]
  },
  {
   "cell_type": "code",
   "execution_count": 18,
   "id": "4611e0ab",
   "metadata": {},
   "outputs": [
    {
     "data": {
      "text/plain": [
       "<Response [200]>"
      ]
     },
     "execution_count": 18,
     "metadata": {},
     "output_type": "execute_result"
    }
   ],
   "source": [
    "resp = requests.get(url, params=dict1)\n",
    "resp"
   ]
  },
  {
   "cell_type": "code",
   "execution_count": 19,
   "id": "5d99bcfe",
   "metadata": {},
   "outputs": [
    {
     "data": {
      "text/plain": [
       "{'coord': {'lon': 75.8167, 'lat': 26.9167},\n",
       " 'weather': [{'id': 721,\n",
       "   'main': 'Haze',\n",
       "   'description': 'haze',\n",
       "   'icon': '50d'}],\n",
       " 'base': 'stations',\n",
       " 'main': {'temp': 37.62,\n",
       "  'feels_like': 35.97,\n",
       "  'temp_min': 37.62,\n",
       "  'temp_max': 37.62,\n",
       "  'pressure': 1010,\n",
       "  'humidity': 19},\n",
       " 'visibility': 5000,\n",
       " 'wind': {'speed': 2.06, 'deg': 260},\n",
       " 'clouds': {'all': 20},\n",
       " 'dt': 1711625331,\n",
       " 'sys': {'type': 1,\n",
       "  'id': 9170,\n",
       "  'country': 'IN',\n",
       "  'sunrise': 1711587099,\n",
       "  'sunset': 1711631498},\n",
       " 'timezone': 19800,\n",
       " 'id': 1269515,\n",
       " 'name': 'Jaipur',\n",
       " 'cod': 200}"
      ]
     },
     "execution_count": 19,
     "metadata": {},
     "output_type": "execute_result"
    }
   ],
   "source": [
    "data = resp.json()\n",
    "data"
   ]
  },
  {
   "cell_type": "code",
   "execution_count": 20,
   "id": "e68bead0",
   "metadata": {},
   "outputs": [
    {
     "data": {
      "text/plain": [
       "'fd4990f3b8581815656c8049597e35e1'"
      ]
     },
     "execution_count": 20,
     "metadata": {},
     "output_type": "execute_result"
    }
   ],
   "source": [
    "api_key"
   ]
  },
  {
   "cell_type": "code",
   "execution_count": 24,
   "id": "2d450a78",
   "metadata": {},
   "outputs": [],
   "source": [
    "import requests\n",
    "\n",
    "def get_temp(city_name, units='standard'):\n",
    "    \"\"\"city_name: required argument\n",
    "       units: by default --> standard\n",
    "              options --> metric, imperial\"\"\"\n",
    "    \n",
    "    api_key = 'fd4990f3b8581815656c8049597e35e1'\n",
    "    url = f\"https://api.openweathermap.org/data/2.5/weather?\"\n",
    "    \n",
    "    dict1 = {\n",
    "        'q':city_name,\n",
    "        'appid':api_key,\n",
    "        'units': units\n",
    "        }\n",
    "    \n",
    "    resp = requests.get(url, params=dict1)\n",
    "    if resp.status_code == 200:\n",
    "        data = resp.json()\n",
    "        temp = data['main']['temp']\n",
    "        min_temp = data['main']['temp_min']\n",
    "        max_temp = data['main']['temp_max']\n",
    "        print(f\"Temp: {temp}\")\n",
    "        print(f\"Min temp: {min_temp}\")\n",
    "        print(f\"Max temp: {max_temp}\")\n",
    "        print('-'*100)\n",
    "        print('-'*100)\n",
    "        print()\n",
    "    else:\n",
    "        print(f'Error occured Status code: {resp.status_code} Reason: {resp.reason}')\n",
    "        "
   ]
  },
  {
   "cell_type": "code",
   "execution_count": 25,
   "id": "ac493417",
   "metadata": {},
   "outputs": [
    {
     "name": "stdout",
     "output_type": "stream",
     "text": [
      "Temp: 37.62\n",
      "Min temp: 37.62\n",
      "Max temp: 37.62\n",
      "----------------------------------------------------------------------------------------------------\n",
      "----------------------------------------------------------------------------------------------------\n",
      "\n"
     ]
    }
   ],
   "source": [
    "get_temp('jaipur', units='metric')"
   ]
  },
  {
   "cell_type": "code",
   "execution_count": 27,
   "id": "c3de8539",
   "metadata": {},
   "outputs": [
    {
     "name": "stdout",
     "output_type": "stream",
     "text": [
      "Enter city name: jaipur\n",
      "Temp: 37.62\n",
      "Min temp: 37.62\n",
      "Max temp: 37.62\n",
      "----------------------------------------------------------------------------------------------------\n",
      "----------------------------------------------------------------------------------------------------\n",
      "\n",
      "Enter city name: jammu\n",
      "Temp: 32.33\n",
      "Min temp: 32.33\n",
      "Max temp: 32.33\n",
      "----------------------------------------------------------------------------------------------------\n",
      "----------------------------------------------------------------------------------------------------\n",
      "\n",
      "Enter city name: shimla\n",
      "Temp: 19.65\n",
      "Min temp: 19.65\n",
      "Max temp: 19.65\n",
      "----------------------------------------------------------------------------------------------------\n",
      "----------------------------------------------------------------------------------------------------\n",
      "\n",
      "Enter city name: manali\n",
      "Temp: 32.05\n",
      "Min temp: 32.05\n",
      "Max temp: 32.05\n",
      "----------------------------------------------------------------------------------------------------\n",
      "----------------------------------------------------------------------------------------------------\n",
      "\n"
     ]
    },
    {
     "ename": "KeyboardInterrupt",
     "evalue": "Interrupted by user",
     "output_type": "error",
     "traceback": [
      "\u001b[1;31m---------------------------------------------------------------------------\u001b[0m",
      "\u001b[1;31mKeyboardInterrupt\u001b[0m                         Traceback (most recent call last)",
      "Cell \u001b[1;32mIn[27], line 2\u001b[0m\n\u001b[0;32m      1\u001b[0m \u001b[38;5;28;01mwhile\u001b[39;00m \u001b[38;5;28;01mTrue\u001b[39;00m:\n\u001b[1;32m----> 2\u001b[0m     get_temp(\u001b[38;5;28;43minput\u001b[39;49m\u001b[43m(\u001b[49m\u001b[38;5;124;43m'\u001b[39;49m\u001b[38;5;124;43mEnter city name: \u001b[39;49m\u001b[38;5;124;43m'\u001b[39;49m\u001b[43m)\u001b[49m, units\u001b[38;5;241m=\u001b[39m\u001b[38;5;124m'\u001b[39m\u001b[38;5;124mmetric\u001b[39m\u001b[38;5;124m'\u001b[39m)\n",
      "File \u001b[1;32mC:\\Anaconda3\\lib\\site-packages\\ipykernel\\kernelbase.py:1175\u001b[0m, in \u001b[0;36mKernel.raw_input\u001b[1;34m(self, prompt)\u001b[0m\n\u001b[0;32m   1171\u001b[0m \u001b[38;5;28;01mif\u001b[39;00m \u001b[38;5;129;01mnot\u001b[39;00m \u001b[38;5;28mself\u001b[39m\u001b[38;5;241m.\u001b[39m_allow_stdin:\n\u001b[0;32m   1172\u001b[0m     \u001b[38;5;28;01mraise\u001b[39;00m StdinNotImplementedError(\n\u001b[0;32m   1173\u001b[0m         \u001b[38;5;124m\"\u001b[39m\u001b[38;5;124mraw_input was called, but this frontend does not support input requests.\u001b[39m\u001b[38;5;124m\"\u001b[39m\n\u001b[0;32m   1174\u001b[0m     )\n\u001b[1;32m-> 1175\u001b[0m \u001b[38;5;28;01mreturn\u001b[39;00m \u001b[38;5;28;43mself\u001b[39;49m\u001b[38;5;241;43m.\u001b[39;49m\u001b[43m_input_request\u001b[49m\u001b[43m(\u001b[49m\n\u001b[0;32m   1176\u001b[0m \u001b[43m    \u001b[49m\u001b[38;5;28;43mstr\u001b[39;49m\u001b[43m(\u001b[49m\u001b[43mprompt\u001b[49m\u001b[43m)\u001b[49m\u001b[43m,\u001b[49m\n\u001b[0;32m   1177\u001b[0m \u001b[43m    \u001b[49m\u001b[38;5;28;43mself\u001b[39;49m\u001b[38;5;241;43m.\u001b[39;49m\u001b[43m_parent_ident\u001b[49m\u001b[43m[\u001b[49m\u001b[38;5;124;43m\"\u001b[39;49m\u001b[38;5;124;43mshell\u001b[39;49m\u001b[38;5;124;43m\"\u001b[39;49m\u001b[43m]\u001b[49m\u001b[43m,\u001b[49m\n\u001b[0;32m   1178\u001b[0m \u001b[43m    \u001b[49m\u001b[38;5;28;43mself\u001b[39;49m\u001b[38;5;241;43m.\u001b[39;49m\u001b[43mget_parent\u001b[49m\u001b[43m(\u001b[49m\u001b[38;5;124;43m\"\u001b[39;49m\u001b[38;5;124;43mshell\u001b[39;49m\u001b[38;5;124;43m\"\u001b[39;49m\u001b[43m)\u001b[49m\u001b[43m,\u001b[49m\n\u001b[0;32m   1179\u001b[0m \u001b[43m    \u001b[49m\u001b[43mpassword\u001b[49m\u001b[38;5;241;43m=\u001b[39;49m\u001b[38;5;28;43;01mFalse\u001b[39;49;00m\u001b[43m,\u001b[49m\n\u001b[0;32m   1180\u001b[0m \u001b[43m\u001b[49m\u001b[43m)\u001b[49m\n",
      "File \u001b[1;32mC:\\Anaconda3\\lib\\site-packages\\ipykernel\\kernelbase.py:1217\u001b[0m, in \u001b[0;36mKernel._input_request\u001b[1;34m(self, prompt, ident, parent, password)\u001b[0m\n\u001b[0;32m   1214\u001b[0m             \u001b[38;5;28;01mbreak\u001b[39;00m\n\u001b[0;32m   1215\u001b[0m \u001b[38;5;28;01mexcept\u001b[39;00m \u001b[38;5;167;01mKeyboardInterrupt\u001b[39;00m:\n\u001b[0;32m   1216\u001b[0m     \u001b[38;5;66;03m# re-raise KeyboardInterrupt, to truncate traceback\u001b[39;00m\n\u001b[1;32m-> 1217\u001b[0m     \u001b[38;5;28;01mraise\u001b[39;00m \u001b[38;5;167;01mKeyboardInterrupt\u001b[39;00m(\u001b[38;5;124m\"\u001b[39m\u001b[38;5;124mInterrupted by user\u001b[39m\u001b[38;5;124m\"\u001b[39m) \u001b[38;5;28;01mfrom\u001b[39;00m \u001b[38;5;28;01mNone\u001b[39;00m\n\u001b[0;32m   1218\u001b[0m \u001b[38;5;28;01mexcept\u001b[39;00m \u001b[38;5;167;01mException\u001b[39;00m:\n\u001b[0;32m   1219\u001b[0m     \u001b[38;5;28mself\u001b[39m\u001b[38;5;241m.\u001b[39mlog\u001b[38;5;241m.\u001b[39mwarning(\u001b[38;5;124m\"\u001b[39m\u001b[38;5;124mInvalid Message:\u001b[39m\u001b[38;5;124m\"\u001b[39m, exc_info\u001b[38;5;241m=\u001b[39m\u001b[38;5;28;01mTrue\u001b[39;00m)\n",
      "\u001b[1;31mKeyboardInterrupt\u001b[0m: Interrupted by user"
     ]
    }
   ],
   "source": [
    "while True:\n",
    "    get_temp(input('Enter city name: '), units='metric')"
   ]
  },
  {
   "cell_type": "code",
   "execution_count": null,
   "id": "4d80cb0b",
   "metadata": {},
   "outputs": [],
   "source": []
  }
 ],
 "metadata": {
  "kernelspec": {
   "display_name": "Python 3 (ipykernel)",
   "language": "python",
   "name": "python3"
  },
  "language_info": {
   "codemirror_mode": {
    "name": "ipython",
    "version": 3
   },
   "file_extension": ".py",
   "mimetype": "text/x-python",
   "name": "python",
   "nbconvert_exporter": "python",
   "pygments_lexer": "ipython3",
   "version": "3.10.9"
  }
 },
 "nbformat": 4,
 "nbformat_minor": 5
}
