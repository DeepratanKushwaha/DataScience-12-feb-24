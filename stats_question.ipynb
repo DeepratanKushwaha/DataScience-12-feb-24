{
 "cells": [
  {
   "cell_type": "markdown",
   "id": "0deb955f",
   "metadata": {},
   "source": [
    "## write a python program to find out quatile for data"
   ]
  },
  {
   "cell_type": "code",
   "execution_count": null,
   "id": "f19b2f39",
   "metadata": {},
   "outputs": [],
   "source": []
  },
  {
   "cell_type": "code",
   "execution_count": null,
   "id": "0d30572f",
   "metadata": {},
   "outputs": [],
   "source": []
  },
  {
   "cell_type": "code",
   "execution_count": 103,
   "id": "d57de70a",
   "metadata": {},
   "outputs": [],
   "source": [
    "import numpy as np"
   ]
  },
  {
   "cell_type": "code",
   "execution_count": 104,
   "id": "83ec3aaf",
   "metadata": {},
   "outputs": [],
   "source": [
    "arr = list(np.random.randint(20, 40, 100))"
   ]
  },
  {
   "cell_type": "code",
   "execution_count": 105,
   "id": "b7636e03",
   "metadata": {},
   "outputs": [
    {
     "name": "stdout",
     "output_type": "stream",
     "text": [
      "[31, 23, 21, 35, 36, 31, 36, 31, 28, 32, 26, 29, 30, 32, 26, 26, 31, 27, 37, 39, 37, 39, 37, 30, 36, 23, 31, 39, 35, 38, 28, 27, 34, 33, 20, 35, 33, 25, 28, 33, 39, 33, 39, 34, 21, 30, 35, 22, 38, 23, 22, 36, 32, 20, 22, 36, 20, 25, 37, 31, 26, 24, 34, 34, 32, 20, 23, 34, 28, 39, 35, 35, 38, 26, 37, 32, 28, 24, 36, 22, 33, 35, 22, 28, 30, 21, 22, 31, 27, 28, 25, 29, 29, 21, 20, 20, 21, 28, 21, 32]\n"
     ]
    }
   ],
   "source": [
    "print(arr)"
   ]
  },
  {
   "cell_type": "code",
   "execution_count": null,
   "id": "cf1e9b1c",
   "metadata": {},
   "outputs": [],
   "source": []
  },
  {
   "cell_type": "code",
   "execution_count": 106,
   "id": "d0553266",
   "metadata": {},
   "outputs": [],
   "source": [
    "def quantile(arr):\n",
    "    q2 = np.median(arr)\n",
    "    \n",
    "    lower_half = [i for i in arr if i < q2]\n",
    "    upper_half = [i for i in arr if i > q2]\n",
    "    \n",
    "    q1 = np.median(lower_half)\n",
    "    q3 = np.median(upper_half)\n",
    "    \n",
    "    return q1,q2,q3"
   ]
  },
  {
   "cell_type": "code",
   "execution_count": 107,
   "id": "e40632e6",
   "metadata": {},
   "outputs": [
    {
     "data": {
      "text/plain": [
       "(25.0, 30.5, 35.0)"
      ]
     },
     "execution_count": 107,
     "metadata": {},
     "output_type": "execute_result"
    }
   ],
   "source": [
    "quantile(arr)"
   ]
  },
  {
   "cell_type": "code",
   "execution_count": 108,
   "id": "898a2f6c",
   "metadata": {},
   "outputs": [
    {
     "data": {
      "text/plain": [
       "array([25. , 30.5, 35. ])"
      ]
     },
     "execution_count": 108,
     "metadata": {},
     "output_type": "execute_result"
    }
   ],
   "source": [
    "np.quantile(arr, [0.25, 0.50, 0.75])"
   ]
  },
  {
   "cell_type": "code",
   "execution_count": null,
   "id": "cbe7cea9",
   "metadata": {},
   "outputs": [],
   "source": []
  },
  {
   "cell_type": "code",
   "execution_count": null,
   "id": "1d7523f4",
   "metadata": {},
   "outputs": [],
   "source": []
  },
  {
   "cell_type": "code",
   "execution_count": 110,
   "id": "ef29aa94",
   "metadata": {},
   "outputs": [
    {
     "name": "stdout",
     "output_type": "stream",
     "text": [
      "[31, 23, 21, 35, 36, 31, 36, 31, 28, 32, 26, 29, 30, 32, 26, 26, 31, 27, 37, 39, 37, 39, 37, 30, 36, 23, 31, 39, 35, 38, 28, 27, 34, 33, 20, 35, 33, 25, 28, 33, 39, 33, 39, 34, 21, 30, 35, 22, 38, 23, 22, 36, 32, 20, 22, 36, 20, 25, 37, 31, 26, 24, 34, 34, 32, 20, 23, 34, 28, 39, 35, 35, 38, 26, 37, 32, 28, 24, 36, 22, 33, 35, 22, 28, 30, 21, 22, 31, 27, 28, 25, 29, 29, 21, 20, 20, 21, 28, 21, 32]\n"
     ]
    }
   ],
   "source": [
    "print(arr)"
   ]
  },
  {
   "cell_type": "code",
   "execution_count": null,
   "id": "8c9c2164",
   "metadata": {},
   "outputs": [],
   "source": []
  },
  {
   "cell_type": "code",
   "execution_count": 115,
   "id": "9ad04077",
   "metadata": {},
   "outputs": [],
   "source": [
    "A = 30"
   ]
  },
  {
   "cell_type": "code",
   "execution_count": 116,
   "id": "524e23e3",
   "metadata": {},
   "outputs": [
    {
     "name": "stdout",
     "output_type": "stream",
     "text": [
      "[1, -7, -9, 5, 6, 1, 6, 1, -2, 2, -4, -1, 0, 2, -4, -4, 1, -3, 7, 9, 7, 9, 7, 0, 6, -7, 1, 9, 5, 8, -2, -3, 4, 3, -10, 5, 3, -5, -2, 3, 9, 3, 9, 4, -9, 0, 5, -8, 8, -7, -8, 6, 2, -10, -8, 6, -10, -5, 7, 1, -4, -6, 4, 4, 2, -10, -7, 4, -2, 9, 5, 5, 8, -4, 7, 2, -2, -6, 6, -8, 3, 5, -8, -2, 0, -9, -8, 1, -3, -2, -5, -1, -1, -9, -10, -10, -9, -2, -9, 2]\n"
     ]
    }
   ],
   "source": [
    "dev = [(i - A) for i in arr]\n",
    "print(dev)"
   ]
  },
  {
   "cell_type": "code",
   "execution_count": 117,
   "id": "7e89fced",
   "metadata": {},
   "outputs": [
    {
     "data": {
      "text/plain": [
       "29.73"
      ]
     },
     "execution_count": 117,
     "metadata": {},
     "output_type": "execute_result"
    }
   ],
   "source": [
    "mean = A + sum(dev) / len(dev)\n",
    "mean"
   ]
  },
  {
   "cell_type": "code",
   "execution_count": 118,
   "id": "bc540bb8",
   "metadata": {},
   "outputs": [
    {
     "data": {
      "text/plain": [
       "29.73"
      ]
     },
     "execution_count": 118,
     "metadata": {},
     "output_type": "execute_result"
    }
   ],
   "source": [
    "np.mean(arr)"
   ]
  },
  {
   "cell_type": "code",
   "execution_count": null,
   "id": "ca7197cc",
   "metadata": {},
   "outputs": [],
   "source": []
  },
  {
   "cell_type": "code",
   "execution_count": 119,
   "id": "1cef7dd4",
   "metadata": {},
   "outputs": [],
   "source": [
    "data = [[0,10], [10,20], [20,30], [30,40], [40,50], [50,60], [60,70]]\n",
    "freq = [6, 8, 10, 12, 7, 4, 3]"
   ]
  },
  {
   "cell_type": "code",
   "execution_count": null,
   "id": "9700fef7",
   "metadata": {},
   "outputs": [],
   "source": []
  },
  {
   "cell_type": "code",
   "execution_count": 120,
   "id": "c34b14bb",
   "metadata": {},
   "outputs": [
    {
     "name": "stdout",
     "output_type": "stream",
     "text": [
      "[5, 15, 25, 35, 45, 55, 65]\n"
     ]
    }
   ],
   "source": [
    "x = [sum(i)// 2 for i in data]\n",
    "print(x)"
   ]
  },
  {
   "cell_type": "code",
   "execution_count": 121,
   "id": "4f683c4d",
   "metadata": {},
   "outputs": [],
   "source": [
    "A = 5"
   ]
  },
  {
   "cell_type": "code",
   "execution_count": 122,
   "id": "fb339650",
   "metadata": {},
   "outputs": [],
   "source": [
    "c = 10"
   ]
  },
  {
   "cell_type": "code",
   "execution_count": 123,
   "id": "d5676029",
   "metadata": {},
   "outputs": [
    {
     "name": "stdout",
     "output_type": "stream",
     "text": [
      "[0, 1, 2, 3, 4, 5, 6]\n"
     ]
    }
   ],
   "source": [
    "d = [(i - A)// c  for i in x]\n",
    "print(d)"
   ]
  },
  {
   "cell_type": "code",
   "execution_count": null,
   "id": "c4d39b4b",
   "metadata": {},
   "outputs": [],
   "source": []
  },
  {
   "cell_type": "code",
   "execution_count": 124,
   "id": "b2f52a49",
   "metadata": {},
   "outputs": [
    {
     "name": "stdout",
     "output_type": "stream",
     "text": [
      "(6, 0)\n",
      "(8, 1)\n",
      "(10, 2)\n",
      "(12, 3)\n",
      "(7, 4)\n",
      "(4, 5)\n",
      "(3, 6)\n"
     ]
    }
   ],
   "source": [
    "for i in zip(freq, d):\n",
    "    print(i)"
   ]
  },
  {
   "cell_type": "code",
   "execution_count": null,
   "id": "f062fb93",
   "metadata": {},
   "outputs": [],
   "source": []
  },
  {
   "cell_type": "code",
   "execution_count": 126,
   "id": "206ee7b5",
   "metadata": {},
   "outputs": [
    {
     "name": "stdout",
     "output_type": "stream",
     "text": [
      "6 0\n",
      "8 1\n",
      "10 2\n",
      "12 3\n",
      "7 4\n",
      "4 5\n",
      "3 6\n"
     ]
    }
   ],
   "source": [
    "for i, j in zip(freq, d):\n",
    "    print(i, j)"
   ]
  },
  {
   "cell_type": "code",
   "execution_count": null,
   "id": "5695bda6",
   "metadata": {},
   "outputs": [],
   "source": []
  },
  {
   "cell_type": "code",
   "execution_count": 127,
   "id": "9858701c",
   "metadata": {},
   "outputs": [
    {
     "name": "stdout",
     "output_type": "stream",
     "text": [
      "[0, 8, 20, 36, 28, 20, 18]\n"
     ]
    }
   ],
   "source": [
    "fd = [i*j for i, j in zip(freq, d)]\n",
    "print(fd)"
   ]
  },
  {
   "cell_type": "code",
   "execution_count": null,
   "id": "1c6b3b90",
   "metadata": {},
   "outputs": [],
   "source": []
  },
  {
   "cell_type": "code",
   "execution_count": 128,
   "id": "f2f016eb",
   "metadata": {},
   "outputs": [
    {
     "data": {
      "text/plain": [
       "31.0"
      ]
     },
     "execution_count": 128,
     "metadata": {},
     "output_type": "execute_result"
    }
   ],
   "source": [
    "mean = A + (sum(fd) / sum(freq)) * c\n",
    "mean"
   ]
  },
  {
   "cell_type": "code",
   "execution_count": null,
   "id": "b2ea7829",
   "metadata": {},
   "outputs": [],
   "source": []
  }
 ],
 "metadata": {
  "kernelspec": {
   "display_name": "Python 3 (ipykernel)",
   "language": "python",
   "name": "python3"
  },
  "language_info": {
   "codemirror_mode": {
    "name": "ipython",
    "version": 3
   },
   "file_extension": ".py",
   "mimetype": "text/x-python",
   "name": "python",
   "nbconvert_exporter": "python",
   "pygments_lexer": "ipython3",
   "version": "3.10.9"
  }
 },
 "nbformat": 4,
 "nbformat_minor": 5
}
