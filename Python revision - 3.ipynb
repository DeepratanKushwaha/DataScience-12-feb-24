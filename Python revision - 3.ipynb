{
 "cells": [
  {
   "cell_type": "code",
   "execution_count": 3,
   "id": "37a74f93",
   "metadata": {},
   "outputs": [],
   "source": [
    "names = ['ram', 'simran', 'ravi', 'sachin', 'aman', 'vikash']\n",
    "age = [25, 20, 26, 28, 24]\n",
    "height = [167, 155, 188, 150, 144]\n",
    "weight = [55, 29, 44, 35, 39]\n",
    "salary = [30, 40, 50, 60, 60]"
   ]
  },
  {
   "cell_type": "code",
   "execution_count": null,
   "id": "9c224f49",
   "metadata": {},
   "outputs": [],
   "source": []
  },
  {
   "cell_type": "code",
   "execution_count": 4,
   "id": "504ba14d",
   "metadata": {},
   "outputs": [
    {
     "name": "stdout",
     "output_type": "stream",
     "text": [
      "ram 25 167\n",
      "simran 20 155\n",
      "ravi 26 188\n",
      "sachin 28 150\n",
      "aman 24 144\n"
     ]
    },
    {
     "ename": "IndexError",
     "evalue": "list index out of range",
     "output_type": "error",
     "traceback": [
      "\u001b[1;31m---------------------------------------------------------------------------\u001b[0m",
      "\u001b[1;31mIndexError\u001b[0m                                Traceback (most recent call last)",
      "Cell \u001b[1;32mIn[4], line 2\u001b[0m\n\u001b[0;32m      1\u001b[0m \u001b[38;5;28;01mfor\u001b[39;00m i \u001b[38;5;129;01min\u001b[39;00m \u001b[38;5;28mrange\u001b[39m(\u001b[38;5;28mlen\u001b[39m(names)):\n\u001b[1;32m----> 2\u001b[0m     \u001b[38;5;28mprint\u001b[39m(names[i], \u001b[43mage\u001b[49m\u001b[43m[\u001b[49m\u001b[43mi\u001b[49m\u001b[43m]\u001b[49m, height[i])\n",
      "\u001b[1;31mIndexError\u001b[0m: list index out of range"
     ]
    }
   ],
   "source": [
    "for i in range(len(names)):\n",
    "    print(names[i], age[i], height[i])"
   ]
  },
  {
   "cell_type": "code",
   "execution_count": null,
   "id": "6b5c69c8",
   "metadata": {},
   "outputs": [],
   "source": []
  },
  {
   "cell_type": "code",
   "execution_count": null,
   "id": "e0e3b9c1",
   "metadata": {},
   "outputs": [],
   "source": [
    "string = ''"
   ]
  },
  {
   "cell_type": "code",
   "execution_count": null,
   "id": "f3e55777",
   "metadata": {},
   "outputs": [],
   "source": []
  },
  {
   "cell_type": "code",
   "execution_count": 5,
   "id": "005e3794",
   "metadata": {},
   "outputs": [
    {
     "data": {
      "text/plain": [
       "<zip at 0x2d675d4da80>"
      ]
     },
     "execution_count": 5,
     "metadata": {},
     "output_type": "execute_result"
    }
   ],
   "source": [
    "zip([10,20,30], [100,200,300])"
   ]
  },
  {
   "cell_type": "code",
   "execution_count": null,
   "id": "32e2f389",
   "metadata": {},
   "outputs": [],
   "source": []
  },
  {
   "cell_type": "code",
   "execution_count": 6,
   "id": "5edf0356",
   "metadata": {},
   "outputs": [],
   "source": [
    "v = zip([10,20,30], [100,200,300])"
   ]
  },
  {
   "cell_type": "code",
   "execution_count": 7,
   "id": "66289108",
   "metadata": {},
   "outputs": [
    {
     "name": "stdout",
     "output_type": "stream",
     "text": [
      "<zip object at 0x000002D677B02F80>\n"
     ]
    }
   ],
   "source": [
    "print(v)"
   ]
  },
  {
   "cell_type": "code",
   "execution_count": 8,
   "id": "63615be0",
   "metadata": {},
   "outputs": [
    {
     "name": "stdout",
     "output_type": "stream",
     "text": [
      "(10, 100)\n",
      "(20, 200)\n",
      "(30, 300)\n"
     ]
    }
   ],
   "source": [
    "for i in v:\n",
    "    print(i)"
   ]
  },
  {
   "cell_type": "code",
   "execution_count": null,
   "id": "7099ecb0",
   "metadata": {},
   "outputs": [],
   "source": []
  },
  {
   "cell_type": "code",
   "execution_count": null,
   "id": "d030cc69",
   "metadata": {},
   "outputs": [],
   "source": []
  },
  {
   "cell_type": "code",
   "execution_count": 9,
   "id": "577851f3",
   "metadata": {},
   "outputs": [],
   "source": [
    "names = ['ram', 'simran', 'ravi', 'sachin', 'aman', 'vikash']\n",
    "age = [25, 20, 26, 28, 24]\n",
    "height = [167, 155, 188, 150, 144]\n",
    "weight = [55, 29, 44, 35, 39]\n",
    "salary = [30, 40, 50, 60, 60]"
   ]
  },
  {
   "cell_type": "code",
   "execution_count": 10,
   "id": "9444f4b2",
   "metadata": {},
   "outputs": [
    {
     "name": "stdout",
     "output_type": "stream",
     "text": [
      "('ram', 25, 167, 55, 30)\n",
      "('simran', 20, 155, 29, 40)\n",
      "('ravi', 26, 188, 44, 50)\n",
      "('sachin', 28, 150, 35, 60)\n",
      "('aman', 24, 144, 39, 60)\n"
     ]
    }
   ],
   "source": [
    "for i in zip(names, age, height, weight, salary):\n",
    "    print(i)"
   ]
  },
  {
   "cell_type": "code",
   "execution_count": null,
   "id": "fe4dd436",
   "metadata": {},
   "outputs": [],
   "source": []
  },
  {
   "cell_type": "code",
   "execution_count": 11,
   "id": "3a382e9f",
   "metadata": {},
   "outputs": [],
   "source": [
    "string = 'hello we are learning data science'"
   ]
  },
  {
   "cell_type": "code",
   "execution_count": 12,
   "id": "e0be1bc0",
   "metadata": {},
   "outputs": [
    {
     "data": {
      "text/plain": [
       "{}"
      ]
     },
     "execution_count": 12,
     "metadata": {},
     "output_type": "execute_result"
    }
   ],
   "source": [
    "d = dict()\n",
    "d"
   ]
  },
  {
   "cell_type": "code",
   "execution_count": 13,
   "id": "e297dcab",
   "metadata": {},
   "outputs": [],
   "source": [
    "for i in string:\n",
    "    if i != ' ':\n",
    "        d[i] = string.count(i)\n"
   ]
  },
  {
   "cell_type": "code",
   "execution_count": 15,
   "id": "cd6ce56f",
   "metadata": {},
   "outputs": [
    {
     "name": "stdout",
     "output_type": "stream",
     "text": [
      "{'h': 1, 'e': 6, 'l': 3, 'o': 1, 'w': 1, 'a': 4, 'r': 2, 'n': 3, 'i': 2, 'g': 1, 'd': 1, 't': 1, 's': 1, 'c': 2}\n"
     ]
    }
   ],
   "source": [
    "print(d)"
   ]
  },
  {
   "cell_type": "code",
   "execution_count": null,
   "id": "eefae362",
   "metadata": {},
   "outputs": [],
   "source": []
  }
 ],
 "metadata": {
  "kernelspec": {
   "display_name": "Python 3 (ipykernel)",
   "language": "python",
   "name": "python3"
  },
  "language_info": {
   "codemirror_mode": {
    "name": "ipython",
    "version": 3
   },
   "file_extension": ".py",
   "mimetype": "text/x-python",
   "name": "python",
   "nbconvert_exporter": "python",
   "pygments_lexer": "ipython3",
   "version": "3.10.9"
  }
 },
 "nbformat": 4,
 "nbformat_minor": 5
}
