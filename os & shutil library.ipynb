{
 "cells": [
  {
   "cell_type": "code",
   "execution_count": 1,
   "id": "5ebf21fa",
   "metadata": {},
   "outputs": [],
   "source": [
    "import os\n",
    "import shutil"
   ]
  },
  {
   "cell_type": "code",
   "execution_count": 2,
   "id": "837ee9e1",
   "metadata": {},
   "outputs": [
    {
     "name": "stdout",
     "output_type": "stream",
     "text": [
      "Enter your source path: C:\\Users\\user\\Desktop\\source\n",
      "Enter your destination path: C:\\Users\\user\\Desktop\\Dest\n"
     ]
    }
   ],
   "source": [
    "source_path = input('Enter your source path: ')\n",
    "dest_path = input('Enter your destination path: ')\n"
   ]
  },
  {
   "cell_type": "code",
   "execution_count": 3,
   "id": "3502122d",
   "metadata": {},
   "outputs": [
    {
     "data": {
      "text/plain": [
       "'C:\\\\Users\\\\user\\\\Desktop\\\\source'"
      ]
     },
     "execution_count": 3,
     "metadata": {},
     "output_type": "execute_result"
    }
   ],
   "source": [
    "source_path"
   ]
  },
  {
   "cell_type": "code",
   "execution_count": 4,
   "id": "45671c92",
   "metadata": {},
   "outputs": [
    {
     "data": {
      "text/plain": [
       "'C:\\\\Users\\\\user\\\\Desktop\\\\Dest'"
      ]
     },
     "execution_count": 4,
     "metadata": {},
     "output_type": "execute_result"
    }
   ],
   "source": [
    "dest_path"
   ]
  },
  {
   "cell_type": "code",
   "execution_count": 5,
   "id": "fa73b9d7",
   "metadata": {},
   "outputs": [
    {
     "data": {
      "text/plain": [
       "'C:\\\\Users\\\\user\\\\Desktop\\\\Grras Solutions Pvt. Ltd\\\\Data Science feb'"
      ]
     },
     "execution_count": 5,
     "metadata": {},
     "output_type": "execute_result"
    }
   ],
   "source": [
    "os.getcwd()"
   ]
  },
  {
   "cell_type": "code",
   "execution_count": null,
   "id": "253190ee",
   "metadata": {},
   "outputs": [],
   "source": []
  },
  {
   "cell_type": "code",
   "execution_count": 6,
   "id": "2a1d3537",
   "metadata": {},
   "outputs": [],
   "source": [
    "os.chdir(source_path)"
   ]
  },
  {
   "cell_type": "code",
   "execution_count": 7,
   "id": "d2968107",
   "metadata": {},
   "outputs": [
    {
     "data": {
      "text/plain": [
       "'C:\\\\Users\\\\user\\\\Desktop\\\\source'"
      ]
     },
     "execution_count": 7,
     "metadata": {},
     "output_type": "execute_result"
    }
   ],
   "source": [
    "os.getcwd()"
   ]
  },
  {
   "cell_type": "code",
   "execution_count": 9,
   "id": "e8878dfa",
   "metadata": {},
   "outputs": [
    {
     "data": {
      "text/plain": [
       "['Aditi_Garg_Resume - Copy (2).pdf',\n",
       " 'Aditi_Garg_Resume - Copy.pdf',\n",
       " 'Aditi_Garg_Resume.pdf',\n",
       " 'decision_model',\n",
       " 'decision_model - Copy',\n",
       " 'decision_model - Copy (2)',\n",
       " 'download (1) - Copy.png',\n",
       " 'download (1).png',\n",
       " 'download (2) - Copy.png',\n",
       " 'Python Calendar - Copy (2).pdf',\n",
       " 'Python Calendar - Copy.pdf',\n",
       " 'Python Calendar.pdf',\n",
       " 'sockets-tcp-flow - Copy (2).jpeg',\n",
       " 'sockets-tcp-flow - Copy.jpeg',\n",
       " 'sockets-tcp-flow.jpeg',\n",
       " 'Steps to create virtual environment - Copy (2).txt',\n",
       " 'Steps to create virtual environment - Copy.txt',\n",
       " 'Steps to create virtual environment.txt']"
      ]
     },
     "execution_count": 9,
     "metadata": {},
     "output_type": "execute_result"
    }
   ],
   "source": [
    "data = os.listdir()\n",
    "data"
   ]
  },
  {
   "cell_type": "code",
   "execution_count": 10,
   "id": "a0dc9658",
   "metadata": {},
   "outputs": [
    {
     "name": "stdout",
     "output_type": "stream",
     "text": [
      "C:\\Users\\user\\Desktop\\source\\Aditi_Garg_Resume - Copy (2).pdf\n",
      "C:\\Users\\user\\Desktop\\source\\Aditi_Garg_Resume - Copy.pdf\n",
      "C:\\Users\\user\\Desktop\\source\\Aditi_Garg_Resume.pdf\n",
      "C:\\Users\\user\\Desktop\\source\\decision_model\n",
      "C:\\Users\\user\\Desktop\\source\\decision_model - Copy\n",
      "C:\\Users\\user\\Desktop\\source\\decision_model - Copy (2)\n",
      "C:\\Users\\user\\Desktop\\source\\download (1) - Copy.png\n",
      "C:\\Users\\user\\Desktop\\source\\download (1).png\n",
      "C:\\Users\\user\\Desktop\\source\\download (2) - Copy.png\n",
      "C:\\Users\\user\\Desktop\\source\\Python Calendar - Copy (2).pdf\n",
      "C:\\Users\\user\\Desktop\\source\\Python Calendar - Copy.pdf\n",
      "C:\\Users\\user\\Desktop\\source\\Python Calendar.pdf\n",
      "C:\\Users\\user\\Desktop\\source\\sockets-tcp-flow - Copy (2).jpeg\n",
      "C:\\Users\\user\\Desktop\\source\\sockets-tcp-flow - Copy.jpeg\n",
      "C:\\Users\\user\\Desktop\\source\\sockets-tcp-flow.jpeg\n",
      "C:\\Users\\user\\Desktop\\source\\Steps to create virtual environment - Copy (2).txt\n",
      "C:\\Users\\user\\Desktop\\source\\Steps to create virtual environment - Copy.txt\n",
      "C:\\Users\\user\\Desktop\\source\\Steps to create virtual environment.txt\n"
     ]
    }
   ],
   "source": [
    "for i in data:\n",
    "    v = os.path.join(source_path, i)\n",
    "    print(v)"
   ]
  },
  {
   "cell_type": "code",
   "execution_count": null,
   "id": "582e1686",
   "metadata": {},
   "outputs": [],
   "source": []
  },
  {
   "cell_type": "code",
   "execution_count": 11,
   "id": "9a573ecc",
   "metadata": {},
   "outputs": [
    {
     "data": {
      "text/plain": [
       "['C:\\\\Users\\\\user\\\\Desktop\\\\source\\\\Aditi_Garg_Resume - Copy (2).pdf',\n",
       " 'C:\\\\Users\\\\user\\\\Desktop\\\\source\\\\Aditi_Garg_Resume - Copy.pdf',\n",
       " 'C:\\\\Users\\\\user\\\\Desktop\\\\source\\\\Aditi_Garg_Resume.pdf',\n",
       " 'C:\\\\Users\\\\user\\\\Desktop\\\\source\\\\decision_model',\n",
       " 'C:\\\\Users\\\\user\\\\Desktop\\\\source\\\\decision_model - Copy',\n",
       " 'C:\\\\Users\\\\user\\\\Desktop\\\\source\\\\decision_model - Copy (2)',\n",
       " 'C:\\\\Users\\\\user\\\\Desktop\\\\source\\\\download (1) - Copy.png',\n",
       " 'C:\\\\Users\\\\user\\\\Desktop\\\\source\\\\download (1).png',\n",
       " 'C:\\\\Users\\\\user\\\\Desktop\\\\source\\\\download (2) - Copy.png',\n",
       " 'C:\\\\Users\\\\user\\\\Desktop\\\\source\\\\Python Calendar - Copy (2).pdf',\n",
       " 'C:\\\\Users\\\\user\\\\Desktop\\\\source\\\\Python Calendar - Copy.pdf',\n",
       " 'C:\\\\Users\\\\user\\\\Desktop\\\\source\\\\Python Calendar.pdf',\n",
       " 'C:\\\\Users\\\\user\\\\Desktop\\\\source\\\\sockets-tcp-flow - Copy (2).jpeg',\n",
       " 'C:\\\\Users\\\\user\\\\Desktop\\\\source\\\\sockets-tcp-flow - Copy.jpeg',\n",
       " 'C:\\\\Users\\\\user\\\\Desktop\\\\source\\\\sockets-tcp-flow.jpeg',\n",
       " 'C:\\\\Users\\\\user\\\\Desktop\\\\source\\\\Steps to create virtual environment - Copy (2).txt',\n",
       " 'C:\\\\Users\\\\user\\\\Desktop\\\\source\\\\Steps to create virtual environment - Copy.txt',\n",
       " 'C:\\\\Users\\\\user\\\\Desktop\\\\source\\\\Steps to create virtual environment.txt']"
      ]
     },
     "execution_count": 11,
     "metadata": {},
     "output_type": "execute_result"
    }
   ],
   "source": [
    "d = [os.path.join(source_path, i) for i in data]\n",
    "d"
   ]
  },
  {
   "cell_type": "code",
   "execution_count": 12,
   "id": "3e0a5379",
   "metadata": {},
   "outputs": [
    {
     "data": {
      "text/plain": [
       "'C:\\\\Users\\\\user\\\\Desktop\\\\source\\\\Aditi_Garg_Resume - Copy (2).pdf'"
      ]
     },
     "execution_count": 12,
     "metadata": {},
     "output_type": "execute_result"
    }
   ],
   "source": [
    "d[0]"
   ]
  },
  {
   "cell_type": "code",
   "execution_count": 13,
   "id": "033586e6",
   "metadata": {},
   "outputs": [
    {
     "data": {
      "text/plain": [
       "True"
      ]
     },
     "execution_count": 13,
     "metadata": {},
     "output_type": "execute_result"
    }
   ],
   "source": [
    "os.path.isfile(d[0])"
   ]
  },
  {
   "cell_type": "code",
   "execution_count": 14,
   "id": "cf36a76c",
   "metadata": {},
   "outputs": [
    {
     "data": {
      "text/plain": [
       "'C:\\\\Users\\\\user\\\\Desktop\\\\source\\\\decision_model'"
      ]
     },
     "execution_count": 14,
     "metadata": {},
     "output_type": "execute_result"
    }
   ],
   "source": [
    "d[3]"
   ]
  },
  {
   "cell_type": "code",
   "execution_count": 15,
   "id": "c4f6916f",
   "metadata": {},
   "outputs": [
    {
     "data": {
      "text/plain": [
       "False"
      ]
     },
     "execution_count": 15,
     "metadata": {},
     "output_type": "execute_result"
    }
   ],
   "source": [
    "os.path.isfile(d[3])"
   ]
  },
  {
   "cell_type": "code",
   "execution_count": 16,
   "id": "0fa05beb",
   "metadata": {},
   "outputs": [
    {
     "data": {
      "text/plain": [
       "True"
      ]
     },
     "execution_count": 16,
     "metadata": {},
     "output_type": "execute_result"
    }
   ],
   "source": [
    "os.path.isdir(d[3])"
   ]
  },
  {
   "cell_type": "code",
   "execution_count": null,
   "id": "8cf0bc29",
   "metadata": {},
   "outputs": [],
   "source": []
  },
  {
   "cell_type": "code",
   "execution_count": 17,
   "id": "53e97186",
   "metadata": {},
   "outputs": [
    {
     "data": {
      "text/plain": [
       "['C:\\\\Users\\\\user\\\\Desktop\\\\source\\\\Aditi_Garg_Resume - Copy (2).pdf',\n",
       " 'C:\\\\Users\\\\user\\\\Desktop\\\\source\\\\Aditi_Garg_Resume - Copy.pdf',\n",
       " 'C:\\\\Users\\\\user\\\\Desktop\\\\source\\\\Aditi_Garg_Resume.pdf',\n",
       " 'C:\\\\Users\\\\user\\\\Desktop\\\\source\\\\decision_model',\n",
       " 'C:\\\\Users\\\\user\\\\Desktop\\\\source\\\\decision_model - Copy',\n",
       " 'C:\\\\Users\\\\user\\\\Desktop\\\\source\\\\decision_model - Copy (2)',\n",
       " 'C:\\\\Users\\\\user\\\\Desktop\\\\source\\\\download (1) - Copy.png',\n",
       " 'C:\\\\Users\\\\user\\\\Desktop\\\\source\\\\download (1).png',\n",
       " 'C:\\\\Users\\\\user\\\\Desktop\\\\source\\\\download (2) - Copy.png',\n",
       " 'C:\\\\Users\\\\user\\\\Desktop\\\\source\\\\Python Calendar - Copy (2).pdf',\n",
       " 'C:\\\\Users\\\\user\\\\Desktop\\\\source\\\\Python Calendar - Copy.pdf',\n",
       " 'C:\\\\Users\\\\user\\\\Desktop\\\\source\\\\Python Calendar.pdf',\n",
       " 'C:\\\\Users\\\\user\\\\Desktop\\\\source\\\\sockets-tcp-flow - Copy (2).jpeg',\n",
       " 'C:\\\\Users\\\\user\\\\Desktop\\\\source\\\\sockets-tcp-flow - Copy.jpeg',\n",
       " 'C:\\\\Users\\\\user\\\\Desktop\\\\source\\\\sockets-tcp-flow.jpeg',\n",
       " 'C:\\\\Users\\\\user\\\\Desktop\\\\source\\\\Steps to create virtual environment - Copy (2).txt',\n",
       " 'C:\\\\Users\\\\user\\\\Desktop\\\\source\\\\Steps to create virtual environment - Copy.txt',\n",
       " 'C:\\\\Users\\\\user\\\\Desktop\\\\source\\\\Steps to create virtual environment.txt']"
      ]
     },
     "execution_count": 17,
     "metadata": {},
     "output_type": "execute_result"
    }
   ],
   "source": [
    "d"
   ]
  },
  {
   "cell_type": "code",
   "execution_count": 18,
   "id": "89a4eeb8",
   "metadata": {},
   "outputs": [
    {
     "name": "stdout",
     "output_type": "stream",
     "text": [
      "C:\\Users\\user\\Desktop\\source\\Aditi_Garg_Resume - Copy (2).pdf\n",
      "C:\\Users\\user\\Desktop\\source\\Aditi_Garg_Resume - Copy.pdf\n",
      "C:\\Users\\user\\Desktop\\source\\Aditi_Garg_Resume.pdf\n",
      "C:\\Users\\user\\Desktop\\source\\download (1) - Copy.png\n",
      "C:\\Users\\user\\Desktop\\source\\download (1).png\n",
      "C:\\Users\\user\\Desktop\\source\\download (2) - Copy.png\n",
      "C:\\Users\\user\\Desktop\\source\\Python Calendar - Copy (2).pdf\n",
      "C:\\Users\\user\\Desktop\\source\\Python Calendar - Copy.pdf\n",
      "C:\\Users\\user\\Desktop\\source\\Python Calendar.pdf\n",
      "C:\\Users\\user\\Desktop\\source\\sockets-tcp-flow - Copy (2).jpeg\n",
      "C:\\Users\\user\\Desktop\\source\\sockets-tcp-flow - Copy.jpeg\n",
      "C:\\Users\\user\\Desktop\\source\\sockets-tcp-flow.jpeg\n",
      "C:\\Users\\user\\Desktop\\source\\Steps to create virtual environment - Copy (2).txt\n",
      "C:\\Users\\user\\Desktop\\source\\Steps to create virtual environment - Copy.txt\n",
      "C:\\Users\\user\\Desktop\\source\\Steps to create virtual environment.txt\n"
     ]
    }
   ],
   "source": [
    "for i in d:\n",
    "    if os.path.isfile(i):\n",
    "        print(i)"
   ]
  },
  {
   "cell_type": "code",
   "execution_count": null,
   "id": "a0064e48",
   "metadata": {},
   "outputs": [],
   "source": []
  },
  {
   "cell_type": "code",
   "execution_count": 22,
   "id": "e1063932",
   "metadata": {},
   "outputs": [],
   "source": [
    "s = list(filter(os.path.isfile, d))"
   ]
  },
  {
   "cell_type": "code",
   "execution_count": 23,
   "id": "a94c0e46",
   "metadata": {},
   "outputs": [
    {
     "name": "stdout",
     "output_type": "stream",
     "text": [
      "['C:\\\\Users\\\\user\\\\Desktop\\\\source\\\\Aditi_Garg_Resume - Copy (2).pdf', 'C:\\\\Users\\\\user\\\\Desktop\\\\source\\\\Aditi_Garg_Resume - Copy.pdf', 'C:\\\\Users\\\\user\\\\Desktop\\\\source\\\\Aditi_Garg_Resume.pdf', 'C:\\\\Users\\\\user\\\\Desktop\\\\source\\\\download (1) - Copy.png', 'C:\\\\Users\\\\user\\\\Desktop\\\\source\\\\download (1).png', 'C:\\\\Users\\\\user\\\\Desktop\\\\source\\\\download (2) - Copy.png', 'C:\\\\Users\\\\user\\\\Desktop\\\\source\\\\Python Calendar - Copy (2).pdf', 'C:\\\\Users\\\\user\\\\Desktop\\\\source\\\\Python Calendar - Copy.pdf', 'C:\\\\Users\\\\user\\\\Desktop\\\\source\\\\Python Calendar.pdf', 'C:\\\\Users\\\\user\\\\Desktop\\\\source\\\\sockets-tcp-flow - Copy (2).jpeg', 'C:\\\\Users\\\\user\\\\Desktop\\\\source\\\\sockets-tcp-flow - Copy.jpeg', 'C:\\\\Users\\\\user\\\\Desktop\\\\source\\\\sockets-tcp-flow.jpeg', 'C:\\\\Users\\\\user\\\\Desktop\\\\source\\\\Steps to create virtual environment - Copy (2).txt', 'C:\\\\Users\\\\user\\\\Desktop\\\\source\\\\Steps to create virtual environment - Copy.txt', 'C:\\\\Users\\\\user\\\\Desktop\\\\source\\\\Steps to create virtual environment.txt']\n"
     ]
    }
   ],
   "source": [
    "print(s)"
   ]
  },
  {
   "cell_type": "code",
   "execution_count": 24,
   "id": "2cb305af",
   "metadata": {},
   "outputs": [
    {
     "data": {
      "text/plain": [
       "'C:\\\\Users\\\\user\\\\Desktop\\\\source\\\\Aditi_Garg_Resume - Copy (2).pdf'"
      ]
     },
     "execution_count": 24,
     "metadata": {},
     "output_type": "execute_result"
    }
   ],
   "source": [
    "s[0]"
   ]
  },
  {
   "cell_type": "code",
   "execution_count": 25,
   "id": "68589f9a",
   "metadata": {},
   "outputs": [
    {
     "data": {
      "text/plain": [
       "'C:\\\\Users\\\\user\\\\Desktop\\\\Dest\\\\Aditi_Garg_Resume - Copy (2).pdf'"
      ]
     },
     "execution_count": 25,
     "metadata": {},
     "output_type": "execute_result"
    }
   ],
   "source": [
    "shutil.move(s[0], dest_path)"
   ]
  },
  {
   "cell_type": "code",
   "execution_count": null,
   "id": "9478fd64",
   "metadata": {},
   "outputs": [],
   "source": []
  },
  {
   "cell_type": "code",
   "execution_count": 26,
   "id": "eda85017",
   "metadata": {},
   "outputs": [],
   "source": [
    "for i in s:\n",
    "    shutil.move(i, dest_path)"
   ]
  },
  {
   "cell_type": "code",
   "execution_count": null,
   "id": "0cb8dc71",
   "metadata": {},
   "outputs": [],
   "source": []
  },
  {
   "cell_type": "code",
   "execution_count": null,
   "id": "a4d5948c",
   "metadata": {},
   "outputs": [],
   "source": []
  },
  {
   "cell_type": "code",
   "execution_count": 27,
   "id": "baa164c2",
   "metadata": {},
   "outputs": [
    {
     "name": "stdout",
     "output_type": "stream",
     "text": [
      "['COPY_BUFSIZE', 'Error', 'ExecError', 'ReadError', 'RegistryError', 'SameFileError', 'SpecialFileError', '_ARCHIVE_FORMATS', '_BZ2_SUPPORTED', '_GiveupOnFastCopy', '_HAS_FCOPYFILE', '_LZMA_SUPPORTED', '_UNPACK_FORMATS', '_USE_CP_SENDFILE', '_WINDOWS', '_WIN_DEFAULT_PATHEXT', '_ZLIB_SUPPORTED', '__all__', '__builtins__', '__cached__', '__doc__', '__file__', '__loader__', '__name__', '__package__', '__spec__', '_access_check', '_basename', '_check_unpack_options', '_copyfileobj_readinto', '_copytree', '_copyxattr', '_destinsrc', '_ensure_directory', '_fastcopy_fcopyfile', '_fastcopy_sendfile', '_find_unpack_format', '_get_gid', '_get_uid', '_is_immutable', '_islink', '_make_tarball', '_make_zipfile', '_ntuple_diskusage', '_rmtree_isdir', '_rmtree_islink', '_rmtree_safe_fd', '_rmtree_unsafe', '_samefile', '_stat', '_unpack_tarfile', '_unpack_zipfile', '_use_fd_functions', 'chown', 'collections', 'copy', 'copy2', 'copyfile', 'copyfileobj', 'copymode', 'copystat', 'copytree', 'disk_usage', 'errno', 'fnmatch', 'get_archive_formats', 'get_terminal_size', 'get_unpack_formats', 'ignore_patterns', 'make_archive', 'move', 'nt', 'os', 'posix', 'register_archive_format', 'register_unpack_format', 'rmtree', 'stat', 'sys', 'unpack_archive', 'unregister_archive_format', 'unregister_unpack_format', 'which']\n"
     ]
    }
   ],
   "source": [
    "print(dir(shutil))"
   ]
  },
  {
   "cell_type": "code",
   "execution_count": 28,
   "id": "5e5f0c4f",
   "metadata": {},
   "outputs": [
    {
     "name": "stdout",
     "output_type": "stream",
     "text": [
      "['DirEntry', 'F_OK', 'GenericAlias', 'Mapping', 'MutableMapping', 'O_APPEND', 'O_BINARY', 'O_CREAT', 'O_EXCL', 'O_NOINHERIT', 'O_RANDOM', 'O_RDONLY', 'O_RDWR', 'O_SEQUENTIAL', 'O_SHORT_LIVED', 'O_TEMPORARY', 'O_TEXT', 'O_TRUNC', 'O_WRONLY', 'P_DETACH', 'P_NOWAIT', 'P_NOWAITO', 'P_OVERLAY', 'P_WAIT', 'PathLike', 'R_OK', 'SEEK_CUR', 'SEEK_END', 'SEEK_SET', 'TMP_MAX', 'W_OK', 'X_OK', '_AddedDllDirectory', '_Environ', '__all__', '__builtins__', '__cached__', '__doc__', '__file__', '__loader__', '__name__', '__package__', '__spec__', '_check_methods', '_execvpe', '_exists', '_exit', '_fspath', '_get_exports_list', '_walk', '_wrap_close', 'abc', 'abort', 'access', 'add_dll_directory', 'altsep', 'chdir', 'chmod', 'close', 'closerange', 'cpu_count', 'curdir', 'defpath', 'device_encoding', 'devnull', 'dup', 'dup2', 'environ', 'error', 'execl', 'execle', 'execlp', 'execlpe', 'execv', 'execve', 'execvp', 'execvpe', 'extsep', 'fdopen', 'fsdecode', 'fsencode', 'fspath', 'fstat', 'fsync', 'ftruncate', 'get_exec_path', 'get_handle_inheritable', 'get_inheritable', 'get_terminal_size', 'getcwd', 'getcwdb', 'getenv', 'getlogin', 'getpid', 'getppid', 'isatty', 'kill', 'linesep', 'link', 'listdir', 'lseek', 'lstat', 'makedirs', 'mkdir', 'name', 'open', 'pardir', 'path', 'pathsep', 'pipe', 'popen', 'putenv', 'read', 'readlink', 'remove', 'removedirs', 'rename', 'renames', 'replace', 'rmdir', 'scandir', 'sep', 'set_handle_inheritable', 'set_inheritable', 'spawnl', 'spawnle', 'spawnv', 'spawnve', 'st', 'startfile', 'stat', 'stat_result', 'statvfs_result', 'strerror', 'supports_bytes_environ', 'supports_dir_fd', 'supports_effective_ids', 'supports_fd', 'supports_follow_symlinks', 'symlink', 'sys', 'system', 'terminal_size', 'times', 'times_result', 'truncate', 'umask', 'uname_result', 'unlink', 'unsetenv', 'urandom', 'utime', 'waitpid', 'waitstatus_to_exitcode', 'walk', 'write']\n"
     ]
    }
   ],
   "source": [
    "print(dir(os))"
   ]
  },
  {
   "cell_type": "code",
   "execution_count": null,
   "id": "518321d3",
   "metadata": {},
   "outputs": [],
   "source": []
  },
  {
   "cell_type": "code",
   "execution_count": 30,
   "id": "62d48e41",
   "metadata": {},
   "outputs": [
    {
     "data": {
      "text/plain": [
       "usage(total=255011581952, used=156846661632, free=98164920320)"
      ]
     },
     "execution_count": 30,
     "metadata": {},
     "output_type": "execute_result"
    }
   ],
   "source": [
    "data = shutil.disk_usage('C:')\n",
    "data"
   ]
  },
  {
   "cell_type": "code",
   "execution_count": 34,
   "id": "d4aa30e9",
   "metadata": {},
   "outputs": [
    {
     "data": {
      "text/plain": [
       "237.49804306030273"
      ]
     },
     "execution_count": 34,
     "metadata": {},
     "output_type": "execute_result"
    }
   ],
   "source": [
    "data.total / 1024 / 1024 / 1024"
   ]
  },
  {
   "cell_type": "code",
   "execution_count": 35,
   "id": "14df81f4",
   "metadata": {},
   "outputs": [
    {
     "data": {
      "text/plain": [
       "146.07483673095703"
      ]
     },
     "execution_count": 35,
     "metadata": {},
     "output_type": "execute_result"
    }
   ],
   "source": [
    "data.used / 1024 / 1024 / 1024"
   ]
  },
  {
   "cell_type": "code",
   "execution_count": 36,
   "id": "324cd226",
   "metadata": {},
   "outputs": [
    {
     "data": {
      "text/plain": [
       "91.4232063293457"
      ]
     },
     "execution_count": 36,
     "metadata": {},
     "output_type": "execute_result"
    }
   ],
   "source": [
    "data.free / 1024 / 1024 / 1024"
   ]
  },
  {
   "cell_type": "code",
   "execution_count": null,
   "id": "656764fa",
   "metadata": {},
   "outputs": [],
   "source": []
  },
  {
   "cell_type": "code",
   "execution_count": null,
   "id": "f88b07cc",
   "metadata": {},
   "outputs": [],
   "source": []
  },
  {
   "cell_type": "code",
   "execution_count": 37,
   "id": "578894d3",
   "metadata": {},
   "outputs": [
    {
     "data": {
      "text/plain": [
       "[2, 4, 6, 8, 10]"
      ]
     },
     "execution_count": 37,
     "metadata": {},
     "output_type": "execute_result"
    }
   ],
   "source": [
    "[i for i in range(1,11) if i % 2 == 0]"
   ]
  },
  {
   "cell_type": "code",
   "execution_count": null,
   "id": "e40e6f73",
   "metadata": {},
   "outputs": [],
   "source": [
    "[i for i in range(1,11) if i % 2 == 0]"
   ]
  }
 ],
 "metadata": {
  "kernelspec": {
   "display_name": "Python 3 (ipykernel)",
   "language": "python",
   "name": "python3"
  },
  "language_info": {
   "codemirror_mode": {
    "name": "ipython",
    "version": 3
   },
   "file_extension": ".py",
   "mimetype": "text/x-python",
   "name": "python",
   "nbconvert_exporter": "python",
   "pygments_lexer": "ipython3",
   "version": "3.10.9"
  }
 },
 "nbformat": 4,
 "nbformat_minor": 5
}
